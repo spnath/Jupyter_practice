{
 "cells": [
  {
   "cell_type": "code",
   "execution_count": null,
   "id": "fc14ed0a",
   "metadata": {},
   "outputs": [
    {
     "name": "stdout",
     "output_type": "stream",
     "text": [
      "Enter your number:-- 33\n",
      "Your Guess number is to low\n",
      "Computer number 91\n",
      "Enter your number:-- 55\n",
      "Your Guess number is to high\n",
      "Computer number 13\n",
      "Enter your number:-- 44\n",
      "Your Guess number is to low\n",
      "Computer number 51\n",
      "Enter your number:-- 55\n",
      "Your Guess number is to high\n",
      "Computer number 42\n",
      "Enter your number:-- 99\n",
      "Your Guess number is to high\n",
      "Computer number 91\n",
      "Enter your number:-- 91\n",
      "Your Guess number is to high\n",
      "Computer number 28\n",
      "Enter your number:-- 33\n",
      "Your Guess number is to low\n",
      "Computer number 66\n",
      "Enter your number:-- 48\n",
      "Your Guess number is to high\n",
      "Computer number 12\n",
      "Enter your number:-- 101\n",
      "Your Guess number is to high\n",
      "Computer number 98\n",
      "Enter your number:-- 145\n",
      "Your Guess number is to high\n",
      "Computer number 92\n",
      "Enter your number:-- 55\n",
      "Your Guess number is to low\n",
      "Computer number 94\n"
     ]
    }
   ],
   "source": [
    "while True:\n",
    "    \n",
    "    import random\n",
    "    Cnumber=random.randrange(1,101)\n",
    "    userInput=int(input(\"Enter your number:-- \"))\n",
    "    if userInput>Cnumber:\n",
    "        print(\"Your Guess number is to high\")\n",
    "        print(\"Computer number\", Cnumber)\n",
    "    elif userInput<Cnumber:\n",
    "        print(\"Your Guess number is to low\")\n",
    "        print(\"Computer number\", Cnumber)\n",
    "    else:\n",
    "        print(\"Your Guess number is Equal\")\n",
    "        print(\"Computer number\", Cnumber)\n",
    "    "
   ]
  },
  {
   "cell_type": "code",
   "execution_count": null,
   "id": "045c6570",
   "metadata": {},
   "outputs": [],
   "source": []
  }
 ],
 "metadata": {
  "kernelspec": {
   "display_name": "Python 3 (ipykernel)",
   "language": "python",
   "name": "python3"
  },
  "language_info": {
   "codemirror_mode": {
    "name": "ipython",
    "version": 3
   },
   "file_extension": ".py",
   "mimetype": "text/x-python",
   "name": "python",
   "nbconvert_exporter": "python",
   "pygments_lexer": "ipython3",
   "version": "3.10.9"
  }
 },
 "nbformat": 4,
 "nbformat_minor": 5
}
