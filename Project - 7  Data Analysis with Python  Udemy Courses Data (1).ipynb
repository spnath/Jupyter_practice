{
 "cells": [
  {
   "cell_type": "markdown",
   "id": "7dec6db0",
   "metadata": {},
   "source": [
    "# Udemy Courses Data"
   ]
  },
  {
   "cell_type": "markdown",
   "id": "eef7bcd3",
   "metadata": {},
   "source": [
    "# Working on Real-Time Project with Python on  'Udemy Courses Datasets'\n",
    "(A Part of Big Data Analysis)"
   ]
  },
  {
   "cell_type": "raw",
   "id": "e2a22ba0",
   "metadata": {},
   "source": [
    "This data set contains all courses data for all subjects\n",
    "We will analysis this data using the Pandas Library\n",
    "Here, the questions are given for the practice for the learning purpose"
   ]
  },
  {
   "cell_type": "code",
   "execution_count": 4,
   "id": "0b7c56c7",
   "metadata": {},
   "outputs": [],
   "source": [
    "import pandas as pd\n",
    "import matplotlib.pyplot as plt\n",
    "import seaborn as sns\n",
    "import numpy as np"
   ]
  },
  {
   "cell_type": "code",
   "execution_count": 5,
   "id": "97f2b21a",
   "metadata": {},
   "outputs": [
    {
     "data": {
      "text/html": [
       "<div>\n",
       "<style scoped>\n",
       "    .dataframe tbody tr th:only-of-type {\n",
       "        vertical-align: middle;\n",
       "    }\n",
       "\n",
       "    .dataframe tbody tr th {\n",
       "        vertical-align: top;\n",
       "    }\n",
       "\n",
       "    .dataframe thead th {\n",
       "        text-align: right;\n",
       "    }\n",
       "</style>\n",
       "<table border=\"1\" class=\"dataframe\">\n",
       "  <thead>\n",
       "    <tr style=\"text-align: right;\">\n",
       "      <th></th>\n",
       "      <th>course_id</th>\n",
       "      <th>course_title</th>\n",
       "      <th>is_paid</th>\n",
       "      <th>price</th>\n",
       "      <th>num_subscribers</th>\n",
       "      <th>num_reviews</th>\n",
       "      <th>num_lectures</th>\n",
       "      <th>level</th>\n",
       "      <th>content_duration</th>\n",
       "      <th>published_timestamp</th>\n",
       "      <th>subject</th>\n",
       "    </tr>\n",
       "  </thead>\n",
       "  <tbody>\n",
       "    <tr>\n",
       "      <th>0</th>\n",
       "      <td>288942</td>\n",
       "      <td>#1 Piano Hand Coordination: Play 10th Ballad i...</td>\n",
       "      <td>True</td>\n",
       "      <td>35</td>\n",
       "      <td>3137</td>\n",
       "      <td>18</td>\n",
       "      <td>68</td>\n",
       "      <td>All Levels</td>\n",
       "      <td>1.5 hours</td>\n",
       "      <td>2014-09-18T05:07:05Z</td>\n",
       "      <td>Musical Instruments</td>\n",
       "    </tr>\n",
       "    <tr>\n",
       "      <th>1</th>\n",
       "      <td>1170074</td>\n",
       "      <td>#10 Hand Coordination - Transfer Chord Ballad ...</td>\n",
       "      <td>True</td>\n",
       "      <td>75</td>\n",
       "      <td>1593</td>\n",
       "      <td>1</td>\n",
       "      <td>41</td>\n",
       "      <td>Intermediate Level</td>\n",
       "      <td>1 hour</td>\n",
       "      <td>2017-04-12T19:06:34Z</td>\n",
       "      <td>Musical Instruments</td>\n",
       "    </tr>\n",
       "    <tr>\n",
       "      <th>2</th>\n",
       "      <td>1193886</td>\n",
       "      <td>#12 Hand Coordination: Let your Hands dance wi...</td>\n",
       "      <td>True</td>\n",
       "      <td>75</td>\n",
       "      <td>482</td>\n",
       "      <td>1</td>\n",
       "      <td>47</td>\n",
       "      <td>Intermediate Level</td>\n",
       "      <td>1.5 hours</td>\n",
       "      <td>2017-04-26T18:34:57Z</td>\n",
       "      <td>Musical Instruments</td>\n",
       "    </tr>\n",
       "    <tr>\n",
       "      <th>3</th>\n",
       "      <td>1116700</td>\n",
       "      <td>#4 Piano Hand Coordination: Fun Piano Runs in ...</td>\n",
       "      <td>True</td>\n",
       "      <td>75</td>\n",
       "      <td>850</td>\n",
       "      <td>3</td>\n",
       "      <td>43</td>\n",
       "      <td>Intermediate Level</td>\n",
       "      <td>1 hour</td>\n",
       "      <td>2017-02-21T23:48:18Z</td>\n",
       "      <td>Musical Instruments</td>\n",
       "    </tr>\n",
       "    <tr>\n",
       "      <th>4</th>\n",
       "      <td>1120410</td>\n",
       "      <td>#5  Piano Hand Coordination:  Piano Runs in 2 ...</td>\n",
       "      <td>True</td>\n",
       "      <td>75</td>\n",
       "      <td>940</td>\n",
       "      <td>3</td>\n",
       "      <td>32</td>\n",
       "      <td>Intermediate Level</td>\n",
       "      <td>37 mins</td>\n",
       "      <td>2017-02-21T23:44:49Z</td>\n",
       "      <td>Musical Instruments</td>\n",
       "    </tr>\n",
       "    <tr>\n",
       "      <th>...</th>\n",
       "      <td>...</td>\n",
       "      <td>...</td>\n",
       "      <td>...</td>\n",
       "      <td>...</td>\n",
       "      <td>...</td>\n",
       "      <td>...</td>\n",
       "      <td>...</td>\n",
       "      <td>...</td>\n",
       "      <td>...</td>\n",
       "      <td>...</td>\n",
       "      <td>...</td>\n",
       "    </tr>\n",
       "    <tr>\n",
       "      <th>3677</th>\n",
       "      <td>328960</td>\n",
       "      <td>Your Own Site in 45 Min: The Complete Wordpres...</td>\n",
       "      <td>True</td>\n",
       "      <td>120</td>\n",
       "      <td>1566</td>\n",
       "      <td>29</td>\n",
       "      <td>36</td>\n",
       "      <td>All Levels</td>\n",
       "      <td>4 hours</td>\n",
       "      <td>2015-04-20T22:15:17Z</td>\n",
       "      <td>Web Development</td>\n",
       "    </tr>\n",
       "    <tr>\n",
       "      <th>3678</th>\n",
       "      <td>552700</td>\n",
       "      <td>Your Second Course on Piano: Two Handed Playing</td>\n",
       "      <td>True</td>\n",
       "      <td>70</td>\n",
       "      <td>1018</td>\n",
       "      <td>12</td>\n",
       "      <td>22</td>\n",
       "      <td>Beginner Level</td>\n",
       "      <td>5 hours</td>\n",
       "      <td>2015-10-26T20:04:21Z</td>\n",
       "      <td>Musical Instruments</td>\n",
       "    </tr>\n",
       "    <tr>\n",
       "      <th>3679</th>\n",
       "      <td>631754</td>\n",
       "      <td>Zend Framework 2: Learn the PHP framework ZF2 ...</td>\n",
       "      <td>True</td>\n",
       "      <td>40</td>\n",
       "      <td>723</td>\n",
       "      <td>130</td>\n",
       "      <td>37</td>\n",
       "      <td>All Levels</td>\n",
       "      <td>6.5 hours</td>\n",
       "      <td>2015-11-11T18:55:45Z</td>\n",
       "      <td>Web Development</td>\n",
       "    </tr>\n",
       "    <tr>\n",
       "      <th>3680</th>\n",
       "      <td>1225194</td>\n",
       "      <td>Zoho Books Gestion Financière d'Entreprise pas...</td>\n",
       "      <td>False</td>\n",
       "      <td>Free</td>\n",
       "      <td>229</td>\n",
       "      <td>0</td>\n",
       "      <td>33</td>\n",
       "      <td>All Levels</td>\n",
       "      <td>2 hours</td>\n",
       "      <td>2017-05-26T16:45:55Z</td>\n",
       "      <td>Business Finance</td>\n",
       "    </tr>\n",
       "    <tr>\n",
       "      <th>3681</th>\n",
       "      <td>964478</td>\n",
       "      <td>Zombie Apocalypse Photoshop Actions</td>\n",
       "      <td>True</td>\n",
       "      <td>50</td>\n",
       "      <td>12</td>\n",
       "      <td>1</td>\n",
       "      <td>15</td>\n",
       "      <td>All Levels</td>\n",
       "      <td>1.5 hours</td>\n",
       "      <td>2016-09-26T22:19:48Z</td>\n",
       "      <td>Graphic Design</td>\n",
       "    </tr>\n",
       "  </tbody>\n",
       "</table>\n",
       "<p>3682 rows × 11 columns</p>\n",
       "</div>"
      ],
      "text/plain": [
       "      course_id                                       course_title  is_paid  \\\n",
       "0        288942  #1 Piano Hand Coordination: Play 10th Ballad i...     True   \n",
       "1       1170074  #10 Hand Coordination - Transfer Chord Ballad ...     True   \n",
       "2       1193886  #12 Hand Coordination: Let your Hands dance wi...     True   \n",
       "3       1116700  #4 Piano Hand Coordination: Fun Piano Runs in ...     True   \n",
       "4       1120410  #5  Piano Hand Coordination:  Piano Runs in 2 ...     True   \n",
       "...         ...                                                ...      ...   \n",
       "3677     328960  Your Own Site in 45 Min: The Complete Wordpres...     True   \n",
       "3678     552700    Your Second Course on Piano: Two Handed Playing     True   \n",
       "3679     631754  Zend Framework 2: Learn the PHP framework ZF2 ...     True   \n",
       "3680    1225194  Zoho Books Gestion Financière d'Entreprise pas...    False   \n",
       "3681     964478                Zombie Apocalypse Photoshop Actions     True   \n",
       "\n",
       "     price  num_subscribers  num_reviews  num_lectures               level  \\\n",
       "0       35             3137           18            68          All Levels   \n",
       "1       75             1593            1            41  Intermediate Level   \n",
       "2       75              482            1            47  Intermediate Level   \n",
       "3       75              850            3            43  Intermediate Level   \n",
       "4       75              940            3            32  Intermediate Level   \n",
       "...    ...              ...          ...           ...                 ...   \n",
       "3677   120             1566           29            36          All Levels   \n",
       "3678    70             1018           12            22      Beginner Level   \n",
       "3679    40              723          130            37          All Levels   \n",
       "3680  Free              229            0            33          All Levels   \n",
       "3681    50               12            1            15          All Levels   \n",
       "\n",
       "     content_duration   published_timestamp              subject  \n",
       "0           1.5 hours  2014-09-18T05:07:05Z  Musical Instruments  \n",
       "1              1 hour  2017-04-12T19:06:34Z  Musical Instruments  \n",
       "2           1.5 hours  2017-04-26T18:34:57Z  Musical Instruments  \n",
       "3              1 hour  2017-02-21T23:48:18Z  Musical Instruments  \n",
       "4             37 mins  2017-02-21T23:44:49Z  Musical Instruments  \n",
       "...               ...                   ...                  ...  \n",
       "3677          4 hours  2015-04-20T22:15:17Z      Web Development  \n",
       "3678          5 hours  2015-10-26T20:04:21Z  Musical Instruments  \n",
       "3679        6.5 hours  2015-11-11T18:55:45Z      Web Development  \n",
       "3680          2 hours  2017-05-26T16:45:55Z     Business Finance  \n",
       "3681        1.5 hours  2016-09-26T22:19:48Z       Graphic Design  \n",
       "\n",
       "[3682 rows x 11 columns]"
      ]
     },
     "execution_count": 5,
     "metadata": {},
     "output_type": "execute_result"
    }
   ],
   "source": [
    "data=pd.read_csv(r'D:\\DA-2023\\DATA LOVERS PROJECT\\7. Udemy Courses.csv')\n",
    "data"
   ]
  },
  {
   "cell_type": "code",
   "execution_count": 6,
   "id": "58a5e57d",
   "metadata": {},
   "outputs": [
    {
     "data": {
      "text/html": [
       "<div>\n",
       "<style scoped>\n",
       "    .dataframe tbody tr th:only-of-type {\n",
       "        vertical-align: middle;\n",
       "    }\n",
       "\n",
       "    .dataframe tbody tr th {\n",
       "        vertical-align: top;\n",
       "    }\n",
       "\n",
       "    .dataframe thead th {\n",
       "        text-align: right;\n",
       "    }\n",
       "</style>\n",
       "<table border=\"1\" class=\"dataframe\">\n",
       "  <thead>\n",
       "    <tr style=\"text-align: right;\">\n",
       "      <th></th>\n",
       "      <th>course_id</th>\n",
       "      <th>course_title</th>\n",
       "      <th>is_paid</th>\n",
       "      <th>price</th>\n",
       "      <th>num_subscribers</th>\n",
       "      <th>num_reviews</th>\n",
       "      <th>num_lectures</th>\n",
       "      <th>level</th>\n",
       "      <th>content_duration</th>\n",
       "      <th>published_timestamp</th>\n",
       "      <th>subject</th>\n",
       "    </tr>\n",
       "  </thead>\n",
       "  <tbody>\n",
       "    <tr>\n",
       "      <th>0</th>\n",
       "      <td>288942</td>\n",
       "      <td>#1 Piano Hand Coordination: Play 10th Ballad i...</td>\n",
       "      <td>True</td>\n",
       "      <td>35</td>\n",
       "      <td>3137</td>\n",
       "      <td>18</td>\n",
       "      <td>68</td>\n",
       "      <td>All Levels</td>\n",
       "      <td>1.5 hours</td>\n",
       "      <td>2014-09-18T05:07:05Z</td>\n",
       "      <td>Musical Instruments</td>\n",
       "    </tr>\n",
       "    <tr>\n",
       "      <th>1</th>\n",
       "      <td>1170074</td>\n",
       "      <td>#10 Hand Coordination - Transfer Chord Ballad ...</td>\n",
       "      <td>True</td>\n",
       "      <td>75</td>\n",
       "      <td>1593</td>\n",
       "      <td>1</td>\n",
       "      <td>41</td>\n",
       "      <td>Intermediate Level</td>\n",
       "      <td>1 hour</td>\n",
       "      <td>2017-04-12T19:06:34Z</td>\n",
       "      <td>Musical Instruments</td>\n",
       "    </tr>\n",
       "  </tbody>\n",
       "</table>\n",
       "</div>"
      ],
      "text/plain": [
       "   course_id                                       course_title  is_paid  \\\n",
       "0     288942  #1 Piano Hand Coordination: Play 10th Ballad i...     True   \n",
       "1    1170074  #10 Hand Coordination - Transfer Chord Ballad ...     True   \n",
       "\n",
       "  price  num_subscribers  num_reviews  num_lectures               level  \\\n",
       "0    35             3137           18            68          All Levels   \n",
       "1    75             1593            1            41  Intermediate Level   \n",
       "\n",
       "  content_duration   published_timestamp              subject  \n",
       "0        1.5 hours  2014-09-18T05:07:05Z  Musical Instruments  \n",
       "1           1 hour  2017-04-12T19:06:34Z  Musical Instruments  "
      ]
     },
     "execution_count": 6,
     "metadata": {},
     "output_type": "execute_result"
    }
   ],
   "source": [
    "data.head(2)"
   ]
  },
  {
   "cell_type": "markdown",
   "id": "fef98dae",
   "metadata": {},
   "source": [
    "# 1. What are all different subjects for which UDEMY is offering Courses?"
   ]
  },
  {
   "cell_type": "code",
   "execution_count": 7,
   "id": "643c02d9",
   "metadata": {},
   "outputs": [],
   "source": [
    "# data.subject.unique()"
   ]
  },
  {
   "cell_type": "code",
   "execution_count": 8,
   "id": "09b36074",
   "metadata": {},
   "outputs": [
    {
     "data": {
      "text/plain": [
       "array(['Musical Instruments', 'Business Finance', 'Graphic Design',\n",
       "       'Web Development'], dtype=object)"
      ]
     },
     "execution_count": 8,
     "metadata": {},
     "output_type": "execute_result"
    }
   ],
   "source": [
    "data.subject.unique()"
   ]
  },
  {
   "cell_type": "code",
   "execution_count": null,
   "id": "fb09351a",
   "metadata": {},
   "outputs": [],
   "source": []
  },
  {
   "cell_type": "markdown",
   "id": "f3e47380",
   "metadata": {},
   "source": [
    "# 2. Which subject has the maximum number of courses?"
   ]
  },
  {
   "cell_type": "code",
   "execution_count": 9,
   "id": "17da3b8a",
   "metadata": {},
   "outputs": [],
   "source": [
    "# data.subject.value_counst()"
   ]
  },
  {
   "cell_type": "code",
   "execution_count": 10,
   "id": "7c337503",
   "metadata": {},
   "outputs": [
    {
     "data": {
      "text/html": [
       "<div>\n",
       "<style scoped>\n",
       "    .dataframe tbody tr th:only-of-type {\n",
       "        vertical-align: middle;\n",
       "    }\n",
       "\n",
       "    .dataframe tbody tr th {\n",
       "        vertical-align: top;\n",
       "    }\n",
       "\n",
       "    .dataframe thead th {\n",
       "        text-align: right;\n",
       "    }\n",
       "</style>\n",
       "<table border=\"1\" class=\"dataframe\">\n",
       "  <thead>\n",
       "    <tr style=\"text-align: right;\">\n",
       "      <th></th>\n",
       "      <th>course_id</th>\n",
       "      <th>course_title</th>\n",
       "      <th>is_paid</th>\n",
       "      <th>price</th>\n",
       "      <th>num_subscribers</th>\n",
       "      <th>num_reviews</th>\n",
       "      <th>num_lectures</th>\n",
       "      <th>level</th>\n",
       "      <th>content_duration</th>\n",
       "      <th>published_timestamp</th>\n",
       "      <th>subject</th>\n",
       "    </tr>\n",
       "  </thead>\n",
       "  <tbody>\n",
       "    <tr>\n",
       "      <th>0</th>\n",
       "      <td>288942</td>\n",
       "      <td>#1 Piano Hand Coordination: Play 10th Ballad i...</td>\n",
       "      <td>True</td>\n",
       "      <td>35</td>\n",
       "      <td>3137</td>\n",
       "      <td>18</td>\n",
       "      <td>68</td>\n",
       "      <td>All Levels</td>\n",
       "      <td>1.5 hours</td>\n",
       "      <td>2014-09-18T05:07:05Z</td>\n",
       "      <td>Musical Instruments</td>\n",
       "    </tr>\n",
       "    <tr>\n",
       "      <th>1</th>\n",
       "      <td>1170074</td>\n",
       "      <td>#10 Hand Coordination - Transfer Chord Ballad ...</td>\n",
       "      <td>True</td>\n",
       "      <td>75</td>\n",
       "      <td>1593</td>\n",
       "      <td>1</td>\n",
       "      <td>41</td>\n",
       "      <td>Intermediate Level</td>\n",
       "      <td>1 hour</td>\n",
       "      <td>2017-04-12T19:06:34Z</td>\n",
       "      <td>Musical Instruments</td>\n",
       "    </tr>\n",
       "  </tbody>\n",
       "</table>\n",
       "</div>"
      ],
      "text/plain": [
       "   course_id                                       course_title  is_paid  \\\n",
       "0     288942  #1 Piano Hand Coordination: Play 10th Ballad i...     True   \n",
       "1    1170074  #10 Hand Coordination - Transfer Chord Ballad ...     True   \n",
       "\n",
       "  price  num_subscribers  num_reviews  num_lectures               level  \\\n",
       "0    35             3137           18            68          All Levels   \n",
       "1    75             1593            1            41  Intermediate Level   \n",
       "\n",
       "  content_duration   published_timestamp              subject  \n",
       "0        1.5 hours  2014-09-18T05:07:05Z  Musical Instruments  \n",
       "1           1 hour  2017-04-12T19:06:34Z  Musical Instruments  "
      ]
     },
     "execution_count": 10,
     "metadata": {},
     "output_type": "execute_result"
    }
   ],
   "source": [
    "data.head(2)"
   ]
  },
  {
   "cell_type": "code",
   "execution_count": 11,
   "id": "6d92bccc",
   "metadata": {},
   "outputs": [
    {
     "data": {
      "text/plain": [
       "Web Development        1200\n",
       "Business Finance       1199\n",
       "Musical Instruments     680\n",
       "Graphic Design          603\n",
       "Name: subject, dtype: int64"
      ]
     },
     "execution_count": 11,
     "metadata": {},
     "output_type": "execute_result"
    }
   ],
   "source": [
    "data.subject.value_counts()"
   ]
  },
  {
   "cell_type": "code",
   "execution_count": null,
   "id": "304aa17e",
   "metadata": {},
   "outputs": [],
   "source": []
  },
  {
   "cell_type": "code",
   "execution_count": null,
   "id": "e6a28959",
   "metadata": {},
   "outputs": [],
   "source": []
  },
  {
   "cell_type": "code",
   "execution_count": null,
   "id": "4109d556",
   "metadata": {},
   "outputs": [],
   "source": []
  },
  {
   "cell_type": "markdown",
   "id": "08269015",
   "metadata": {},
   "source": [
    "# 3. Show all the courses which are free-of Cost?"
   ]
  },
  {
   "cell_type": "code",
   "execution_count": null,
   "id": "b87bd5f6",
   "metadata": {},
   "outputs": [],
   "source": [
    "# data[data.is_paid==False]"
   ]
  },
  {
   "cell_type": "code",
   "execution_count": null,
   "id": "d75132e7",
   "metadata": {},
   "outputs": [],
   "source": [
    "data[data.is_paid==False]"
   ]
  },
  {
   "cell_type": "code",
   "execution_count": null,
   "id": "093b112c",
   "metadata": {},
   "outputs": [],
   "source": [
    "data.is_paid == False"
   ]
  },
  {
   "cell_type": "markdown",
   "id": "7d92c227",
   "metadata": {},
   "source": [
    "# 4. Show all the courses Which are Paid?"
   ]
  },
  {
   "cell_type": "code",
   "execution_count": null,
   "id": "266a7654",
   "metadata": {},
   "outputs": [],
   "source": [
    "# data[data.is_paid==True]"
   ]
  },
  {
   "cell_type": "code",
   "execution_count": null,
   "id": "ee01918f",
   "metadata": {},
   "outputs": [],
   "source": [
    "data[data.is_paid==True]"
   ]
  },
  {
   "cell_type": "markdown",
   "id": "7abd0c8e",
   "metadata": {},
   "source": [
    "# 5. Which are Top Selling Courses?"
   ]
  },
  {
   "cell_type": "code",
   "execution_count": null,
   "id": "6be496ba",
   "metadata": {},
   "outputs": [],
   "source": [
    "# data.sort_values('num_subscribers',ascending=False)"
   ]
  },
  {
   "cell_type": "code",
   "execution_count": null,
   "id": "acf2d88d",
   "metadata": {},
   "outputs": [],
   "source": [
    "data.sort_values('num_subscribers',ascending=False)"
   ]
  },
  {
   "cell_type": "code",
   "execution_count": null,
   "id": "d3b2ea6e",
   "metadata": {},
   "outputs": [],
   "source": []
  },
  {
   "cell_type": "markdown",
   "id": "8d81780f",
   "metadata": {},
   "source": [
    "# 6. Which are Least Selling Courses?"
   ]
  },
  {
   "cell_type": "code",
   "execution_count": null,
   "id": "7bef0bcf",
   "metadata": {},
   "outputs": [],
   "source": [
    "# data.sort_values('num_subscribers')"
   ]
  },
  {
   "cell_type": "code",
   "execution_count": null,
   "id": "e639416f",
   "metadata": {},
   "outputs": [],
   "source": [
    "data.sort_values('num_subscribers')"
   ]
  },
  {
   "cell_type": "markdown",
   "id": "f269b9d0",
   "metadata": {},
   "source": [
    "# 7. Show all Courses of Graphic Design where the price is below 100?"
   ]
  },
  {
   "cell_type": "code",
   "execution_count": null,
   "id": "3ef7e896",
   "metadata": {},
   "outputs": [],
   "source": [
    "# data[(data.subject=='Graphic Design') & (data.price<'100')]"
   ]
  },
  {
   "cell_type": "code",
   "execution_count": null,
   "id": "fb1572e6",
   "metadata": {},
   "outputs": [],
   "source": [
    "a=data[(data.subject=='Graphic Design') & (data.price<'100')]\n",
    "a"
   ]
  },
  {
   "cell_type": "code",
   "execution_count": null,
   "id": "1aa5d6d8",
   "metadata": {},
   "outputs": [],
   "source": [
    "data[(data.subject=='Graphic Design') & (data.price<'100')]"
   ]
  },
  {
   "cell_type": "code",
   "execution_count": null,
   "id": "b0cf05a3",
   "metadata": {},
   "outputs": [],
   "source": [
    "data[(data.subject=='Graphic Design') & (data.price<'100')]"
   ]
  },
  {
   "cell_type": "code",
   "execution_count": null,
   "id": "170dbf8c",
   "metadata": {},
   "outputs": [],
   "source": []
  },
  {
   "cell_type": "markdown",
   "id": "36208de8",
   "metadata": {},
   "source": [
    "# 8. List out all the courses that are related with Python?"
   ]
  },
  {
   "cell_type": "code",
   "execution_count": null,
   "id": "7b0729d2",
   "metadata": {},
   "outputs": [],
   "source": [
    "data.head(2)"
   ]
  },
  {
   "cell_type": "code",
   "execution_count": null,
   "id": "f4961dab",
   "metadata": {},
   "outputs": [],
   "source": [
    "# data[data.course_title.str.contains('Python')]"
   ]
  },
  {
   "cell_type": "code",
   "execution_count": null,
   "id": "980d2fb9",
   "metadata": {},
   "outputs": [],
   "source": [
    "data[data.course_title.str.contains('Python')]"
   ]
  },
  {
   "cell_type": "code",
   "execution_count": null,
   "id": "1abe12fb",
   "metadata": {},
   "outputs": [],
   "source": [
    "len(data[data.course_title.str.contains('Python')])"
   ]
  },
  {
   "cell_type": "code",
   "execution_count": null,
   "id": "04b08f84",
   "metadata": {},
   "outputs": [],
   "source": []
  },
  {
   "cell_type": "markdown",
   "id": "7a0ff38e",
   "metadata": {},
   "source": [
    "# 9. What are courses that are published in year 2015?"
   ]
  },
  {
   "cell_type": "code",
   "execution_count": null,
   "id": "1c1c268e",
   "metadata": {},
   "outputs": [],
   "source": [
    "# data.dtypes\n",
    "# data['published_timestamp']=pd.to_datetime(data.published_timestamp)\n",
    "# data.dtypes\n",
    "# data['Year']=data['publisehd_timestamp'].dt.year\n",
    "# data[data.year==2015]"
   ]
  },
  {
   "cell_type": "code",
   "execution_count": null,
   "id": "c7acbfa8",
   "metadata": {},
   "outputs": [],
   "source": [
    "data.head(2)"
   ]
  },
  {
   "cell_type": "code",
   "execution_count": null,
   "id": "14e9465c",
   "metadata": {},
   "outputs": [],
   "source": [
    "data.dtypes"
   ]
  },
  {
   "cell_type": "code",
   "execution_count": null,
   "id": "3b6cfd70",
   "metadata": {},
   "outputs": [],
   "source": [
    "data['published_timestamp']=pd.to_datetime(data.published_timestamp)"
   ]
  },
  {
   "cell_type": "code",
   "execution_count": null,
   "id": "22601d01",
   "metadata": {},
   "outputs": [],
   "source": [
    "data.dtypes"
   ]
  },
  {
   "cell_type": "code",
   "execution_count": null,
   "id": "0e0eb217",
   "metadata": {},
   "outputs": [],
   "source": [
    "data['Year']=data['published_timestamp'].dt.year"
   ]
  },
  {
   "cell_type": "code",
   "execution_count": null,
   "id": "5c268989",
   "metadata": {},
   "outputs": [],
   "source": [
    "data"
   ]
  },
  {
   "cell_type": "code",
   "execution_count": null,
   "id": "69f25533",
   "metadata": {},
   "outputs": [],
   "source": [
    "len(data['Year']=data['published_timestamp'].dt.year)"
   ]
  },
  {
   "cell_type": "code",
   "execution_count": null,
   "id": "7315137f",
   "metadata": {},
   "outputs": [],
   "source": []
  },
  {
   "cell_type": "code",
   "execution_count": null,
   "id": "e4d4c385",
   "metadata": {},
   "outputs": [],
   "source": []
  },
  {
   "cell_type": "markdown",
   "id": "9369093b",
   "metadata": {},
   "source": [
    "# 10. What are the Max. Number of Subscribers for Each Level of Courses?"
   ]
  },
  {
   "cell_type": "code",
   "execution_count": null,
   "id": "7c5dd4bc",
   "metadata": {},
   "outputs": [],
   "source": [
    "# data.groupby('Level')['num_subscribers'].max()\n",
    "# data.groupby('Level').max()"
   ]
  },
  {
   "cell_type": "code",
   "execution_count": null,
   "id": "e593fb3e",
   "metadata": {},
   "outputs": [],
   "source": [
    "data.head(1)"
   ]
  },
  {
   "cell_type": "code",
   "execution_count": null,
   "id": "a30bbfeb",
   "metadata": {},
   "outputs": [],
   "source": [
    "data.hist()  # It shows the history of the given data sets which we wants to analysis. "
   ]
  },
  {
   "cell_type": "code",
   "execution_count": null,
   "id": "45537968",
   "metadata": {},
   "outputs": [],
   "source": [
    "data.level.unique()"
   ]
  },
  {
   "cell_type": "code",
   "execution_count": null,
   "id": "8131225b",
   "metadata": {},
   "outputs": [],
   "source": [
    "data.groupby('level')['num_subscribers'].max()"
   ]
  },
  {
   "cell_type": "code",
   "execution_count": null,
   "id": "ff28ddea",
   "metadata": {},
   "outputs": [],
   "source": [
    "data.groupby('level')['num_subscribers'].min()"
   ]
  },
  {
   "cell_type": "code",
   "execution_count": null,
   "id": "3c291f98",
   "metadata": {},
   "outputs": [],
   "source": []
  }
 ],
 "metadata": {
  "kernelspec": {
   "display_name": "Python 3 (ipykernel)",
   "language": "python",
   "name": "python3"
  },
  "language_info": {
   "codemirror_mode": {
    "name": "ipython",
    "version": 3
   },
   "file_extension": ".py",
   "mimetype": "text/x-python",
   "name": "python",
   "nbconvert_exporter": "python",
   "pygments_lexer": "ipython3",
   "version": "3.10.9"
  }
 },
 "nbformat": 4,
 "nbformat_minor": 5
}
