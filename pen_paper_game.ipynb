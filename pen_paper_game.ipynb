{
 "cells": [
  {
   "cell_type": "code",
   "execution_count": 4,
   "id": "227b5ae6",
   "metadata": {},
   "outputs": [
    {
     "ename": "SyntaxError",
     "evalue": "'break' outside loop (1776782616.py, line 28)",
     "output_type": "error",
     "traceback": [
      "\u001b[1;36m  Cell \u001b[1;32mIn[4], line 28\u001b[1;36m\u001b[0m\n\u001b[1;33m    break\u001b[0m\n\u001b[1;37m    ^\u001b[0m\n\u001b[1;31mSyntaxError\u001b[0m\u001b[1;31m:\u001b[0m 'break' outside loop\n"
     ]
    }
   ],
   "source": [
    "import random\n",
    "l=[\"rock\",\"paper\",\"scissor\"]\n",
    "'''\n",
    "rock vs paper->paper wins\n",
    "rock vs scissor->rock wins\n",
    "scissor vs paper->scissor wins\n",
    "'''\n",
    "while True:\n",
    "    uc=int(input('''\n",
    "    1 rock\n",
    "    2 scissor\n",
    "    3 paper\n",
    "    '''))\n",
    "    \n",
    "    if userInput==1:\n",
    "        uchoice=\"rock\"\n",
    "    elif userInput==2:\n",
    "        uchoice=\"scissor\"\n",
    "    elif userInput==3:\n",
    "        uchoice=\"paper\"\n",
    "    Cchoice=random.choice(l)\n",
    "    print(uchoice)\n",
    "    print(Cchoice)\n",
    "\n",
    "\n",
    "    \n",
    "else:\n",
    "    break\n",
    "        "
   ]
  },
  {
   "cell_type": "code",
   "execution_count": null,
   "id": "04b7c37d",
   "metadata": {},
   "outputs": [],
   "source": []
  }
 ],
 "metadata": {
  "kernelspec": {
   "display_name": "Python 3 (ipykernel)",
   "language": "python",
   "name": "python3"
  },
  "language_info": {
   "codemirror_mode": {
    "name": "ipython",
    "version": 3
   },
   "file_extension": ".py",
   "mimetype": "text/x-python",
   "name": "python",
   "nbconvert_exporter": "python",
   "pygments_lexer": "ipython3",
   "version": "3.10.9"
  }
 },
 "nbformat": 4,
 "nbformat_minor": 5
}
