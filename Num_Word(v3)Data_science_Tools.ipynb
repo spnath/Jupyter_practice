{
 "cells": [
  {
   "cell_type": "markdown",
   "id": "8179ce8b",
   "metadata": {},
   "source": [
    "# How to Covert Number to Words"
   ]
  },
  {
   "cell_type": "code",
   "execution_count": 4,
   "id": "abf41d91",
   "metadata": {},
   "outputs": [],
   "source": [
    "from num2words import num2words"
   ]
  },
  {
   "cell_type": "code",
   "execution_count": 3,
   "id": "d76753a4",
   "metadata": {},
   "outputs": [
    {
     "name": "stdout",
     "output_type": "stream",
     "text": [
      "Collecting num2words\n",
      "  Using cached num2words-0.5.12-py3-none-any.whl (125 kB)\n",
      "Collecting docopt>=0.6.2\n",
      "  Using cached docopt-0.6.2.tar.gz (25 kB)\n",
      "  Preparing metadata (setup.py): started\n",
      "  Preparing metadata (setup.py): finished with status 'done'\n",
      "Building wheels for collected packages: docopt\n",
      "  Building wheel for docopt (setup.py): started\n",
      "  Building wheel for docopt (setup.py): finished with status 'done'\n",
      "  Created wheel for docopt: filename=docopt-0.6.2-py2.py3-none-any.whl size=13775 sha256=d2b294b9220b014262da1561e8527399b0c110dcf5a4a07ebcadfb1e135cd9e8\n",
      "  Stored in directory: c:\\users\\user\\appdata\\local\\pip\\cache\\wheels\\7c\\d7\\8d\\2156234738063e3d4a39ba77dc677046100e62766b53807189\n",
      "Successfully built docopt\n",
      "Installing collected packages: docopt, num2words\n",
      "Successfully installed docopt-0.6.2 num2words-0.5.12\n"
     ]
    }
   ],
   "source": [
    "! pip install num2words"
   ]
  },
  {
   "cell_type": "code",
   "execution_count": 5,
   "id": "c10ab77d",
   "metadata": {},
   "outputs": [
    {
     "data": {
      "text/plain": [
       "'four hundred and fifty-six'"
      ]
     },
     "execution_count": 5,
     "metadata": {},
     "output_type": "execute_result"
    }
   ],
   "source": [
    "num2words(456) #Cardinal Number"
   ]
  },
  {
   "cell_type": "code",
   "execution_count": 6,
   "id": "286609ae",
   "metadata": {},
   "outputs": [
    {
     "data": {
      "text/plain": [
       "'fifteen trillion, eight hundred and forty-nine billion, six hundred and thirty-six million, four hundred and eighty-nine thousand, six hundred and ninety-nine'"
      ]
     },
     "execution_count": 6,
     "metadata": {},
     "output_type": "execute_result"
    }
   ],
   "source": [
    "num2words(15849636489699) #Cardinal Number"
   ]
  },
  {
   "cell_type": "code",
   "execution_count": 7,
   "id": "7b2be444",
   "metadata": {},
   "outputs": [
    {
     "data": {
      "text/plain": [
       "'thirtieth'"
      ]
     },
     "execution_count": 7,
     "metadata": {},
     "output_type": "execute_result"
    }
   ],
   "source": [
    "num2words(30,to=\"ordinal\")   #Ordinal Number"
   ]
  },
  {
   "cell_type": "code",
   "execution_count": 8,
   "id": "5554a95c",
   "metadata": {},
   "outputs": [
    {
     "data": {
      "text/plain": [
       "'тридцать'"
      ]
     },
     "execution_count": 8,
     "metadata": {},
     "output_type": "execute_result"
    }
   ],
   "source": [
    "num2words(30,lang=\"ru\")   #Ordinal Number"
   ]
  },
  {
   "cell_type": "code",
   "execution_count": 10,
   "id": "b517e58e",
   "metadata": {},
   "outputs": [
    {
     "data": {
      "text/plain": [
       "'thirty'"
      ]
     },
     "execution_count": 10,
     "metadata": {},
     "output_type": "execute_result"
    }
   ],
   "source": [
    "num2words(30,lang=\"eng\")   #Ordinal Number"
   ]
  },
  {
   "cell_type": "markdown",
   "id": "879fd71e",
   "metadata": {},
   "source": [
    "# Inflect"
   ]
  },
  {
   "cell_type": "code",
   "execution_count": 12,
   "id": "cd7a1700",
   "metadata": {},
   "outputs": [
    {
     "name": "stdout",
     "output_type": "stream",
     "text": [
      "Collecting inflect\n",
      "  Using cached inflect-6.0.4-py3-none-any.whl (34 kB)\n",
      "Collecting pydantic>=1.9.1\n",
      "  Downloading pydantic-1.10.9-cp310-cp310-win_amd64.whl (2.1 MB)\n",
      "     ---------------------------------------- 2.1/2.1 MB 4.8 MB/s eta 0:00:00\n",
      "Requirement already satisfied: typing-extensions>=4.2.0 in c:\\users\\user\\anaconda3\\lib\\site-packages (from pydantic>=1.9.1->inflect) (4.4.0)\n",
      "Installing collected packages: pydantic, inflect\n",
      "Successfully installed inflect-6.0.4 pydantic-1.10.9\n"
     ]
    }
   ],
   "source": [
    "! pip install inflect"
   ]
  },
  {
   "cell_type": "code",
   "execution_count": null,
   "id": "037bca46",
   "metadata": {},
   "outputs": [],
   "source": []
  }
 ],
 "metadata": {
  "kernelspec": {
   "display_name": "Python 3 (ipykernel)",
   "language": "python",
   "name": "python3"
  },
  "language_info": {
   "codemirror_mode": {
    "name": "ipython",
    "version": 3
   },
   "file_extension": ".py",
   "mimetype": "text/x-python",
   "name": "python",
   "nbconvert_exporter": "python",
   "pygments_lexer": "ipython3",
   "version": "3.10.9"
  }
 },
 "nbformat": 4,
 "nbformat_minor": 5
}
