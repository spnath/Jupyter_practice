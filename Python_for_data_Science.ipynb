{
 "cells": [
  {
   "cell_type": "code",
   "execution_count": 1,
   "id": "ff7452ea",
   "metadata": {},
   "outputs": [],
   "source": [
    "x=lambda x:x*2\n",
    "y=[43,22,32,12]\n",
    "c=list(map(x,y))"
   ]
  },
  {
   "cell_type": "code",
   "execution_count": 2,
   "id": "b2bc1af7",
   "metadata": {},
   "outputs": [
    {
     "name": "stdout",
     "output_type": "stream",
     "text": [
      "[86, 44, 64, 24]\n"
     ]
    }
   ],
   "source": [
    "print(c)"
   ]
  },
  {
   "cell_type": "markdown",
   "id": "4b894d90",
   "metadata": {},
   "source": [
    "# Calculate the each length of the each give word in list"
   ]
  },
  {
   "cell_type": "code",
   "execution_count": 3,
   "id": "98113917",
   "metadata": {},
   "outputs": [
    {
     "name": "stdout",
     "output_type": "stream",
     "text": [
      "[21, 15, 31]\n"
     ]
    }
   ],
   "source": [
    "l=[\"She is very beautiful\", \"She is very hot\",\"She is my dream and my pleasure\"]\n",
    "le=list(map(lambda a:len(a),l))\n",
    "print(le)"
   ]
  },
  {
   "cell_type": "markdown",
   "id": "05bea3ab",
   "metadata": {},
   "source": [
    "# Filter Function in Python Jupyter"
   ]
  },
  {
   "cell_type": "code",
   "execution_count": 4,
   "id": "7ef21536",
   "metadata": {},
   "outputs": [
    {
     "data": {
      "text/plain": [
       "[2, 4, 6, 8, 12, 44]"
      ]
     },
     "execution_count": 4,
     "metadata": {},
     "output_type": "execute_result"
    }
   ],
   "source": [
    "list(filter(lambda x:x%2==0,[2,4,6,8,12,33,44,223]))"
   ]
  },
  {
   "cell_type": "code",
   "execution_count": 5,
   "id": "1d426ef9",
   "metadata": {},
   "outputs": [
    {
     "data": {
      "text/plain": [
       "[3, 5, 7, 33]"
      ]
     },
     "execution_count": 5,
     "metadata": {},
     "output_type": "execute_result"
    }
   ],
   "source": [
    "list(filter(lambda x:x%2!=0,[3,5,7,4,12,33,44,234]))"
   ]
  },
  {
   "cell_type": "code",
   "execution_count": 6,
   "id": "8f8c130b",
   "metadata": {},
   "outputs": [
    {
     "data": {
      "text/plain": [
       "(4,)"
      ]
     },
     "execution_count": 6,
     "metadata": {},
     "output_type": "execute_result"
    }
   ],
   "source": [
    "tuple(filter(lambda x:x%2==0,[1,23,4,5]))"
   ]
  },
  {
   "cell_type": "code",
   "execution_count": 8,
   "id": "693cfeed",
   "metadata": {},
   "outputs": [
    {
     "name": "stdout",
     "output_type": "stream",
     "text": [
      "[12, 24, 28, 30]\n"
     ]
    }
   ],
   "source": [
    "a=list(filter(lambda x:x%2==0, [12,23,24,28,30]))\n",
    "print(a)"
   ]
  },
  {
   "cell_type": "markdown",
   "id": "2124a707",
   "metadata": {},
   "source": [
    "# Showing the marks that are greater than 50"
   ]
  },
  {
   "cell_type": "code",
   "execution_count": 9,
   "id": "bda5c487",
   "metadata": {},
   "outputs": [
    {
     "data": {
      "text/plain": [
       "[72, 79, 105, 174, 50, 50.05, 55.55, 59, 69, 79]"
      ]
     },
     "execution_count": 9,
     "metadata": {},
     "output_type": "execute_result"
    }
   ],
   "source": [
    "a=[22,72,79,105,174,50,50.05,5.2,55.55,59,69,79]\n",
    "\n",
    "list(filter(lambda x:x>40,a))"
   ]
  },
  {
   "cell_type": "code",
   "execution_count": null,
   "id": "d6e055e9",
   "metadata": {},
   "outputs": [],
   "source": []
  },
  {
   "cell_type": "markdown",
   "id": "15c85ecb",
   "metadata": {},
   "source": [
    "# Showing the items which have character is more than 7"
   ]
  },
  {
   "cell_type": "code",
   "execution_count": 11,
   "id": "fe1f6b21",
   "metadata": {},
   "outputs": [
    {
     "data": {
      "text/plain": [
       "['Burdwanshope', 'Anandalokeofdash', 'JohnPeters burg', 'SUbdhdheudjhf']"
      ]
     },
     "execution_count": 11,
     "metadata": {},
     "output_type": "execute_result"
    }
   ],
   "source": [
    "p=[\"Happy\",\"Burdwanshope\",\"Anandalokeofdash\",\"JohnPeters burg\",\"SUbdhdheudjhf\"]\n",
    "\n",
    "list(filter(lambda a: len(a)>6,p))"
   ]
  },
  {
   "cell_type": "markdown",
   "id": "8768a1ad",
   "metadata": {},
   "source": [
    "# Split Function in Python "
   ]
  },
  {
   "cell_type": "code",
   "execution_count": 14,
   "id": "ee84c9ae",
   "metadata": {},
   "outputs": [
    {
     "data": {
      "text/plain": [
       "['There',\n",
       " 'is',\n",
       " 'some',\n",
       " 'opportinuity',\n",
       " 'wait',\n",
       " 'for',\n",
       " 'you',\n",
       " 'pls',\n",
       " \"don't\",\n",
       " 'miss',\n",
       " 'the',\n",
       " 'chances',\n",
       " 'for',\n",
       " 'your',\n",
       " 'better',\n",
       " 'future']"
      ]
     },
     "execution_count": 14,
     "metadata": {},
     "output_type": "execute_result"
    }
   ],
   "source": [
    "a=\"There is some opportinuity wait for you pls don't miss the chances for your better future\"\n",
    "a.split()"
   ]
  },
  {
   "cell_type": "code",
   "execution_count": 15,
   "id": "b1652cfa",
   "metadata": {},
   "outputs": [],
   "source": [
    "s=a.split()"
   ]
  },
  {
   "cell_type": "code",
   "execution_count": 16,
   "id": "8e22d57c",
   "metadata": {},
   "outputs": [
    {
     "name": "stdout",
     "output_type": "stream",
     "text": [
      "['There', 'is', 'some', 'opportinuity', 'wait', 'for', 'you', 'pls', \"don't\", 'miss', 'the', 'chances', 'for', 'your', 'better', 'future']\n"
     ]
    }
   ],
   "source": [
    "print(s)"
   ]
  },
  {
   "cell_type": "code",
   "execution_count": 17,
   "id": "90ec5378",
   "metadata": {},
   "outputs": [
    {
     "data": {
      "text/plain": [
       "16"
      ]
     },
     "execution_count": 17,
     "metadata": {},
     "output_type": "execute_result"
    }
   ],
   "source": [
    "len(s)"
   ]
  },
  {
   "cell_type": "code",
   "execution_count": 23,
   "id": "da840cbe",
   "metadata": {},
   "outputs": [],
   "source": [
    "m=\"Subhend+this+is+very+fast+chance+to+grow+your+main+focus+on+your+IT+Job+field\"\n"
   ]
  },
  {
   "cell_type": "code",
   "execution_count": 27,
   "id": "95f804d9",
   "metadata": {},
   "outputs": [],
   "source": [
    "a=m.split('+')"
   ]
  },
  {
   "cell_type": "code",
   "execution_count": 28,
   "id": "51084891",
   "metadata": {},
   "outputs": [
    {
     "name": "stdout",
     "output_type": "stream",
     "text": [
      "['Subhend', 'this', 'is', 'very', 'fast', 'chance', 'to', 'grow', 'your', 'main', 'focus', 'on', 'your', 'IT', 'Job', 'field']\n"
     ]
    }
   ],
   "source": [
    "print(a)"
   ]
  },
  {
   "cell_type": "markdown",
   "id": "08405636",
   "metadata": {},
   "source": [
    "# Max Split Function in Python "
   ]
  },
  {
   "cell_type": "code",
   "execution_count": 31,
   "id": "f0b701f1",
   "metadata": {},
   "outputs": [],
   "source": [
    "d='We are Learning Python for Data-Science'"
   ]
  },
  {
   "cell_type": "code",
   "execution_count": 33,
   "id": "8f801190",
   "metadata": {},
   "outputs": [
    {
     "data": {
      "text/plain": [
       "['We', 'are Learning Python for Data-Science']"
      ]
     },
     "execution_count": 33,
     "metadata": {},
     "output_type": "execute_result"
    }
   ],
   "source": [
    "d.split(' ',1)"
   ]
  },
  {
   "cell_type": "code",
   "execution_count": 34,
   "id": "38507414",
   "metadata": {},
   "outputs": [
    {
     "data": {
      "text/plain": [
       "['We', 'are', 'Learning', 'Python for Data-Science']"
      ]
     },
     "execution_count": 34,
     "metadata": {},
     "output_type": "execute_result"
    }
   ],
   "source": [
    "d.split(' ',3)"
   ]
  },
  {
   "cell_type": "markdown",
   "id": "793dfc06",
   "metadata": {},
   "source": [
    "# Enemurate function in Python "
   ]
  },
  {
   "cell_type": "code",
   "execution_count": 35,
   "id": "d4db49d5",
   "metadata": {},
   "outputs": [],
   "source": [
    "a=['Mango','Banana','Ornage',\"Kiwi\",'Jackfruit','Apple','Popi']\n"
   ]
  },
  {
   "cell_type": "code",
   "execution_count": 36,
   "id": "a5420dce",
   "metadata": {},
   "outputs": [
    {
     "data": {
      "text/plain": [
       "list"
      ]
     },
     "execution_count": 36,
     "metadata": {},
     "output_type": "execute_result"
    }
   ],
   "source": [
    "type(a)"
   ]
  },
  {
   "cell_type": "code",
   "execution_count": 37,
   "id": "4beb87a0",
   "metadata": {},
   "outputs": [
    {
     "data": {
      "text/plain": [
       "[(0, 'Mango'),\n",
       " (1, 'Banana'),\n",
       " (2, 'Ornage'),\n",
       " (3, 'Kiwi'),\n",
       " (4, 'Jackfruit'),\n",
       " (5, 'Apple'),\n",
       " (6, 'Popi')]"
      ]
     },
     "execution_count": 37,
     "metadata": {},
     "output_type": "execute_result"
    }
   ],
   "source": [
    "list(enumerate(a))"
   ]
  },
  {
   "cell_type": "code",
   "execution_count": 38,
   "id": "fd11e6ad",
   "metadata": {},
   "outputs": [
    {
     "data": {
      "text/plain": [
       "((0, 'Mango'),\n",
       " (1, 'Banana'),\n",
       " (2, 'Ornage'),\n",
       " (3, 'Kiwi'),\n",
       " (4, 'Jackfruit'),\n",
       " (5, 'Apple'),\n",
       " (6, 'Popi'))"
      ]
     },
     "execution_count": 38,
     "metadata": {},
     "output_type": "execute_result"
    }
   ],
   "source": [
    "tuple(enumerate(a))"
   ]
  },
  {
   "cell_type": "code",
   "execution_count": 39,
   "id": "e6a24ec0",
   "metadata": {},
   "outputs": [
    {
     "data": {
      "text/plain": [
       "{(0, 'Mango'),\n",
       " (1, 'Banana'),\n",
       " (2, 'Ornage'),\n",
       " (3, 'Kiwi'),\n",
       " (4, 'Jackfruit'),\n",
       " (5, 'Apple'),\n",
       " (6, 'Popi')}"
      ]
     },
     "execution_count": 39,
     "metadata": {},
     "output_type": "execute_result"
    }
   ],
   "source": [
    "set(enumerate(a))"
   ]
  },
  {
   "cell_type": "code",
   "execution_count": 40,
   "id": "ee4ff2e5",
   "metadata": {},
   "outputs": [
    {
     "data": {
      "text/plain": [
       "{0: 'Mango',\n",
       " 1: 'Banana',\n",
       " 2: 'Ornage',\n",
       " 3: 'Kiwi',\n",
       " 4: 'Jackfruit',\n",
       " 5: 'Apple',\n",
       " 6: 'Popi'}"
      ]
     },
     "execution_count": 40,
     "metadata": {},
     "output_type": "execute_result"
    }
   ],
   "source": [
    "dict(enumerate(a))"
   ]
  },
  {
   "cell_type": "markdown",
   "id": "d1c17156",
   "metadata": {},
   "source": [
    "# Setting Iterable -List, Tuple, Set, Dictionary & Strings"
   ]
  },
  {
   "cell_type": "code",
   "execution_count": 41,
   "id": "df9cebb9",
   "metadata": {},
   "outputs": [],
   "source": [
    "s={'Mango','Banana','Ornage',\"Kiwi\",'Jackfruit','Apple','Popi'}\n"
   ]
  },
  {
   "cell_type": "code",
   "execution_count": 42,
   "id": "f55f7bdd",
   "metadata": {},
   "outputs": [
    {
     "data": {
      "text/plain": [
       "set"
      ]
     },
     "execution_count": 42,
     "metadata": {},
     "output_type": "execute_result"
    }
   ],
   "source": [
    "type(s)"
   ]
  },
  {
   "cell_type": "code",
   "execution_count": 43,
   "id": "3807dfe2",
   "metadata": {},
   "outputs": [
    {
     "data": {
      "text/plain": [
       "{(0, 'Jackfruit'),\n",
       " (1, 'Mango'),\n",
       " (2, 'Ornage'),\n",
       " (3, 'Banana'),\n",
       " (4, 'Kiwi'),\n",
       " (5, 'Popi'),\n",
       " (6, 'Apple')}"
      ]
     },
     "execution_count": 43,
     "metadata": {},
     "output_type": "execute_result"
    }
   ],
   "source": [
    "set(enumerate(s))"
   ]
  },
  {
   "cell_type": "code",
   "execution_count": 44,
   "id": "c16ae45f",
   "metadata": {},
   "outputs": [
    {
     "data": {
      "text/plain": [
       "[(0, 'Jackfruit'),\n",
       " (1, 'Mango'),\n",
       " (2, 'Ornage'),\n",
       " (3, 'Banana'),\n",
       " (4, 'Kiwi'),\n",
       " (5, 'Popi'),\n",
       " (6, 'Apple')]"
      ]
     },
     "execution_count": 44,
     "metadata": {},
     "output_type": "execute_result"
    }
   ],
   "source": [
    "list(enumerate(s))"
   ]
  },
  {
   "cell_type": "code",
   "execution_count": 45,
   "id": "4b17c705",
   "metadata": {},
   "outputs": [
    {
     "data": {
      "text/plain": [
       "{0: 'Jackfruit',\n",
       " 1: 'Mango',\n",
       " 2: 'Ornage',\n",
       " 3: 'Banana',\n",
       " 4: 'Kiwi',\n",
       " 5: 'Popi',\n",
       " 6: 'Apple'}"
      ]
     },
     "execution_count": 45,
     "metadata": {},
     "output_type": "execute_result"
    }
   ],
   "source": [
    "dict(enumerate(s))"
   ]
  },
  {
   "cell_type": "code",
   "execution_count": 46,
   "id": "4897b711",
   "metadata": {},
   "outputs": [
    {
     "data": {
      "text/plain": [
       "'<enumerate object at 0x0000025FDF95F100>'"
      ]
     },
     "execution_count": 46,
     "metadata": {},
     "output_type": "execute_result"
    }
   ],
   "source": [
    "s=[str(enumerate(s))]"
   ]
  },
  {
   "cell_type": "code",
   "execution_count": 47,
   "id": "7e8db4d4",
   "metadata": {},
   "outputs": [
    {
     "name": "stdout",
     "output_type": "stream",
     "text": [
      "{'Jackfruit', 'Mango', 'Ornage', 'Banana', 'Kiwi', 'Popi', 'Apple'}\n"
     ]
    }
   ],
   "source": [
    "print(s)"
   ]
  },
  {
   "cell_type": "code",
   "execution_count": 48,
   "id": "0c1472e2",
   "metadata": {},
   "outputs": [],
   "source": [
    "D={101:'APPLE',303:'BANANA',222:'ORANGE',404:'KIWI'}\n"
   ]
  },
  {
   "cell_type": "code",
   "execution_count": 49,
   "id": "df6559b5",
   "metadata": {},
   "outputs": [
    {
     "data": {
      "text/plain": [
       "dict"
      ]
     },
     "execution_count": 49,
     "metadata": {},
     "output_type": "execute_result"
    }
   ],
   "source": [
    "type(D)"
   ]
  },
  {
   "cell_type": "code",
   "execution_count": 50,
   "id": "efaf3074",
   "metadata": {},
   "outputs": [
    {
     "data": {
      "text/plain": [
       "[(0, 101), (1, 303), (2, 222), (3, 404)]"
      ]
     },
     "execution_count": 50,
     "metadata": {},
     "output_type": "execute_result"
    }
   ],
   "source": [
    "list(enumerate(D))"
   ]
  },
  {
   "cell_type": "code",
   "execution_count": 53,
   "id": "0adf3d37",
   "metadata": {},
   "outputs": [],
   "source": [
    "u='Python is the best programming.'"
   ]
  },
  {
   "cell_type": "code",
   "execution_count": 54,
   "id": "726a1bdb",
   "metadata": {},
   "outputs": [
    {
     "data": {
      "text/plain": [
       "[(0, 'P'),\n",
       " (1, 'y'),\n",
       " (2, 't'),\n",
       " (3, 'h'),\n",
       " (4, 'o'),\n",
       " (5, 'n'),\n",
       " (6, ' '),\n",
       " (7, 'i'),\n",
       " (8, 's'),\n",
       " (9, ' '),\n",
       " (10, 't'),\n",
       " (11, 'h'),\n",
       " (12, 'e'),\n",
       " (13, ' '),\n",
       " (14, 'b'),\n",
       " (15, 'e'),\n",
       " (16, 's'),\n",
       " (17, 't'),\n",
       " (18, ' '),\n",
       " (19, 'p'),\n",
       " (20, 'r'),\n",
       " (21, 'o'),\n",
       " (22, 'g'),\n",
       " (23, 'r'),\n",
       " (24, 'a'),\n",
       " (25, 'm'),\n",
       " (26, 'm'),\n",
       " (27, 'i'),\n",
       " (28, 'n'),\n",
       " (29, 'g'),\n",
       " (30, '.')]"
      ]
     },
     "execution_count": 54,
     "metadata": {},
     "output_type": "execute_result"
    }
   ],
   "source": [
    "list(enumerate(u))"
   ]
  },
  {
   "cell_type": "markdown",
   "id": "9dd370f7",
   "metadata": {},
   "source": [
    "# Zip Function in Python"
   ]
  },
  {
   "cell_type": "code",
   "execution_count": 62,
   "id": "e0ba9474",
   "metadata": {},
   "outputs": [],
   "source": [
    "A=[1,2,3,4]\n",
    "B=['apple','mango','banana','kiwi']"
   ]
  },
  {
   "cell_type": "code",
   "execution_count": 63,
   "id": "92068b34",
   "metadata": {},
   "outputs": [
    {
     "data": {
      "text/plain": [
       "<zip at 0x25fe1b97c40>"
      ]
     },
     "execution_count": 63,
     "metadata": {},
     "output_type": "execute_result"
    }
   ],
   "source": [
    "zip(A, B)"
   ]
  },
  {
   "cell_type": "code",
   "execution_count": 64,
   "id": "b2562993",
   "metadata": {},
   "outputs": [
    {
     "data": {
      "text/plain": [
       "[(1, 'apple'), (2, 'mango'), (3, 'banana'), (4, 'kiwi')]"
      ]
     },
     "execution_count": 64,
     "metadata": {},
     "output_type": "execute_result"
    }
   ],
   "source": [
    "list(zip(A,B))"
   ]
  },
  {
   "cell_type": "code",
   "execution_count": 65,
   "id": "2091401d",
   "metadata": {},
   "outputs": [],
   "source": [
    "X=list(zip(A,B))"
   ]
  },
  {
   "cell_type": "code",
   "execution_count": 66,
   "id": "f5a03c6c",
   "metadata": {},
   "outputs": [
    {
     "name": "stdout",
     "output_type": "stream",
     "text": [
      "[(1, 'apple'), (2, 'mango'), (3, 'banana'), (4, 'kiwi')]\n"
     ]
    }
   ],
   "source": [
    "print(X)"
   ]
  },
  {
   "cell_type": "code",
   "execution_count": 67,
   "id": "89549a4c",
   "metadata": {},
   "outputs": [
    {
     "data": {
      "text/plain": [
       "list"
      ]
     },
     "execution_count": 67,
     "metadata": {},
     "output_type": "execute_result"
    }
   ],
   "source": [
    "type(X)"
   ]
  },
  {
   "cell_type": "code",
   "execution_count": 68,
   "id": "c5b65729",
   "metadata": {},
   "outputs": [
    {
     "data": {
      "text/plain": [
       "(((1, 'apple'),), ((2, 'mango'),), ((3, 'banana'),), ((4, 'kiwi'),))"
      ]
     },
     "execution_count": 68,
     "metadata": {},
     "output_type": "execute_result"
    }
   ],
   "source": [
    "tuple(zip(X))"
   ]
  },
  {
   "cell_type": "code",
   "execution_count": 70,
   "id": "8e431b16",
   "metadata": {},
   "outputs": [],
   "source": [
    "a=['Sudu','Mudu','gudu','chudu']\n",
    "b=['ahsa','basa','kasa','dosa']\n",
    "c=[1010,1011,1022,1033]\n",
    "\n"
   ]
  },
  {
   "cell_type": "code",
   "execution_count": 71,
   "id": "04288f05",
   "metadata": {},
   "outputs": [
    {
     "data": {
      "text/plain": [
       "[('Sudu', 'ahsa', 1010),\n",
       " ('Mudu', 'basa', 1011),\n",
       " ('gudu', 'kasa', 1022),\n",
       " ('chudu', 'dosa', 1033)]"
      ]
     },
     "execution_count": 71,
     "metadata": {},
     "output_type": "execute_result"
    }
   ],
   "source": [
    "list(zip(a,b,c))  #$here is show three iterable items on the"
   ]
  },
  {
   "cell_type": "code",
   "execution_count": 72,
   "id": "bc78d5d3",
   "metadata": {},
   "outputs": [
    {
     "data": {
      "text/plain": [
       "[(1, 'apple'), (2, 'mango'), (3, 'banana'), (4, 'kiwi')]"
      ]
     },
     "execution_count": 72,
     "metadata": {},
     "output_type": "execute_result"
    }
   ],
   "source": [
    "X\n"
   ]
  },
  {
   "cell_type": "code",
   "execution_count": 73,
   "id": "6d26c4da",
   "metadata": {},
   "outputs": [],
   "source": [
    "Qty,frt=zip(*X)"
   ]
  },
  {
   "cell_type": "code",
   "execution_count": 74,
   "id": "ab5af1c7",
   "metadata": {},
   "outputs": [
    {
     "name": "stdout",
     "output_type": "stream",
     "text": [
      "(1, 2, 3, 4) ('apple', 'mango', 'banana', 'kiwi')\n"
     ]
    }
   ],
   "source": [
    "print(Qty,frt)"
   ]
  },
  {
   "cell_type": "code",
   "execution_count": 75,
   "id": "3e24e7c1",
   "metadata": {},
   "outputs": [],
   "source": [
    "t1=('Nexon','Breza','XUV-500','Creata')\n",
    "t2=('Tata','Maruti','Mahindra','hyundai')\n",
    "\n"
   ]
  },
  {
   "cell_type": "code",
   "execution_count": 76,
   "id": "c842bcc8",
   "metadata": {},
   "outputs": [
    {
     "data": {
      "text/plain": [
       "[('Nexon', 'Tata'),\n",
       " ('Breza', 'Maruti'),\n",
       " ('XUV-500', 'Mahindra'),\n",
       " ('Creata', 'hyundai')]"
      ]
     },
     "execution_count": 76,
     "metadata": {},
     "output_type": "execute_result"
    }
   ],
   "source": [
    "list(zip(t1,t2))"
   ]
  },
  {
   "cell_type": "markdown",
   "id": "92e4e28e",
   "metadata": {},
   "source": [
    "# \"def\" Function in Python"
   ]
  },
  {
   "cell_type": "code",
   "execution_count": 77,
   "id": "8fe2314d",
   "metadata": {},
   "outputs": [],
   "source": [
    "def div(a,b):\n",
    "    d=a/b\n",
    "    return d"
   ]
  },
  {
   "cell_type": "code",
   "execution_count": 78,
   "id": "98abe7af",
   "metadata": {},
   "outputs": [
    {
     "data": {
      "text/plain": [
       "4.0"
      ]
     },
     "execution_count": 78,
     "metadata": {},
     "output_type": "execute_result"
    }
   ],
   "source": [
    "div(12,3)"
   ]
  },
  {
   "cell_type": "code",
   "execution_count": 83,
   "id": "5660d3a9",
   "metadata": {},
   "outputs": [],
   "source": [
    "def mult(a,b,c):\n",
    "    m=a*b*c\n",
    "    return m"
   ]
  },
  {
   "cell_type": "code",
   "execution_count": 84,
   "id": "e0d28d1c",
   "metadata": {},
   "outputs": [
    {
     "data": {
      "text/plain": [
       "1200"
      ]
     },
     "execution_count": 84,
     "metadata": {},
     "output_type": "execute_result"
    }
   ],
   "source": [
    "mult(12,10,10)"
   ]
  },
  {
   "cell_type": "code",
   "execution_count": 85,
   "id": "ae11cfe1",
   "metadata": {},
   "outputs": [],
   "source": [
    "# Define a function 'add' to add four number\n",
    "# Define a funciton with four arguments\n"
   ]
  },
  {
   "cell_type": "code",
   "execution_count": 86,
   "id": "96356ccf",
   "metadata": {},
   "outputs": [],
   "source": [
    "def add(a,b,c,d):\n",
    "    A=a+b+c+d\n",
    "    return A"
   ]
  },
  {
   "cell_type": "code",
   "execution_count": 87,
   "id": "e2a861e5",
   "metadata": {},
   "outputs": [
    {
     "data": {
      "text/plain": [
       "150"
      ]
     },
     "execution_count": 87,
     "metadata": {},
     "output_type": "execute_result"
    }
   ],
   "source": [
    "add(25,50,50,25)"
   ]
  },
  {
   "cell_type": "code",
   "execution_count": 89,
   "id": "68baf765",
   "metadata": {},
   "outputs": [],
   "source": [
    "# Define a function that will double the value that we pass"
   ]
  },
  {
   "cell_type": "code",
   "execution_count": 90,
   "id": "fd9edcea",
   "metadata": {},
   "outputs": [],
   "source": [
    "def dou(a):\n",
    "    return a*a"
   ]
  },
  {
   "cell_type": "code",
   "execution_count": 91,
   "id": "51e6af37",
   "metadata": {},
   "outputs": [
    {
     "data": {
      "text/plain": [
       "25"
      ]
     },
     "execution_count": 91,
     "metadata": {},
     "output_type": "execute_result"
    }
   ],
   "source": [
    "dou(5)"
   ]
  },
  {
   "cell_type": "code",
   "execution_count": 92,
   "id": "0dee52a0",
   "metadata": {},
   "outputs": [],
   "source": [
    "def dou(b):\n",
    "    a=b*b                #another way to define a function here\n",
    "    return a"
   ]
  },
  {
   "cell_type": "code",
   "execution_count": 93,
   "id": "fe34d4d4",
   "metadata": {},
   "outputs": [
    {
     "data": {
      "text/plain": [
       "16"
      ]
     },
     "execution_count": 93,
     "metadata": {},
     "output_type": "execute_result"
    }
   ],
   "source": [
    "dou(4)"
   ]
  },
  {
   "cell_type": "code",
   "execution_count": 94,
   "id": "9451c921",
   "metadata": {},
   "outputs": [],
   "source": [
    "# Define a function that will square the value that we pass"
   ]
  },
  {
   "cell_type": "code",
   "execution_count": 95,
   "id": "03f9c0ff",
   "metadata": {},
   "outputs": [],
   "source": [
    "def double(d):\n",
    "    m=d*2\n",
    "    return m"
   ]
  },
  {
   "cell_type": "code",
   "execution_count": 96,
   "id": "7dc4afe6",
   "metadata": {},
   "outputs": [
    {
     "data": {
      "text/plain": [
       "25"
      ]
     },
     "execution_count": 96,
     "metadata": {},
     "output_type": "execute_result"
    }
   ],
   "source": [
    "dou(5)"
   ]
  },
  {
   "cell_type": "code",
   "execution_count": 97,
   "id": "81e6e60d",
   "metadata": {},
   "outputs": [
    {
     "data": {
      "text/plain": [
       "12"
      ]
     },
     "execution_count": 97,
     "metadata": {},
     "output_type": "execute_result"
    }
   ],
   "source": [
    "double(6)"
   ]
  },
  {
   "cell_type": "code",
   "execution_count": 98,
   "id": "3414ae80",
   "metadata": {},
   "outputs": [],
   "source": [
    "# Define a function to return the greater values from the two values"
   ]
  },
  {
   "cell_type": "code",
   "execution_count": 99,
   "id": "791baa12",
   "metadata": {},
   "outputs": [],
   "source": [
    "def gre(a,b):\n",
    "    if a>b:\n",
    "        return a\n",
    "    else:\n",
    "        return b"
   ]
  },
  {
   "cell_type": "code",
   "execution_count": 100,
   "id": "680a6e59",
   "metadata": {},
   "outputs": [
    {
     "data": {
      "text/plain": [
       "55555"
      ]
     },
     "execution_count": 100,
     "metadata": {},
     "output_type": "execute_result"
    }
   ],
   "source": [
    "gre(34,55555)"
   ]
  },
  {
   "cell_type": "code",
   "execution_count": 101,
   "id": "53311df9",
   "metadata": {},
   "outputs": [],
   "source": [
    "def gre(a,b):\n",
    "    if a>b:\n",
    "        return 'a is a big'\n",
    "    else:\n",
    "        return 'b is a small'"
   ]
  },
  {
   "cell_type": "code",
   "execution_count": 102,
   "id": "4ab16c73",
   "metadata": {},
   "outputs": [
    {
     "data": {
      "text/plain": [
       "'b is a small'"
      ]
     },
     "execution_count": 102,
     "metadata": {},
     "output_type": "execute_result"
    }
   ],
   "source": [
    "gre(45,55)"
   ]
  },
  {
   "cell_type": "code",
   "execution_count": 103,
   "id": "4ff71261",
   "metadata": {},
   "outputs": [],
   "source": [
    "# Define a function that will return the smallest value among the three"
   ]
  },
  {
   "cell_type": "code",
   "execution_count": null,
   "id": "78a47513",
   "metadata": {},
   "outputs": [],
   "source": [
    "\n",
    "  "
   ]
  },
  {
   "cell_type": "code",
   "execution_count": 117,
   "id": "f4fd59b6",
   "metadata": {},
   "outputs": [
    {
     "data": {
      "text/plain": [
       "3"
      ]
     },
     "execution_count": 117,
     "metadata": {},
     "output_type": "execute_result"
    }
   ],
   "source": [
    "small(3,3,9)"
   ]
  },
  {
   "cell_type": "markdown",
   "id": "03e9b97a",
   "metadata": {},
   "source": [
    "# 19. Lambda Function in Python"
   ]
  },
  {
   "cell_type": "markdown",
   "id": "22a20c9a",
   "metadata": {},
   "source": [
    "Lambda function is used to create our own signle-line function in a quick way"
   ]
  },
  {
   "cell_type": "markdown",
   "id": "64a63578",
   "metadata": {},
   "source": [
    "Lambda it self a function to define a other short function"
   ]
  },
  {
   "cell_type": "raw",
   "id": "8f151267",
   "metadata": {},
   "source": [
    "There are two type of function like\n",
    "1. Built-in function (like Print(), unique())"
   ]
  },
  {
   "cell_type": "raw",
   "id": "a0f9fe42",
   "metadata": {},
   "source": [
    "2. User Defined function"
   ]
  },
  {
   "cell_type": "code",
   "execution_count": 118,
   "id": "b99e97a4",
   "metadata": {},
   "outputs": [],
   "source": [
    "# Define a function to add a two numbers"
   ]
  },
  {
   "cell_type": "code",
   "execution_count": 119,
   "id": "f355d660",
   "metadata": {},
   "outputs": [],
   "source": [
    "add=lambda x,y:x+y"
   ]
  },
  {
   "cell_type": "code",
   "execution_count": 120,
   "id": "7d72abc7",
   "metadata": {},
   "outputs": [
    {
     "data": {
      "text/plain": [
       "100"
      ]
     },
     "execution_count": 120,
     "metadata": {},
     "output_type": "execute_result"
    }
   ],
   "source": [
    "add(25,75)"
   ]
  },
  {
   "cell_type": "code",
   "execution_count": 121,
   "id": "2c414342",
   "metadata": {},
   "outputs": [],
   "source": [
    "# Multiply the three number for the given words"
   ]
  },
  {
   "cell_type": "code",
   "execution_count": 122,
   "id": "f051f1f4",
   "metadata": {},
   "outputs": [],
   "source": [
    "mul=lambda x,y,z:x*y*z"
   ]
  },
  {
   "cell_type": "code",
   "execution_count": 123,
   "id": "c1a9048c",
   "metadata": {},
   "outputs": [
    {
     "data": {
      "text/plain": [
       "1800"
      ]
     },
     "execution_count": 123,
     "metadata": {},
     "output_type": "execute_result"
    }
   ],
   "source": [
    "mul(12,15,10)"
   ]
  },
  {
   "cell_type": "code",
   "execution_count": 124,
   "id": "0de2734d",
   "metadata": {},
   "outputs": [],
   "source": [
    "# Define a function to print the given string"
   ]
  },
  {
   "cell_type": "code",
   "execution_count": 125,
   "id": "6f3584a3",
   "metadata": {},
   "outputs": [],
   "source": [
    "string=lambda x:print(x)"
   ]
  },
  {
   "cell_type": "code",
   "execution_count": 127,
   "id": "d7cdcdc9",
   "metadata": {},
   "outputs": [],
   "source": [
    "x=\"this is chatboot\""
   ]
  },
  {
   "cell_type": "code",
   "execution_count": 128,
   "id": "ecd05b63",
   "metadata": {},
   "outputs": [
    {
     "name": "stdout",
     "output_type": "stream",
     "text": [
      "this is chatboot\n"
     ]
    }
   ],
   "source": [
    "string(x)"
   ]
  },
  {
   "cell_type": "code",
   "execution_count": 129,
   "id": "5896e903",
   "metadata": {},
   "outputs": [],
   "source": [
    "# Define a function to concatenate the two string"
   ]
  },
  {
   "cell_type": "code",
   "execution_count": 130,
   "id": "818f4217",
   "metadata": {},
   "outputs": [],
   "source": [
    "con=lambda x,y:print(x+y)"
   ]
  },
  {
   "cell_type": "code",
   "execution_count": 133,
   "id": "a8eeb481",
   "metadata": {},
   "outputs": [],
   "source": [
    "x=\"Hello am a Subhendu\"\n",
    "y=\" am a new Data Analyst in this sector\""
   ]
  },
  {
   "cell_type": "code",
   "execution_count": 134,
   "id": "e1a99a7d",
   "metadata": {},
   "outputs": [
    {
     "name": "stdout",
     "output_type": "stream",
     "text": [
      "Hello am a Subhendu am a new Data Analyst in this sector\n"
     ]
    }
   ],
   "source": [
    "con(x,y)"
   ]
  },
  {
   "cell_type": "code",
   "execution_count": 135,
   "id": "0aa8a234",
   "metadata": {},
   "outputs": [],
   "source": [
    "# Double the function with value and its 2 times"
   ]
  },
  {
   "cell_type": "code",
   "execution_count": 136,
   "id": "797833cd",
   "metadata": {},
   "outputs": [],
   "source": [
    "double=lambda x:x*2"
   ]
  },
  {
   "cell_type": "code",
   "execution_count": 138,
   "id": "2d40f46f",
   "metadata": {},
   "outputs": [
    {
     "data": {
      "text/plain": [
       "198"
      ]
     },
     "execution_count": 138,
     "metadata": {},
     "output_type": "execute_result"
    }
   ],
   "source": [
    "double(99)"
   ]
  },
  {
   "cell_type": "markdown",
   "id": "cf62b0c6",
   "metadata": {},
   "source": [
    "# 20. IF-ELIF FUNCTION IN THE PYTHON"
   ]
  },
  {
   "cell_type": "code",
   "execution_count": 139,
   "id": "8028c6a9",
   "metadata": {},
   "outputs": [
    {
     "name": "stdout",
     "output_type": "stream",
     "text": [
      "the value is less\n"
     ]
    }
   ],
   "source": [
    "value=9\n",
    "if value>10:\n",
    "    print(\"the value is greater than \")\n",
    "    \n",
    "else:\n",
    "    print('the value is less')"
   ]
  },
  {
   "cell_type": "code",
   "execution_count": 140,
   "id": "84d57c5b",
   "metadata": {},
   "outputs": [
    {
     "name": "stdout",
     "output_type": "stream",
     "text": [
      "You are Eligiable\n",
      "88\n"
     ]
    },
    {
     "data": {
      "text/plain": [
       "'88'"
      ]
     },
     "execution_count": 140,
     "metadata": {},
     "output_type": "execute_result"
    }
   ],
   "source": [
    "mark=88\n",
    "ln=\"eng\"\n",
    "\n",
    "if(mark>70,ln=='eng'):\n",
    "    print('You are Eligiable')\n",
    "elif(mark<75,ln=='eng'):\n",
    "    print('You have got marks less the desired')\n",
    "elif(mark>75,ln!='eng'):\n",
    "    print('You must know the eng')\n",
    "else:\n",
    "    print('You are not eligible')\n",
    "    \n",
    "input()"
   ]
  },
  {
   "cell_type": "markdown",
   "id": "e1f8a145",
   "metadata": {},
   "source": [
    "# FOR LOOP FUNCTION IN PYTHON"
   ]
  },
  {
   "cell_type": "code",
   "execution_count": 141,
   "id": "a91c7643",
   "metadata": {},
   "outputs": [
    {
     "name": "stdout",
     "output_type": "stream",
     "text": [
      "22\n",
      "12\n",
      "13\n",
      "13\n",
      "14\n",
      "15\n",
      "63\n"
     ]
    }
   ],
   "source": [
    "for i in[22,12,13,13,14,15,63]:\n",
    "    print(i)"
   ]
  },
  {
   "cell_type": "code",
   "execution_count": 142,
   "id": "7ebd969c",
   "metadata": {},
   "outputs": [],
   "source": [
    "# Using the for loop on a list of numbers"
   ]
  },
  {
   "cell_type": "code",
   "execution_count": 144,
   "id": "688da6bd",
   "metadata": {},
   "outputs": [
    {
     "name": "stdout",
     "output_type": "stream",
     "text": [
      "[10, 11, 12, 13, 14, 15, 16, 17]\n",
      "10\n",
      "[10, 11, 12, 13, 14, 15, 16, 17]\n",
      "11\n",
      "[10, 11, 12, 13, 14, 15, 16, 17]\n",
      "12\n",
      "[10, 11, 12, 13, 14, 15, 16, 17]\n",
      "13\n",
      "[10, 11, 12, 13, 14, 15, 16, 17]\n",
      "14\n",
      "[10, 11, 12, 13, 14, 15, 16, 17]\n",
      "15\n",
      "[10, 11, 12, 13, 14, 15, 16, 17]\n",
      "16\n",
      "[10, 11, 12, 13, 14, 15, 16, 17]\n",
      "17\n"
     ]
    }
   ],
   "source": [
    "a=[10,11,12,13,14,15,16,17]\n",
    "\n",
    "for i in a:\n",
    "    print(a)\n",
    "    print(i)"
   ]
  },
  {
   "cell_type": "code",
   "execution_count": 145,
   "id": "fd99eb6f",
   "metadata": {},
   "outputs": [],
   "source": [
    "# Using the for loop on a list of strings"
   ]
  },
  {
   "cell_type": "code",
   "execution_count": 149,
   "id": "376d08e1",
   "metadata": {},
   "outputs": [
    {
     "name": "stdout",
     "output_type": "stream",
     "text": [
      "Delhi\n",
      "kolkata\n",
      "Ahmedabed\n",
      "Gugrat\n",
      "Panipath\n"
     ]
    }
   ],
   "source": [
    "c=['Delhi','kolkata','Ahmedabed','Gugrat','Panipath']\n",
    "\n",
    "for i in  c:\n",
    "    print(i)"
   ]
  },
  {
   "cell_type": "code",
   "execution_count": 146,
   "id": "3b38ff1f",
   "metadata": {},
   "outputs": [],
   "source": [
    "# Using the for loop on a tuple of string"
   ]
  },
  {
   "cell_type": "code",
   "execution_count": 150,
   "id": "6757d0f3",
   "metadata": {},
   "outputs": [
    {
     "name": "stdout",
     "output_type": "stream",
     "text": [
      "India\n",
      "US\n",
      "Canada\n",
      "UK\n"
     ]
    }
   ],
   "source": [
    "country=['India','US','Canada','UK']\n",
    "\n",
    "for cun in country:\n",
    "    print(cun)"
   ]
  },
  {
   "cell_type": "code",
   "execution_count": null,
   "id": "97cd0048",
   "metadata": {},
   "outputs": [],
   "source": [
    "# Using the for loop on a set of strings"
   ]
  },
  {
   "cell_type": "code",
   "execution_count": 151,
   "id": "77c78b28",
   "metadata": {},
   "outputs": [
    {
     "name": "stdout",
     "output_type": "stream",
     "text": [
      "US\n",
      "UK\n",
      "Canada\n",
      "India\n"
     ]
    }
   ],
   "source": [
    "country={'India','US','Canada','UK'}\n",
    "\n",
    "for cun in country:\n",
    "    print(cun)"
   ]
  },
  {
   "cell_type": "code",
   "execution_count": 152,
   "id": "a767e9c8",
   "metadata": {},
   "outputs": [
    {
     "name": "stdout",
     "output_type": "stream",
     "text": [
      "T\n",
      "h\n",
      "i\n",
      "s\n",
      " \n",
      "i\n",
      "s\n",
      " \n",
      "m\n",
      "y\n",
      " \n",
      "f\n",
      "i\n",
      "r\n",
      "s\n",
      "t\n",
      " \n",
      "j\n",
      "o\n",
      "b\n",
      " \n",
      "i\n",
      "n\n",
      " \n",
      "d\n",
      "a\n",
      "t\n",
      "a\n",
      " \n",
      "s\n",
      "c\n",
      "i\n",
      "e\n",
      "n\n",
      "c\n",
      "e\n"
     ]
    }
   ],
   "source": [
    "d=\"This is my first job in data science\"\n",
    "\n",
    "for s in d:\n",
    "    print(s)"
   ]
  },
  {
   "cell_type": "code",
   "execution_count": 153,
   "id": "820a762d",
   "metadata": {},
   "outputs": [],
   "source": [
    "# Using the for loop with Range function "
   ]
  },
  {
   "cell_type": "code",
   "execution_count": 154,
   "id": "b5a531c1",
   "metadata": {},
   "outputs": [
    {
     "name": "stdout",
     "output_type": "stream",
     "text": [
      "0\n",
      "1\n",
      "2\n",
      "3\n",
      "4\n",
      "5\n",
      "6\n",
      "7\n",
      "8\n",
      "9\n",
      "10\n",
      "11\n",
      "12\n",
      "13\n",
      "14\n",
      "15\n",
      "16\n",
      "17\n",
      "18\n",
      "19\n",
      "20\n",
      "21\n",
      "22\n",
      "23\n",
      "24\n",
      "25\n",
      "26\n",
      "27\n",
      "28\n",
      "29\n",
      "30\n",
      "31\n",
      "32\n",
      "33\n",
      "34\n",
      "35\n",
      "36\n",
      "37\n",
      "38\n",
      "39\n",
      "40\n",
      "41\n",
      "42\n",
      "43\n",
      "44\n",
      "45\n",
      "46\n",
      "47\n",
      "48\n",
      "49\n",
      "50\n",
      "51\n",
      "52\n",
      "53\n",
      "54\n",
      "55\n",
      "56\n",
      "57\n",
      "58\n",
      "59\n",
      "60\n",
      "61\n",
      "62\n",
      "63\n",
      "64\n",
      "65\n",
      "66\n",
      "67\n",
      "68\n",
      "69\n",
      "70\n",
      "71\n",
      "72\n",
      "73\n",
      "74\n",
      "75\n",
      "76\n",
      "77\n",
      "78\n",
      "79\n",
      "80\n",
      "81\n",
      "82\n",
      "83\n",
      "84\n",
      "85\n",
      "86\n",
      "87\n",
      "88\n",
      "89\n",
      "90\n",
      "91\n",
      "92\n",
      "93\n",
      "94\n",
      "95\n",
      "96\n",
      "97\n",
      "98\n",
      "99\n"
     ]
    }
   ],
   "source": [
    "for d in range(100):\n",
    "    print(d)"
   ]
  },
  {
   "cell_type": "code",
   "execution_count": 155,
   "id": "b377bf5f",
   "metadata": {},
   "outputs": [
    {
     "name": "stdout",
     "output_type": "stream",
     "text": [
      "99\n"
     ]
    }
   ],
   "source": [
    "print(d)"
   ]
  },
  {
   "cell_type": "code",
   "execution_count": 156,
   "id": "887f27d5",
   "metadata": {},
   "outputs": [
    {
     "name": "stdout",
     "output_type": "stream",
     "text": [
      "0\n",
      "3\n",
      "6\n",
      "9\n",
      "12\n",
      "15\n",
      "18\n",
      "21\n",
      "24\n",
      "27\n",
      "30\n",
      "33\n",
      "36\n",
      "39\n",
      "42\n",
      "45\n",
      "48\n",
      "51\n",
      "54\n",
      "57\n",
      "60\n",
      "63\n",
      "66\n",
      "69\n",
      "72\n",
      "75\n",
      "78\n",
      "81\n",
      "84\n",
      "87\n",
      "90\n",
      "93\n",
      "96\n",
      "99\n",
      "102\n",
      "105\n",
      "108\n",
      "111\n",
      "114\n",
      "117\n",
      "120\n",
      "123\n",
      "126\n",
      "129\n",
      "132\n",
      "135\n",
      "138\n",
      "141\n",
      "144\n",
      "147\n"
     ]
    }
   ],
   "source": [
    "for x in range(50):\n",
    "    x=x*3\n",
    "    print(x)"
   ]
  },
  {
   "cell_type": "code",
   "execution_count": 157,
   "id": "f44d3a4e",
   "metadata": {},
   "outputs": [],
   "source": [
    "# Verifing the Even OR Odd number from the given list"
   ]
  },
  {
   "cell_type": "code",
   "execution_count": 160,
   "id": "abb1b248",
   "metadata": {},
   "outputs": [
    {
     "name": "stdout",
     "output_type": "stream",
     "text": [
      "11is an odd number\n",
      "12 is an even number\n",
      "13is an odd number\n",
      "14 is an even number\n",
      "15is an odd number\n",
      "16 is an even number\n",
      "71is an odd number\n",
      "18 is an even number\n",
      "91is an odd number\n",
      "19is an odd number\n",
      "20 is an even number\n"
     ]
    }
   ],
   "source": [
    "n=[11,12,13,14,15,16,71,18,91,19,20]\n",
    "\n",
    "for i in n:\n",
    "    if i%2==0:\n",
    "        print(f\"{i} is an even number\")\n",
    "    else:\n",
    "        print(f\"{i}is an odd number\")"
   ]
  },
  {
   "cell_type": "markdown",
   "id": "42f970a7",
   "metadata": {},
   "source": [
    "# 22. WHILE LOOP IN PYTHON "
   ]
  },
  {
   "cell_type": "markdown",
   "id": "8eff5266",
   "metadata": {},
   "source": [
    "THE While loop is used to execute a set of statements until a given is satisfied"
   ]
  },
  {
   "cell_type": "markdown",
   "id": "592f0ebd",
   "metadata": {},
   "source": [
    "A while loop repeats a block of code as long as a certain condition is True"
   ]
  },
  {
   "cell_type": "markdown",
   "id": "21e7f9b4",
   "metadata": {},
   "source": [
    "In while loop, we use a variable for the increment purpose"
   ]
  },
  {
   "cell_type": "code",
   "execution_count": 1,
   "id": "1a9816a6",
   "metadata": {},
   "outputs": [],
   "source": [
    "# Initialization\n",
    "# Condition\n",
    "# Body of loop\n"
   ]
  },
  {
   "cell_type": "markdown",
   "id": "f8afc617",
   "metadata": {},
   "source": [
    "Increament to this variable is neceassary otherwise the loop will never stop and it will run forever."
   ]
  },
  {
   "cell_type": "code",
   "execution_count": 5,
   "id": "a394076b",
   "metadata": {},
   "outputs": [
    {
     "name": "stdout",
     "output_type": "stream",
     "text": [
      "0\n",
      "1\n",
      "2\n",
      "3\n",
      "4\n",
      "5\n",
      "6\n",
      "7\n",
      "8\n",
      "9\n"
     ]
    }
   ],
   "source": [
    "i=0\n",
    "while i<10:\n",
    "    print(i)\n",
    "    i=i+1 #conditon is after the print comment so start \"0\""
   ]
  },
  {
   "cell_type": "code",
   "execution_count": 7,
   "id": "37b72d8d",
   "metadata": {},
   "outputs": [
    {
     "name": "stdout",
     "output_type": "stream",
     "text": [
      "1\n",
      "2\n",
      "3\n",
      "4\n",
      "5\n",
      "6\n",
      "7\n",
      "8\n",
      "9\n",
      "10\n"
     ]
    }
   ],
   "source": [
    "i=0\n",
    "while i<10:\n",
    "    i=i+1\n",
    "    print(i) # Here condition is before print option so loop will start from \"1\""
   ]
  },
  {
   "cell_type": "code",
   "execution_count": 8,
   "id": "1918c010",
   "metadata": {},
   "outputs": [],
   "source": [
    "# If we don't give the increment to the variable\n",
    "# Then the loop will run for \"infinite times\""
   ]
  },
  {
   "cell_type": "code",
   "execution_count": 10,
   "id": "96478c0e",
   "metadata": {},
   "outputs": [
    {
     "name": "stdout",
     "output_type": "stream",
     "text": [
      "1\n",
      "2\n"
     ]
    }
   ],
   "source": [
    "i=1\n",
    "while i<3:\n",
    "    print(i) # loop will go to infinite times\n",
    "    #i=i+1"
   ]
  },
  {
   "cell_type": "code",
   "execution_count": 11,
   "id": "8389a295",
   "metadata": {},
   "outputs": [],
   "source": [
    "# While Loop example 3"
   ]
  },
  {
   "cell_type": "code",
   "execution_count": 12,
   "id": "af98c748",
   "metadata": {},
   "outputs": [
    {
     "name": "stdout",
     "output_type": "stream",
     "text": [
      "10\n",
      "9\n",
      "8\n",
      "7\n",
      "6\n",
      "5\n",
      "The Loop Is End\n"
     ]
    }
   ],
   "source": [
    "i=10\n",
    "\n",
    "while i>=5:\n",
    "    print(i)\n",
    "    i=i-1\n",
    "print('The Loop Is End')"
   ]
  },
  {
   "cell_type": "code",
   "execution_count": 13,
   "id": "4c908962",
   "metadata": {},
   "outputs": [],
   "source": [
    "# While loop example 4"
   ]
  },
  {
   "cell_type": "code",
   "execution_count": 16,
   "id": "4f296dcc",
   "metadata": {},
   "outputs": [
    {
     "name": "stdout",
     "output_type": "stream",
     "text": [
      "0\n",
      "The Loop is end here\n",
      "1\n",
      "The Loop is end here\n",
      "2\n",
      "The Loop is end here\n",
      "3\n",
      "The Loop is end here\n",
      "4\n",
      "The Loop is end here\n"
     ]
    }
   ],
   "source": [
    "a=0\n",
    "while a<5:\n",
    "    print(a)\n",
    "    a=a+1\n",
    "    print('The Loop is end here')"
   ]
  },
  {
   "cell_type": "code",
   "execution_count": 17,
   "id": "341c9f59",
   "metadata": {},
   "outputs": [],
   "source": [
    "# While loop example 5"
   ]
  },
  {
   "cell_type": "code",
   "execution_count": 18,
   "id": "4c346650",
   "metadata": {},
   "outputs": [
    {
     "name": "stdout",
     "output_type": "stream",
     "text": [
      "11\n",
      "12\n",
      "13\n",
      "14\n",
      "15\n",
      "16\n",
      "17\n",
      "18\n",
      "19\n"
     ]
    }
   ],
   "source": [
    "x=1\n",
    "while x<10:\n",
    "    print(x+10) # The value of x will not change, it will only add 10 on x\n",
    "    x=x+1"
   ]
  },
  {
   "cell_type": "markdown",
   "id": "4ec89716",
   "metadata": {},
   "source": [
    "example 6"
   ]
  },
  {
   "cell_type": "code",
   "execution_count": 19,
   "id": "6c12b7dd",
   "metadata": {
    "scrolled": true
   },
   "outputs": [
    {
     "name": "stdout",
     "output_type": "stream",
     "text": [
      "7\n",
      "13\n",
      "19\n",
      "25\n",
      "31\n",
      "37\n",
      "43\n",
      "49\n",
      "55\n"
     ]
    }
   ],
   "source": [
    "a=1\n",
    "\n",
    "while a<=50:\n",
    "    a=a+3\n",
    "    print(a+3)\n",
    "    a=a+3"
   ]
  },
  {
   "cell_type": "markdown",
   "id": "bb3dc940",
   "metadata": {},
   "source": [
    "# 23. Break Statement in Python"
   ]
  },
  {
   "cell_type": "markdown",
   "id": "2c3bc0c1",
   "metadata": {},
   "source": [
    "A Break statement is a loop control statement which can be used in For Loop and While Loop both"
   ]
  },
  {
   "cell_type": "markdown",
   "id": "53daaf89",
   "metadata": {},
   "source": [
    "USE: We use the Break Statement when there is a need to stop the loop at a given condition"
   ]
  },
  {
   "cell_type": "code",
   "execution_count": 20,
   "id": "ca7f0ad8",
   "metadata": {},
   "outputs": [],
   "source": [
    "# Use break statemen in for loop"
   ]
  },
  {
   "cell_type": "code",
   "execution_count": 21,
   "id": "65a34ec2",
   "metadata": {},
   "outputs": [
    {
     "name": "stdout",
     "output_type": "stream",
     "text": [
      "Data\n",
      "Bug\n",
      "sort\n",
      "putin\n",
      "python\n",
      "java\n"
     ]
    }
   ],
   "source": [
    "data=['Data','Bug','sort','putin','python','java']\n",
    "\n",
    "for a in data:\n",
    "    print(a)"
   ]
  },
  {
   "cell_type": "code",
   "execution_count": 26,
   "id": "dab4061d",
   "metadata": {},
   "outputs": [
    {
     "name": "stdout",
     "output_type": "stream",
     "text": [
      "Data\n",
      "Bug\n",
      "sort\n"
     ]
    }
   ],
   "source": [
    "data=['Data','Bug','sort','putin','python','java']\n",
    "\n",
    "for a in data:\n",
    "    print(a)\n",
    "    if a=='sort':\n",
    "        break"
   ]
  },
  {
   "cell_type": "code",
   "execution_count": 28,
   "id": "05432d12",
   "metadata": {},
   "outputs": [
    {
     "name": "stdout",
     "output_type": "stream",
     "text": [
      "Data\n",
      "Bug\n"
     ]
    }
   ],
   "source": [
    "data=['Data','Bug','sort','putin','python','java']\n",
    "\n",
    "for a in data:\n",
    "  \n",
    "    if a=='sort':  # print before the sort comment\n",
    "        break\n",
    "    print(a)"
   ]
  },
  {
   "cell_type": "markdown",
   "id": "5cd34dd5",
   "metadata": {},
   "source": [
    "# B. Break statement in while loop"
   ]
  },
  {
   "cell_type": "markdown",
   "id": "65758f6e",
   "metadata": {},
   "source": [
    "With the break statement (in while loop), we can stop the loop even if the while condition is True. "
   ]
  },
  {
   "cell_type": "code",
   "execution_count": 29,
   "id": "fe52836c",
   "metadata": {},
   "outputs": [
    {
     "name": "stdout",
     "output_type": "stream",
     "text": [
      "1\n",
      "2\n",
      "3\n",
      "4\n"
     ]
    }
   ],
   "source": [
    "i=1\n",
    "\n",
    "while i<5:\n",
    "    print(i)\n",
    "    i=i+1"
   ]
  },
  {
   "cell_type": "code",
   "execution_count": 30,
   "id": "baaf98c9",
   "metadata": {},
   "outputs": [
    {
     "name": "stdout",
     "output_type": "stream",
     "text": [
      "1\n",
      "2\n",
      "3\n"
     ]
    }
   ],
   "source": [
    "# example 1\n",
    "\n",
    "x=1\n",
    "\n",
    "while x<5:\n",
    "    print(x)\n",
    "    if x==3:\n",
    "        break\n",
    "    x=x+1"
   ]
  },
  {
   "cell_type": "code",
   "execution_count": 41,
   "id": "73bba475",
   "metadata": {},
   "outputs": [
    {
     "name": "stdout",
     "output_type": "stream",
     "text": [
      "1\n",
      "2\n"
     ]
    }
   ],
   "source": [
    "x=1\n",
    "\n",
    "while x<5:\n",
    "        if x==3:\n",
    "            break  # break for the loop and show the result\n",
    "        print(x)\n",
    "        x=x+1"
   ]
  },
  {
   "cell_type": "markdown",
   "id": "a59159bf",
   "metadata": {},
   "source": [
    "# 23. Continue Statement"
   ]
  },
  {
   "cell_type": "markdown",
   "id": "674ba7ad",
   "metadata": {},
   "source": [
    "With the help of continue statement, we can stop the current iteration of the loop, and continue with the next iteration"
   ]
  },
  {
   "cell_type": "markdown",
   "id": "e45ece20",
   "metadata": {},
   "source": [
    "The loop doesn't stop but continues with the next iteration"
   ]
  },
  {
   "cell_type": "code",
   "execution_count": 42,
   "id": "0a1a2382",
   "metadata": {},
   "outputs": [
    {
     "name": "stdout",
     "output_type": "stream",
     "text": [
      "Data\n",
      "Bug\n",
      "sort\n",
      "putin\n",
      "python\n",
      "java\n"
     ]
    }
   ],
   "source": [
    "data=['Data','Bug','sort','putin','python','java']\n",
    "\n",
    "for a in data:\n",
    "    print(a)"
   ]
  },
  {
   "cell_type": "code",
   "execution_count": 43,
   "id": "70136eb2",
   "metadata": {},
   "outputs": [
    {
     "name": "stdout",
     "output_type": "stream",
     "text": [
      "Data\n",
      "Bug\n",
      "putin\n",
      "python\n",
      "java\n"
     ]
    }
   ],
   "source": [
    "data=['Data','Bug','sort','putin','python','java']\n",
    "\n",
    "for i in data:\n",
    "    if i=='sort':\n",
    "        continue\n",
    "    print(i)"
   ]
  },
  {
   "cell_type": "markdown",
   "id": "f7c70a20",
   "metadata": {},
   "source": [
    "Note: the continue statement should be used before Print(), otherwise it will not in for loop."
   ]
  },
  {
   "cell_type": "code",
   "execution_count": 44,
   "id": "f91edab2",
   "metadata": {},
   "outputs": [
    {
     "name": "stdout",
     "output_type": "stream",
     "text": [
      "Data\n",
      "Bug\n",
      "sort\n",
      "putin\n",
      "python\n",
      "java\n"
     ]
    }
   ],
   "source": [
    "data=['Data','Bug','sort','putin','python','java']\n",
    "\n",
    "for i in data:\n",
    "    print(i)  # print option is before in continue so it is not work..\n",
    "    if i=='sort':\n",
    "        continue\n",
    "    "
   ]
  },
  {
   "cell_type": "markdown",
   "id": "51f4eae1",
   "metadata": {},
   "source": [
    "# B. Continue statement in while loop"
   ]
  },
  {
   "cell_type": "markdown",
   "id": "ea988de1",
   "metadata": {},
   "source": [
    "we don't want to print 4 in loop"
   ]
  },
  {
   "cell_type": "code",
   "execution_count": 45,
   "id": "3dfc3ebf",
   "metadata": {},
   "outputs": [
    {
     "name": "stdout",
     "output_type": "stream",
     "text": [
      "1\n",
      "2\n",
      "3\n",
      "5\n",
      "6\n"
     ]
    }
   ],
   "source": [
    "i=0\n",
    "\n",
    "while i<6:\n",
    "    i=i+1\n",
    "    if i==4:\n",
    "        continue\n",
    "    print(i)"
   ]
  },
  {
   "cell_type": "code",
   "execution_count": 46,
   "id": "af2d2660",
   "metadata": {},
   "outputs": [
    {
     "name": "stdout",
     "output_type": "stream",
     "text": [
      "1\n",
      "2\n",
      "3\n",
      "4\n",
      "5\n",
      "6\n"
     ]
    }
   ],
   "source": [
    "# Example 2\n",
    "i=0\n",
    "\n",
    "while i<6:\n",
    "    i=i+1\n",
    "    print(i) # not work due to print option is used before \"continue\" statement\n",
    "    if i==4:\n",
    "        continue\n",
    "    "
   ]
  },
  {
   "cell_type": "markdown",
   "id": "377c430c",
   "metadata": {},
   "source": [
    "# Created By>>>>>>>>>>>>>>>>>>Subhendu<<<<<<<<<<<<<<<<"
   ]
  },
  {
   "cell_type": "code",
   "execution_count": null,
   "id": "e6c9d56d",
   "metadata": {},
   "outputs": [],
   "source": []
  }
 ],
 "metadata": {
  "kernelspec": {
   "display_name": "Python 3 (ipykernel)",
   "language": "python",
   "name": "python3"
  },
  "language_info": {
   "codemirror_mode": {
    "name": "ipython",
    "version": 3
   },
   "file_extension": ".py",
   "mimetype": "text/x-python",
   "name": "python",
   "nbconvert_exporter": "python",
   "pygments_lexer": "ipython3",
   "version": "3.10.9"
  }
 },
 "nbformat": 4,
 "nbformat_minor": 5
}
