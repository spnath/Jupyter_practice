{
 "cells": [
  {
   "cell_type": "markdown",
   "id": "ee32406b",
   "metadata": {},
   "source": [
    "# Sum of Natural Numbers with Recursion"
   ]
  },
  {
   "cell_type": "code",
   "execution_count": 2,
   "id": "7b1666c9",
   "metadata": {},
   "outputs": [
    {
     "name": "stdout",
     "output_type": "stream",
     "text": [
      "Enter the Number Here  5\n",
      "The sum of Natural Number upto given no 15\n"
     ]
    }
   ],
   "source": [
    "def NNS(n):\n",
    "    if n<=1:\n",
    "        return n\n",
    "    else:\n",
    "        return (n)+NNS(n-1)\n",
    "\n",
    "\n",
    "n=int(input(\"Enter the Number Here  \"))\n",
    "\n",
    "if n<=0:\n",
    "    print(\"Enter a Positive Numbeer Here \")\n",
    "else:\n",
    "    print(\"The sum of Natural Number upto given no\",NNS(n))"
   ]
  },
  {
   "cell_type": "code",
   "execution_count": 3,
   "id": "81c7d9ce",
   "metadata": {},
   "outputs": [],
   "source": [
    "# The above testing is Okay."
   ]
  },
  {
   "cell_type": "code",
   "execution_count": null,
   "id": "7b814a2e",
   "metadata": {},
   "outputs": [],
   "source": []
  }
 ],
 "metadata": {
  "kernelspec": {
   "display_name": "Python 3 (ipykernel)",
   "language": "python",
   "name": "python3"
  },
  "language_info": {
   "codemirror_mode": {
    "name": "ipython",
    "version": 3
   },
   "file_extension": ".py",
   "mimetype": "text/x-python",
   "name": "python",
   "nbconvert_exporter": "python",
   "pygments_lexer": "ipython3",
   "version": "3.10.9"
  }
 },
 "nbformat": 4,
 "nbformat_minor": 5
}
