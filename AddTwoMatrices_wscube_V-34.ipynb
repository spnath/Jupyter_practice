{
 "cells": [
  {
   "cell_type": "code",
   "execution_count": 3,
   "id": "0c0613be",
   "metadata": {},
   "outputs": [
    {
     "name": "stdout",
     "output_type": "stream",
     "text": [
      "[13, 26, 14]\n",
      "[32, 17, 18]\n",
      "[18, 10, 6]\n"
     ]
    }
   ],
   "source": [
    "A=[[10,20,5],\n",
    "   [25,12,12],\n",
    "   [17,5,3]]\n",
    "B=[[3,6,9],\n",
    "   [7,5,6],\n",
    "   [1,5,3]]\n",
    "\n",
    "result=[[0,0,0],\n",
    "         [0,0,0],\n",
    "         [0,0,0]]\n",
    "for i in range (len(A)):\n",
    "    for j in range(len(A[0])):\n",
    "        result[i][j]=A[i][j]+B[i][j]\n",
    "for r in result:\n",
    "    print(r)"
   ]
  },
  {
   "cell_type": "code",
   "execution_count": null,
   "id": "91d0d66a",
   "metadata": {},
   "outputs": [],
   "source": []
  }
 ],
 "metadata": {
  "kernelspec": {
   "display_name": "Python 3 (ipykernel)",
   "language": "python",
   "name": "python3"
  },
  "language_info": {
   "codemirror_mode": {
    "name": "ipython",
    "version": 3
   },
   "file_extension": ".py",
   "mimetype": "text/x-python",
   "name": "python",
   "nbconvert_exporter": "python",
   "pygments_lexer": "ipython3",
   "version": "3.10.9"
  }
 },
 "nbformat": 4,
 "nbformat_minor": 5
}
