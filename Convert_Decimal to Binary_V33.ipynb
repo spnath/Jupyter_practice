{
 "cells": [
  {
   "cell_type": "code",
   "execution_count": 7,
   "id": "d2ea2cb0",
   "metadata": {},
   "outputs": [
    {
     "name": "stdout",
     "output_type": "stream",
     "text": [
      "1010"
     ]
    }
   ],
   "source": [
    "    def convertBinary(n):\n",
    "        if n>1:\n",
    "            convertBinary(n//2)\n",
    "        print(n%2, end=\"\")\n",
    "\n",
    "    convertBinary(10)\n",
    "   "
   ]
  },
  {
   "cell_type": "code",
   "execution_count": null,
   "id": "b9f0255c",
   "metadata": {},
   "outputs": [],
   "source": []
  }
 ],
 "metadata": {
  "kernelspec": {
   "display_name": "Python 3 (ipykernel)",
   "language": "python",
   "name": "python3"
  },
  "language_info": {
   "codemirror_mode": {
    "name": "ipython",
    "version": 3
   },
   "file_extension": ".py",
   "mimetype": "text/x-python",
   "name": "python",
   "nbconvert_exporter": "python",
   "pygments_lexer": "ipython3",
   "version": "3.10.9"
  }
 },
 "nbformat": 4,
 "nbformat_minor": 5
}
