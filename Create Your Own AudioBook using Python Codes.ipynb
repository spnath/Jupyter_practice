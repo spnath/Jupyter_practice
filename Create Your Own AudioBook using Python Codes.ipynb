{
 "cells": [
  {
   "cell_type": "markdown",
   "id": "83c20bd2",
   "metadata": {},
   "source": [
    "# Create Your Own AudioBook using Python Codes"
   ]
  },
  {
   "cell_type": "code",
   "execution_count": 1,
   "id": "db4b4894",
   "metadata": {},
   "outputs": [
    {
     "name": "stdout",
     "output_type": "stream",
     "text": [
      "Collecting pyttsx3\n",
      "  Using cached pyttsx3-2.90-py3-none-any.whl (39 kB)\n",
      "Collecting comtypes\n",
      "  Using cached comtypes-1.2.0-py2.py3-none-any.whl (184 kB)\n",
      "Requirement already satisfied: pywin32 in c:\\users\\user\\anaconda3\\lib\\site-packages (from pyttsx3) (305.1)\n",
      "Collecting pypiwin32\n",
      "  Using cached pypiwin32-223-py3-none-any.whl (1.7 kB)\n",
      "Installing collected packages: comtypes, pypiwin32, pyttsx3\n",
      "Successfully installed comtypes-1.2.0 pypiwin32-223 pyttsx3-2.90\n"
     ]
    }
   ],
   "source": [
    "! pip install pyttsx3"
   ]
  },
  {
   "cell_type": "code",
   "execution_count": 23,
   "id": "7b98a869",
   "metadata": {},
   "outputs": [],
   "source": [
    "import pyttsx3\n",
    "\n",
    "\n",
    "melo=pyttsx3.init()\n",
    "melo.say(\"One day, a woodcutter came to the forest to cut some trees. He came across the ugly tree and thought to himself, “Look at this crooked and bent tree. There is no use in cutting this tree, it will be of no help to me. I would better cut down all the tall trees.\")\n",
    "melo.runAndWait()"
   ]
  },
  {
   "cell_type": "markdown",
   "id": "e27405d4",
   "metadata": {},
   "source": [
    "# pdf file read"
   ]
  },
  {
   "cell_type": "code",
   "execution_count": 15,
   "id": "e1e78415",
   "metadata": {},
   "outputs": [
    {
     "name": "stdout",
     "output_type": "stream",
     "text": [
      "Collecting pypdf2\n",
      "  Downloading pypdf2-3.0.1-py3-none-any.whl (232 kB)\n",
      "     ------------------------------------ 232.6/232.6 kB 547.6 kB/s eta 0:00:00\n",
      "Installing collected packages: pypdf2\n",
      "Successfully installed pypdf2-3.0.1\n"
     ]
    }
   ],
   "source": [
    "! pip install pypdf2"
   ]
  },
  {
   "cell_type": "code",
   "execution_count": 20,
   "id": "7aa6848d",
   "metadata": {},
   "outputs": [],
   "source": [
    "import PyPDF2"
   ]
  },
  {
   "cell_type": "code",
   "execution_count": null,
   "id": "e1d63b1b",
   "metadata": {},
   "outputs": [],
   "source": []
  }
 ],
 "metadata": {
  "kernelspec": {
   "display_name": "Python 3 (ipykernel)",
   "language": "python",
   "name": "python3"
  },
  "language_info": {
   "codemirror_mode": {
    "name": "ipython",
    "version": 3
   },
   "file_extension": ".py",
   "mimetype": "text/x-python",
   "name": "python",
   "nbconvert_exporter": "python",
   "pygments_lexer": "ipython3",
   "version": "3.10.9"
  }
 },
 "nbformat": 4,
 "nbformat_minor": 5
}
