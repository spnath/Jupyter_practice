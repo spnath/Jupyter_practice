{
 "cells": [
  {
   "cell_type": "markdown",
   "id": "b207d5a5",
   "metadata": {},
   "source": [
    "# Python Shorthand-IF and If-Else"
   ]
  },
  {
   "cell_type": "code",
   "execution_count": null,
   "id": "d8da2687",
   "metadata": {},
   "outputs": [
    {
     "name": "stdout",
     "output_type": "stream",
     "text": [
      "Enter the number here: 12\n",
      "The Number is even\n",
      "Enter the number here: 10\n",
      "The Number is even\n",
      "Enter the number here: 15\n",
      "The Number is Odd|\n",
      "Enter the number here: 25\n",
      "The Number is Odd|\n",
      "Enter the number here: 125\n",
      "The Number is Odd|\n",
      "Enter the number here: 120\n",
      "The Number is even\n",
      "Enter the number here: 240\n",
      "The Number is even\n",
      "Enter the number here: 1000\n",
      "The Number is even\n",
      "Enter the number here: 1001\n",
      "The Number is Odd|\n"
     ]
    }
   ],
   "source": [
    "while True:   \n",
    "    num=int(input(\"Enter the number here: \"))\n",
    "\n",
    "    if num%2==0:\n",
    "        print(\"The Number is even\")\n",
    "\n",
    "    else:\n",
    "        print(\"The Number is Odd|\")"
   ]
  },
  {
   "cell_type": "code",
   "execution_count": null,
   "id": "2230de97",
   "metadata": {},
   "outputs": [],
   "source": []
  }
 ],
 "metadata": {
  "kernelspec": {
   "display_name": "Python 3 (ipykernel)",
   "language": "python",
   "name": "python3"
  },
  "language_info": {
   "codemirror_mode": {
    "name": "ipython",
    "version": 3
   },
   "file_extension": ".py",
   "mimetype": "text/x-python",
   "name": "python",
   "nbconvert_exporter": "python",
   "pygments_lexer": "ipython3",
   "version": "3.10.9"
  }
 },
 "nbformat": 4,
 "nbformat_minor": 5
}
