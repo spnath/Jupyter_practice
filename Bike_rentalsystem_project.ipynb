{
 "cells": [
  {
   "cell_type": "code",
   "execution_count": null,
   "id": "b192ad38",
   "metadata": {},
   "outputs": [
    {
     "name": "stdout",
     "output_type": "stream",
     "text": [
      "\n",
      "        1 Display Stock\n",
      "        2 Rent a Bike\n",
      "        3 Exit\n",
      "        1\n",
      "Total Bikes 1000\n"
     ]
    }
   ],
   "source": [
    "class bikeShop:\n",
    "    def __init__(self,stock):\n",
    "        self.stock=stock\n",
    "    def displayBike(self):\n",
    "        print(\"Total Bikes\",self.stock)\n",
    "    def rentForBike(self,q):\n",
    "\n",
    "        if q<=0:\n",
    "            print(\"Enter the positive value or enter the value greater zero\")\n",
    "        elif q>self.stock:\n",
    "            print(\"Enter the value(less then stock)\")\n",
    "        else:\n",
    "            self.stock=self.stock-q\n",
    "            print(\"Total Prices\",q*1000)\n",
    "            print(\"Total Bikes\",self.stock)\n",
    "            \n",
    "while True:\n",
    "        obj=bikeShop(1000)\n",
    "        uc=int(input('''\n",
    "        1 Display Stock\n",
    "        2 Rent a Bike\n",
    "        3 Exit\n",
    "        '''))\n",
    "\n",
    "        if uc==1:\n",
    "                obj.displayBike()\n",
    "        elif uc==2:\n",
    "                n=int(input(\"Enter the qty\"))\n",
    "                obj.rentForBike(n)\n",
    "        else:\n",
    "            break"
   ]
  },
  {
   "cell_type": "code",
   "execution_count": null,
   "id": "f69a8eb9",
   "metadata": {},
   "outputs": [],
   "source": []
  }
 ],
 "metadata": {
  "kernelspec": {
   "display_name": "Python 3 (ipykernel)",
   "language": "python",
   "name": "python3"
  },
  "language_info": {
   "codemirror_mode": {
    "name": "ipython",
    "version": 3
   },
   "file_extension": ".py",
   "mimetype": "text/x-python",
   "name": "python",
   "nbconvert_exporter": "python",
   "pygments_lexer": "ipython3",
   "version": "3.10.9"
  }
 },
 "nbformat": 4,
 "nbformat_minor": 5
}
