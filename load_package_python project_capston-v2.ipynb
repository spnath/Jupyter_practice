{
 "cells": [
  {
   "cell_type": "code",
   "execution_count": 3,
   "id": "363eeafe",
   "metadata": {
    "scrolled": true
   },
   "outputs": [
    {
     "ename": "ModuleNotFoundError",
     "evalue": "No module named 'fuzzywuzzy'",
     "output_type": "error",
     "traceback": [
      "\u001b[1;31m---------------------------------------------------------------------------\u001b[0m",
      "\u001b[1;31mModuleNotFoundError\u001b[0m                       Traceback (most recent call last)",
      "Cell \u001b[1;32mIn[3], line 2\u001b[0m\n\u001b[0;32m      1\u001b[0m \u001b[38;5;66;03m#Load Pkgs\u001b[39;00m\n\u001b[1;32m----> 2\u001b[0m \u001b[38;5;28;01mfrom\u001b[39;00m \u001b[38;5;21;01mfuzzywuzzy\u001b[39;00m \u001b[38;5;28;01mimport\u001b[39;00m fuzz,process\n",
      "\u001b[1;31mModuleNotFoundError\u001b[0m: No module named 'fuzzywuzzy'"
     ]
    }
   ],
   "source": [
    "#Load Pkgs\n",
    "from fuzzywuzzy import fuzz,process "
   ]
  },
  {
   "cell_type": "code",
   "execution_count": 6,
   "id": "d0f0261e",
   "metadata": {},
   "outputs": [
    {
     "name": "stdout",
     "output_type": "stream",
     "text": [
      "Requirement already satisfied: fuzzywuzzy in c:\\users\\user\\anaconda3\\lib\\site-packages (0.18.0)\n"
     ]
    }
   ],
   "source": [
    "! pip install fuzzywuzzy"
   ]
  },
  {
   "cell_type": "code",
   "execution_count": 7,
   "id": "1ccf5419",
   "metadata": {},
   "outputs": [
    {
     "name": "stdout",
     "output_type": "stream",
     "text": [
      "Collecting fuzz\n",
      "  Using cached fuzz-0.1.1-py3-none-any.whl (4.7 kB)\n",
      "Installing collected packages: fuzz\n",
      "Successfully installed fuzz-0.1.1\n"
     ]
    }
   ],
   "source": [
    "! pip install fuzz"
   ]
  },
  {
   "cell_type": "code",
   "execution_count": 8,
   "id": "230de044",
   "metadata": {},
   "outputs": [
    {
     "name": "stderr",
     "output_type": "stream",
     "text": [
      "C:\\Users\\user\\anaconda3\\lib\\site-packages\\fuzzywuzzy\\fuzz.py:11: UserWarning: Using slow pure-python SequenceMatcher. Install python-Levenshtein to remove this warning\n",
      "  warnings.warn('Using slow pure-python SequenceMatcher. Install python-Levenshtein to remove this warning')\n"
     ]
    }
   ],
   "source": [
    "#Load Pkgs\n",
    "from fuzzywuzzy import fuzz,process "
   ]
  },
  {
   "cell_type": "code",
   "execution_count": 10,
   "id": "1051103e",
   "metadata": {},
   "outputs": [
    {
     "data": {
      "text/plain": [
       "100"
      ]
     },
     "execution_count": 10,
     "metadata": {},
     "output_type": "execute_result"
    }
   ],
   "source": [
    "fuzz.ratio(\"this is coding\",\"this is coding\")"
   ]
  },
  {
   "cell_type": "code",
   "execution_count": 11,
   "id": "a068839c",
   "metadata": {},
   "outputs": [
    {
     "data": {
      "text/plain": [
       "100"
      ]
     },
     "execution_count": 11,
     "metadata": {},
     "output_type": "execute_result"
    }
   ],
   "source": [
    "fuzz.ratio('subhendu','subhendu')"
   ]
  },
  {
   "cell_type": "markdown",
   "id": "96b645e2",
   "metadata": {},
   "source": [
    "# Partial Ratio : It compares the subsection of the Strings..!"
   ]
  },
  {
   "cell_type": "code",
   "execution_count": 13,
   "id": "84e9d3fd",
   "metadata": {},
   "outputs": [
    {
     "data": {
      "text/plain": [
       "86"
      ]
     },
     "execution_count": 13,
     "metadata": {},
     "output_type": "execute_result"
    }
   ],
   "source": [
    "fuzz.partial_ratio(\"this is a coding\",\"this is coding\")"
   ]
  },
  {
   "cell_type": "code",
   "execution_count": 14,
   "id": "53227bb6",
   "metadata": {},
   "outputs": [
    {
     "data": {
      "text/plain": [
       "83"
      ]
     },
     "execution_count": 14,
     "metadata": {},
     "output_type": "execute_result"
    }
   ],
   "source": [
    "fuzz.ratio(\"Number\",'number')"
   ]
  },
  {
   "cell_type": "code",
   "execution_count": 15,
   "id": "9f7e699f",
   "metadata": {},
   "outputs": [
    {
     "data": {
      "text/plain": [
       "60"
      ]
     },
     "execution_count": 15,
     "metadata": {},
     "output_type": "execute_result"
    }
   ],
   "source": [
    "fuzz.partial_ratio(\"Subhendu\",\"subhu\")"
   ]
  },
  {
   "cell_type": "code",
   "execution_count": 18,
   "id": "d04fcb1c",
   "metadata": {},
   "outputs": [],
   "source": [
    "ex3=[\"he eats apples\",\"Did he eat apples\"]\n",
    "ex4=[\"apples he eats\",\"he did eats apples and banana\"]"
   ]
  },
  {
   "cell_type": "code",
   "execution_count": 19,
   "id": "57a25d09",
   "metadata": {},
   "outputs": [
    {
     "name": "stdout",
     "output_type": "stream",
     "text": [
      "score:50:he eats apples=apples he eats\n",
      "score:57:Did he eat apples=he did eats apples and banana\n"
     ]
    }
   ],
   "source": [
    "for i,j in zip(ex3,ex4):\n",
    "    print('score:{}:{}={}'.format(fuzz.ratio(i,j),i,j))"
   ]
  },
  {
   "cell_type": "code",
   "execution_count": 20,
   "id": "2b7207d1",
   "metadata": {},
   "outputs": [
    {
     "name": "stdout",
     "output_type": "stream",
     "text": [
      "score:100:he eats apples=apples he eats\n",
      "score:74:Did he eat apples=he did eats apples and banana\n"
     ]
    }
   ],
   "source": [
    "for i,j in zip(ex3,ex4):\n",
    "    print('score:{}:{}={}'.format(fuzz.token_sort_ratio(i,j),i,j))"
   ]
  },
  {
   "cell_type": "markdown",
   "id": "df4b620e",
   "metadata": {},
   "source": [
    "# PROCESS.EXTRACT "
   ]
  },
  {
   "cell_type": "markdown",
   "id": "33c5eb44",
   "metadata": {},
   "source": [
    "Set A limit to extract Out"
   ]
  },
  {
   "cell_type": "markdown",
   "id": "4f513798",
   "metadata": {},
   "source": [
    "Process extract etc"
   ]
  },
  {
   "cell_type": "code",
   "execution_count": 21,
   "id": "c6b86c3a",
   "metadata": {},
   "outputs": [
    {
     "data": {
      "text/plain": [
       "['he eats apples', 'Did he eat apples']"
      ]
     },
     "execution_count": 21,
     "metadata": {},
     "output_type": "execute_result"
    }
   ],
   "source": [
    "ex3"
   ]
  },
  {
   "cell_type": "code",
   "execution_count": 22,
   "id": "50f7e2de",
   "metadata": {},
   "outputs": [
    {
     "data": {
      "text/plain": [
       "[('he eats apples', 90), ('Did he eat apples', 90)]"
      ]
     },
     "execution_count": 22,
     "metadata": {},
     "output_type": "execute_result"
    }
   ],
   "source": [
    "process.extract('apples',ex3,limit=2)"
   ]
  },
  {
   "cell_type": "code",
   "execution_count": 23,
   "id": "66bf9bc2",
   "metadata": {},
   "outputs": [
    {
     "data": {
      "text/plain": [
       "[('he eats apples', 90)]"
      ]
     },
     "execution_count": 23,
     "metadata": {},
     "output_type": "execute_result"
    }
   ],
   "source": [
    "process.extract('apples',ex3,limit=1)"
   ]
  },
  {
   "cell_type": "code",
   "execution_count": 24,
   "id": "11548408",
   "metadata": {},
   "outputs": [
    {
     "data": {
      "text/plain": [
       "[('he eats apples', 90), ('Did he eat apples', 90)]"
      ]
     },
     "execution_count": 24,
     "metadata": {},
     "output_type": "execute_result"
    }
   ],
   "source": [
    "process.extract('apples',ex3,limit=3)"
   ]
  },
  {
   "cell_type": "code",
   "execution_count": 25,
   "id": "2242c343",
   "metadata": {},
   "outputs": [
    {
     "data": {
      "text/plain": [
       "[('he eats apples', 100), ('Did he eat apples', 100)]"
      ]
     },
     "execution_count": 25,
     "metadata": {},
     "output_type": "execute_result"
    }
   ],
   "source": [
    "process.extract('apples',ex3,scorer=fuzz.partial_ratio)"
   ]
  },
  {
   "cell_type": "code",
   "execution_count": 26,
   "id": "5b808ee5",
   "metadata": {},
   "outputs": [
    {
     "ename": "NameError",
     "evalue": "name 'blogs' is not defined",
     "output_type": "error",
     "traceback": [
      "\u001b[1;31m---------------------------------------------------------------------------\u001b[0m",
      "\u001b[1;31mNameError\u001b[0m                                 Traceback (most recent call last)",
      "Cell \u001b[1;32mIn[26], line 1\u001b[0m\n\u001b[1;32m----> 1\u001b[0m \u001b[38;5;28mprint\u001b[39m(\u001b[38;5;28mlen\u001b[39m(\u001b[43mblogs\u001b[49m))\n\u001b[0;32m      2\u001b[0m \u001b[38;5;28mprint\u001b[39m(\u001b[38;5;28mlen\u001b[39m(links))\n",
      "\u001b[1;31mNameError\u001b[0m: name 'blogs' is not defined"
     ]
    }
   ],
   "source": [
    "print(len(blogs))\n",
    "print(len(links))"
   ]
  },
  {
   "cell_type": "code",
   "execution_count": null,
   "id": "d30581a6",
   "metadata": {},
   "outputs": [],
   "source": []
  }
 ],
 "metadata": {
  "kernelspec": {
   "display_name": "Python 3 (ipykernel)",
   "language": "python",
   "name": "python3"
  },
  "language_info": {
   "codemirror_mode": {
    "name": "ipython",
    "version": 3
   },
   "file_extension": ".py",
   "mimetype": "text/x-python",
   "name": "python",
   "nbconvert_exporter": "python",
   "pygments_lexer": "ipython3",
   "version": "3.10.9"
  }
 },
 "nbformat": 4,
 "nbformat_minor": 5
}
