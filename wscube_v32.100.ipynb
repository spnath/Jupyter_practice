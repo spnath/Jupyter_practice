{
 "cells": [
  {
   "cell_type": "markdown",
   "id": "e6373e8a",
   "metadata": {},
   "source": [
    "# Find Factorial of Number of Recursion "
   ]
  },
  {
   "cell_type": "markdown",
   "id": "7f570b2b",
   "metadata": {},
   "source": [
    "# 5! = 5x4x3x2x1 =120"
   ]
  },
  {
   "cell_type": "code",
   "execution_count": null,
   "id": "0df5e7bf",
   "metadata": {},
   "outputs": [
    {
     "name": "stdout",
     "output_type": "stream",
     "text": [
      "Enter ther number here  5\n",
      "Factorial Given Number is 120\n",
      "Enter ther number here  6\n",
      "Factorial Given Number is 720\n"
     ]
    }
   ],
   "source": [
    "while True:\n",
    "    def fact(n):\n",
    "        if n==1:\n",
    "            return 1\n",
    "        else:\n",
    "            return (n* fact(n-1))\n",
    "\n",
    "\n",
    "    n=int(input(\"Enter ther number here  \"))\n",
    "    if n<=0:\n",
    "        print('Factorial of Number less than 1 does not exists  ')\n",
    "    else:\n",
    "        print('Factorial Given Number is', fact(n))"
   ]
  },
  {
   "cell_type": "code",
   "execution_count": null,
   "id": "c82d995d",
   "metadata": {},
   "outputs": [],
   "source": []
  }
 ],
 "metadata": {
  "kernelspec": {
   "display_name": "Python 3 (ipykernel)",
   "language": "python",
   "name": "python3"
  },
  "language_info": {
   "codemirror_mode": {
    "name": "ipython",
    "version": 3
   },
   "file_extension": ".py",
   "mimetype": "text/x-python",
   "name": "python",
   "nbconvert_exporter": "python",
   "pygments_lexer": "ipython3",
   "version": "3.10.9"
  }
 },
 "nbformat": 4,
 "nbformat_minor": 5
}
