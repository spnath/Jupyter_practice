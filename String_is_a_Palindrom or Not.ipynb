{
 "cells": [
  {
   "cell_type": "code",
   "execution_count": null,
   "id": "3fd2dc3e",
   "metadata": {},
   "outputs": [
    {
     "name": "stdout",
     "output_type": "stream",
     "text": [
      "Enter a word here hello\n",
      "It Is Not a Palindrom\n",
      "Enter a word here madam\n",
      "It Is a Palindrom\n",
      "Enter a word here kala\n",
      "It Is Not a Palindrom\n"
     ]
    }
   ],
   "source": [
    "while True:\n",
    "    a=input(\"Enter a word here \")\n",
    "\n",
    "    rev=a[::-1]\n",
    "\n",
    "    if a==rev:\n",
    "        print('It Is a Palindrom')\n",
    "    else:\n",
    "        print('It Is Not a Palindrom')"
   ]
  },
  {
   "cell_type": "code",
   "execution_count": null,
   "id": "f4e8d7a5",
   "metadata": {},
   "outputs": [],
   "source": []
  }
 ],
 "metadata": {
  "kernelspec": {
   "display_name": "Python 3 (ipykernel)",
   "language": "python",
   "name": "python3"
  },
  "language_info": {
   "codemirror_mode": {
    "name": "ipython",
    "version": 3
   },
   "file_extension": ".py",
   "mimetype": "text/x-python",
   "name": "python",
   "nbconvert_exporter": "python",
   "pygments_lexer": "ipython3",
   "version": "3.10.9"
  }
 },
 "nbformat": 4,
 "nbformat_minor": 5
}
