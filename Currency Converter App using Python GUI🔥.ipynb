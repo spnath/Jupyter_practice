{
 "cells": [
  {
   "cell_type": "markdown",
   "id": "4fd0706e",
   "metadata": {},
   "source": [
    "# Currency Converter App using Python GUI🔥"
   ]
  },
  {
   "cell_type": "code",
   "execution_count": 5,
   "id": "97b69955",
   "metadata": {},
   "outputs": [
    {
     "name": "stdout",
     "output_type": "stream",
     "text": [
      "Collecting CurrencyConverter\n",
      "  Using cached CurrencyConverter-0.17.9-py3-none-any.whl (573 kB)\n",
      "Installing collected packages: CurrencyConverter\n",
      "Successfully installed CurrencyConverter-0.17.9\n"
     ]
    }
   ],
   "source": [
    "! pip install CurrencyConverter"
   ]
  },
  {
   "cell_type": "code",
   "execution_count": null,
   "id": "7f85280a",
   "metadata": {},
   "outputs": [
    {
     "name": "stdout",
     "output_type": "stream",
     "text": [
      "enter the currency value: 55\n",
      "4511.455852720278\n",
      "enter the currency value: 125\n",
      "10253.308756182449\n",
      "enter the currency value: 1250\n",
      "102533.0875618245\n",
      "enter the currency value: 10\n",
      "820.2647004945959\n"
     ]
    }
   ],
   "source": [
    "while True:\n",
    "    from currency_converter import CurrencyConverter\n",
    "    a=CurrencyConverter()\n",
    "    b=input(\"enter the currency value: \")\n",
    "    print(a.convert(b, \"USD\",\"INR\"))"
   ]
  },
  {
   "cell_type": "code",
   "execution_count": null,
   "id": "60b477d7",
   "metadata": {},
   "outputs": [],
   "source": []
  }
 ],
 "metadata": {
  "kernelspec": {
   "display_name": "Python 3 (ipykernel)",
   "language": "python",
   "name": "python3"
  },
  "language_info": {
   "codemirror_mode": {
    "name": "ipython",
    "version": 3
   },
   "file_extension": ".py",
   "mimetype": "text/x-python",
   "name": "python",
   "nbconvert_exporter": "python",
   "pygments_lexer": "ipython3",
   "version": "3.10.9"
  }
 },
 "nbformat": 4,
 "nbformat_minor": 5
}
