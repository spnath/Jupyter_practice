{
 "cells": [
  {
   "cell_type": "code",
   "execution_count": 2,
   "id": "30051f36",
   "metadata": {},
   "outputs": [],
   "source": [
    "import numpy as np"
   ]
  },
  {
   "cell_type": "code",
   "execution_count": 3,
   "id": "cd838bc4",
   "metadata": {},
   "outputs": [
    {
     "data": {
      "text/plain": [
       "0.03426444541984286"
      ]
     },
     "execution_count": 3,
     "metadata": {},
     "output_type": "execute_result"
    }
   ],
   "source": [
    "np.random.random()"
   ]
  },
  {
   "cell_type": "code",
   "execution_count": 4,
   "id": "6082d403",
   "metadata": {},
   "outputs": [
    {
     "data": {
      "text/plain": [
       "array([0.10448996, 0.51352473, 0.18805215, 0.79724973, 0.16428718])"
      ]
     },
     "execution_count": 4,
     "metadata": {},
     "output_type": "execute_result"
    }
   ],
   "source": [
    "np.random.random(5)"
   ]
  },
  {
   "cell_type": "code",
   "execution_count": 5,
   "id": "fa32caa4",
   "metadata": {},
   "outputs": [
    {
     "data": {
      "text/plain": [
       "5"
      ]
     },
     "execution_count": 5,
     "metadata": {},
     "output_type": "execute_result"
    }
   ],
   "source": [
    "np.random.randint(9)"
   ]
  },
  {
   "cell_type": "code",
   "execution_count": 6,
   "id": "6acabe0b",
   "metadata": {},
   "outputs": [
    {
     "data": {
      "text/plain": [
       "array([[[0.73597552, 0.61486008, 0.25254064, 0.11136052, 0.84033105,\n",
       "         0.44597549, 0.18883428],\n",
       "        [0.32287836, 0.03202121, 0.79309444, 0.02499434, 0.05566666,\n",
       "         0.52723374, 0.37590128],\n",
       "        [0.88340541, 0.74700777, 0.28954714, 0.78654794, 0.36821625,\n",
       "         0.90544769, 0.99847924],\n",
       "        [0.55189649, 0.62678729, 0.42722316, 0.69569356, 0.43675711,\n",
       "         0.43764378, 0.15312893]],\n",
       "\n",
       "       [[0.02123979, 0.76201438, 0.97585034, 0.62756874, 0.33036687,\n",
       "         0.78788732, 0.10516314],\n",
       "        [0.51975768, 0.62658973, 0.78850774, 0.43876051, 0.64916111,\n",
       "         0.53080763, 0.93276672],\n",
       "        [0.04789704, 0.15325171, 0.62272873, 0.37094268, 0.66437742,\n",
       "         0.84308589, 0.36214643],\n",
       "        [0.22513392, 0.95882943, 0.18033043, 0.42640679, 0.9173223 ,\n",
       "         0.19905886, 0.40469755]]])"
      ]
     },
     "execution_count": 6,
     "metadata": {},
     "output_type": "execute_result"
    }
   ],
   "source": [
    "np.random.random((2,4,7))"
   ]
  },
  {
   "cell_type": "markdown",
   "id": "b4849f9d",
   "metadata": {},
   "source": [
    "# 2. Randint Function"
   ]
  },
  {
   "cell_type": "markdown",
   "id": "6fdd9420",
   "metadata": {},
   "source": [
    ".It generates random interger(s) number between the given range"
   ]
  },
  {
   "cell_type": "markdown",
   "id": "fd762731",
   "metadata": {},
   "source": [
    "By default the range will start from 0"
   ]
  },
  {
   "cell_type": "markdown",
   "id": "8619b550",
   "metadata": {},
   "source": [
    "The numbers can repeat"
   ]
  },
  {
   "cell_type": "code",
   "execution_count": 7,
   "id": "86f9ac7a",
   "metadata": {},
   "outputs": [
    {
     "data": {
      "text/plain": [
       "2"
      ]
     },
     "execution_count": 7,
     "metadata": {},
     "output_type": "execute_result"
    }
   ],
   "source": [
    "np.random.randint(2,13)"
   ]
  },
  {
   "cell_type": "code",
   "execution_count": 8,
   "id": "dfe470c6",
   "metadata": {},
   "outputs": [
    {
     "data": {
      "text/plain": [
       "array([ 2,  3,  3,  4,  2, 11])"
      ]
     },
     "execution_count": 8,
     "metadata": {},
     "output_type": "execute_result"
    }
   ],
   "source": [
    "np.random.randint(2,13,6) # Repeat the number below is \"12\""
   ]
  },
  {
   "cell_type": "markdown",
   "id": "a29ef38c",
   "metadata": {},
   "source": [
    "# 3. Rand Function"
   ]
  },
  {
   "cell_type": "markdown",
   "id": "303e1d14",
   "metadata": {},
   "source": [
    "It returns random float number between 0 and 1"
   ]
  },
  {
   "cell_type": "code",
   "execution_count": 9,
   "id": "5e412e2a",
   "metadata": {},
   "outputs": [
    {
     "data": {
      "text/plain": [
       "0.8975042104987216"
      ]
     },
     "execution_count": 9,
     "metadata": {},
     "output_type": "execute_result"
    }
   ],
   "source": [
    "np.random.rand()"
   ]
  },
  {
   "cell_type": "code",
   "execution_count": 10,
   "id": "2a681548",
   "metadata": {},
   "outputs": [
    {
     "data": {
      "text/plain": [
       "array([[0.57142643, 0.5732836 , 0.98371084, 0.48624602, 0.83394054],\n",
       "       [0.44041498, 0.10295399, 0.5273788 , 0.58633961, 0.66821408]])"
      ]
     },
     "execution_count": 10,
     "metadata": {},
     "output_type": "execute_result"
    }
   ],
   "source": [
    "np.random.rand(2,5)"
   ]
  },
  {
   "cell_type": "code",
   "execution_count": 11,
   "id": "5ae51933",
   "metadata": {},
   "outputs": [
    {
     "data": {
      "text/plain": [
       "array([[[0.50845645, 0.66380184, 0.60544148, 0.15971411, 0.12636616],\n",
       "        [0.57859412, 0.47064062, 0.06348085, 0.72962523, 0.33066484],\n",
       "        [0.87830486, 0.28991379, 0.55711646, 0.28118957, 0.55348546]]])"
      ]
     },
     "execution_count": 11,
     "metadata": {},
     "output_type": "execute_result"
    }
   ],
   "source": [
    "np.random.rand(1,3,5)"
   ]
  },
  {
   "cell_type": "markdown",
   "id": "25c17686",
   "metadata": {},
   "source": [
    "# 4. Randn Function (Show the -ve value in array)"
   ]
  },
  {
   "cell_type": "code",
   "execution_count": 12,
   "id": "4e431b96",
   "metadata": {},
   "outputs": [
    {
     "data": {
      "text/plain": [
       "-0.30435143807736326"
      ]
     },
     "execution_count": 12,
     "metadata": {},
     "output_type": "execute_result"
    }
   ],
   "source": [
    "np.random.randn()"
   ]
  },
  {
   "cell_type": "code",
   "execution_count": 13,
   "id": "b17b824d",
   "metadata": {},
   "outputs": [
    {
     "data": {
      "text/plain": [
       "array([[-0.39282111, -0.68097444,  0.13750123,  0.10121271,  0.82994635,\n",
       "         2.03231477],\n",
       "       [-0.57845099, -0.26386649,  0.0861015 ,  0.75548047,  1.77960408,\n",
       "         0.27746267]])"
      ]
     },
     "execution_count": 13,
     "metadata": {},
     "output_type": "execute_result"
    }
   ],
   "source": [
    "np.random.randn(2,6)"
   ]
  },
  {
   "cell_type": "code",
   "execution_count": null,
   "id": "569ca6cd",
   "metadata": {},
   "outputs": [],
   "source": []
  },
  {
   "cell_type": "markdown",
   "id": "040185d3",
   "metadata": {},
   "source": [
    "# 5. Uniform Function "
   ]
  },
  {
   "cell_type": "markdown",
   "id": "a154779f",
   "metadata": {},
   "source": [
    "It returns random float number between the given range of values \n"
   ]
  },
  {
   "cell_type": "markdown",
   "id": "b564c4ac",
   "metadata": {},
   "source": [
    "The random numbers can't repeat\n"
   ]
  },
  {
   "cell_type": "markdown",
   "id": "e56a1a35",
   "metadata": {},
   "source": [
    "By default the numbers starts from o\n"
   ]
  },
  {
   "cell_type": "markdown",
   "id": "83b93bef",
   "metadata": {},
   "source": [
    "If nothing is passed in (), it will return a float number between 0 and 1"
   ]
  },
  {
   "cell_type": "code",
   "execution_count": 14,
   "id": "b136063b",
   "metadata": {},
   "outputs": [
    {
     "data": {
      "text/plain": [
       "3.345725167592574"
      ]
     },
     "execution_count": 14,
     "metadata": {},
     "output_type": "execute_result"
    }
   ],
   "source": [
    "np.random.uniform(2,5)"
   ]
  },
  {
   "cell_type": "code",
   "execution_count": 15,
   "id": "520bbfa4",
   "metadata": {},
   "outputs": [
    {
     "data": {
      "text/plain": [
       "array([4.19882488, 5.30630393, 4.63094012, 4.6058152 , 2.53906712,\n",
       "       2.6084188 , 2.3305894 , 4.21449497, 3.24251447])"
      ]
     },
     "execution_count": 15,
     "metadata": {},
     "output_type": "execute_result"
    }
   ],
   "source": [
    "np.random.uniform(2,6,9)"
   ]
  },
  {
   "cell_type": "code",
   "execution_count": 16,
   "id": "4c97f97b",
   "metadata": {},
   "outputs": [
    {
     "data": {
      "text/plain": [
       "4.7123861029567635"
      ]
     },
     "execution_count": 16,
     "metadata": {},
     "output_type": "execute_result"
    }
   ],
   "source": [
    "np.random.uniform(9)"
   ]
  },
  {
   "cell_type": "code",
   "execution_count": 17,
   "id": "3add57ad",
   "metadata": {},
   "outputs": [
    {
     "data": {
      "text/plain": [
       "0.5822295302350529"
      ]
     },
     "execution_count": 17,
     "metadata": {},
     "output_type": "execute_result"
    }
   ],
   "source": [
    "np.random.uniform()"
   ]
  },
  {
   "cell_type": "markdown",
   "id": "ace61aed",
   "metadata": {},
   "source": [
    "# 6.Choice Function"
   ]
  },
  {
   "cell_type": "markdown",
   "id": "ad787ddb",
   "metadata": {},
   "source": [
    "It returns random integers number from the given sequence\n"
   ]
  },
  {
   "cell_type": "markdown",
   "id": "cd77ba6b",
   "metadata": {},
   "source": [
    "The range starts from 0 by default"
   ]
  },
  {
   "cell_type": "markdown",
   "id": "7d8214b4",
   "metadata": {},
   "source": [
    "If only 1 element is passed, then it will return a number between 0 and that element"
   ]
  },
  {
   "cell_type": "markdown",
   "id": "4c6417e8",
   "metadata": {},
   "source": [
    "By default replace=True, which means that the numbers can repeat"
   ]
  },
  {
   "cell_type": "code",
   "execution_count": 18,
   "id": "37930b9d",
   "metadata": {},
   "outputs": [
    {
     "data": {
      "text/plain": [
       "874"
      ]
     },
     "execution_count": 18,
     "metadata": {},
     "output_type": "execute_result"
    }
   ],
   "source": [
    "np.random.choice([12,14,99,15,87,54,65,874\n",
    "                 ])"
   ]
  },
  {
   "cell_type": "code",
   "execution_count": 19,
   "id": "0657d233",
   "metadata": {},
   "outputs": [
    {
     "data": {
      "text/plain": [
       "array([35, 25, 30, 20, 30])"
      ]
     },
     "execution_count": 19,
     "metadata": {},
     "output_type": "execute_result"
    }
   ],
   "source": [
    "np.random.choice([11,15,20,25,30,35],5)"
   ]
  },
  {
   "cell_type": "code",
   "execution_count": 20,
   "id": "0a8a2a96",
   "metadata": {},
   "outputs": [
    {
     "data": {
      "text/plain": [
       "array([ 3,  1,  1,  1,  4,  8, 11, 12,  6, 12, 10,  3, 12,  6,  0,  2,  5,\n",
       "        1, 11,  3, 12,  2,  6,  9,  2,  3,  9,  1, 10,  7,  7,  7,  2,  4,\n",
       "        2,  1,  7,  9, 12,  8,  2,  3,  6,  6,  0,  6,  3,  8,  4,  4,  0,\n",
       "        7,  6, 12,  1,  8, 10,  4,  9,  7,  8,  8,  7,  7,  0,  5,  0,  7,\n",
       "       12,  8,  4,  7,  9, 12, 11,  9,  2,  2,  4,  0,  0, 10, 11,  6,  2,\n",
       "        8,  1,  8,  3,  5,  3,  1,  1, 12,  0,  2,  5,  6,  9,  1,  5,  9,\n",
       "        7,  7,  8, 10,  4,  5,  3,  4,  5,  6,  7,  4,  6,  0,  3,  8,  1,\n",
       "        7,  1,  7,  4, 11,  1,  0,  5, 11,  8, 11, 10,  8,  4, 11, 12,  1,\n",
       "       12,  8, 12,  9, 11,  8,  2,  0,  6, 11,  7, 11,  7,  2, 10, 10,  9,\n",
       "        3, 10,  9,  4,  6, 11, 10,  8, 11, 10,  5,  1,  8,  2, 11,  4,  4,\n",
       "        2,  6,  5,  1,  7, 12,  2,  3, 11,  5, 10,  2,  6,  9,  2,  5,  3,\n",
       "        6, 11, 10,  6, 11,  5,  4,  0,  0,  4, 12,  4,  1, 12,  2,  4,  2,\n",
       "        4,  9, 10,  3,  5,  0,  3,  9,  3,  4,  8,  3,  3,  1,  4, 12,  9,\n",
       "        2,  2,  3,  5,  1,  1,  7,  1,  1,  9,  6,  2, 10,  9,  6,  7,  7,\n",
       "       10, 11,  5,  5,  7, 12,  3,  2, 11,  0, 12,  7,  0,  9, 11,  0,  6,\n",
       "        1,  7,  3,  8, 10, 11,  4,  6,  2,  9,  1, 12,  7, 12, 10, 11,  7,\n",
       "        9,  2,  4,  6,  8,  4,  2,  1,  5,  2,  9,  7, 10,  9,  6,  3,  8,\n",
       "        3, 12,  8,  0,  4,  3,  0,  3,  8,  3,  2,  9,  3,  3,  9,  2, 10,\n",
       "        4,  8,  9,  5,  8,  8,  6, 10, 11,  2, 12,  2, 10, 11,  4,  2,  6,\n",
       "       10,  5,  7,  0,  7,  3,  5,  8, 10,  4,  1,  2,  9,  4,  6,  2, 10,\n",
       "        6,  5, 10,  0,  8,  3,  0,  1,  2,  0])"
      ]
     },
     "execution_count": 20,
     "metadata": {},
     "output_type": "execute_result"
    }
   ],
   "source": [
    "np.random.choice(13,350)"
   ]
  },
  {
   "cell_type": "code",
   "execution_count": 21,
   "id": "51ed1526",
   "metadata": {},
   "outputs": [
    {
     "data": {
      "text/plain": [
       "10"
      ]
     },
     "execution_count": 21,
     "metadata": {},
     "output_type": "execute_result"
    }
   ],
   "source": [
    "np.random.choice(12)"
   ]
  },
  {
   "cell_type": "code",
   "execution_count": 22,
   "id": "60ce88f1",
   "metadata": {},
   "outputs": [
    {
     "data": {
      "text/plain": [
       "array([20, 12, 20, 18, 26, 26, 20, 26, 12, 12, 29, 19, 16, 19, 19, 19, 16,\n",
       "       12, 20, 16])"
      ]
     },
     "execution_count": 22,
     "metadata": {},
     "output_type": "execute_result"
    }
   ],
   "source": [
    "np.random.choice([12,16,18,19,20,26,29], size=20, replace=True)"
   ]
  },
  {
   "cell_type": "markdown",
   "id": "3f5fbd5c",
   "metadata": {},
   "source": [
    "# 9. Random Function"
   ]
  },
  {
   "cell_type": "markdown",
   "id": "40462668",
   "metadata": {},
   "source": [
    "Linspace function returns evenly (linearly) space values within a given iterval"
   ]
  },
  {
   "cell_type": "markdown",
   "id": "37c50c91",
   "metadata": {},
   "source": [
    "np.linspace(start_value,stop_value,num=50,endpoint=False,retstep=True,dtype=None)"
   ]
  },
  {
   "cell_type": "markdown",
   "id": "1808d283",
   "metadata": {},
   "source": [
    "Note-By default it shows 50 values"
   ]
  },
  {
   "cell_type": "code",
   "execution_count": 23,
   "id": "f5d8cb83",
   "metadata": {},
   "outputs": [],
   "source": [
    "import numpy as np"
   ]
  },
  {
   "cell_type": "code",
   "execution_count": 24,
   "id": "1dd295d6",
   "metadata": {},
   "outputs": [],
   "source": [
    "a=np.linspace(2,30,num=15)"
   ]
  },
  {
   "cell_type": "code",
   "execution_count": 25,
   "id": "1ddc6840",
   "metadata": {},
   "outputs": [
    {
     "name": "stdout",
     "output_type": "stream",
     "text": [
      "[ 2.  4.  6.  8. 10. 12. 14. 16. 18. 20. 22. 24. 26. 28. 30.]\n"
     ]
    }
   ],
   "source": [
    "print(a)"
   ]
  },
  {
   "cell_type": "code",
   "execution_count": 30,
   "id": "856f91a7",
   "metadata": {},
   "outputs": [
    {
     "name": "stdout",
     "output_type": "stream",
     "text": [
      "[ 2.   3.5  5.   6.5  8.   9.5 11.  12.5 14.  15.5 17.  18.5 20. ]\n"
     ]
    }
   ],
   "source": [
    "a=np.linspace(2,20,num=13,endpoint=True)\n",
    "print(a)"
   ]
  },
  {
   "cell_type": "code",
   "execution_count": 33,
   "id": "71f5a3f6",
   "metadata": {},
   "outputs": [],
   "source": [
    "a=np.linspace(2,20,num=10,endpoint=True)"
   ]
  },
  {
   "cell_type": "code",
   "execution_count": 34,
   "id": "2b6b9690",
   "metadata": {},
   "outputs": [
    {
     "name": "stdout",
     "output_type": "stream",
     "text": [
      "[ 2.  4.  6.  8. 10. 12. 14. 16. 18. 20.]\n"
     ]
    }
   ],
   "source": [
    "print(a)"
   ]
  },
  {
   "cell_type": "code",
   "execution_count": 37,
   "id": "cd81f665",
   "metadata": {},
   "outputs": [],
   "source": [
    "a=np.linspace(2,20,num=10,endpoint=True, retstep=True)"
   ]
  },
  {
   "cell_type": "code",
   "execution_count": 38,
   "id": "2db89c56",
   "metadata": {},
   "outputs": [
    {
     "name": "stdout",
     "output_type": "stream",
     "text": [
      "(array([ 2.,  4.,  6.,  8., 10., 12., 14., 16., 18., 20.]), 2.0)\n"
     ]
    }
   ],
   "source": [
    "print(a)"
   ]
  },
  {
   "cell_type": "code",
   "execution_count": 39,
   "id": "e5330aea",
   "metadata": {},
   "outputs": [
    {
     "name": "stdout",
     "output_type": "stream",
     "text": [
      "[ 2.  4.  6.  8. 10. 12. 14. 16. 18. 20.]\n"
     ]
    }
   ],
   "source": [
    "a=np.linspace(2,20,num=10,endpoint=True, retstep=False)\n",
    "print(a)"
   ]
  },
  {
   "cell_type": "code",
   "execution_count": 40,
   "id": "a37100ea",
   "metadata": {},
   "outputs": [
    {
     "name": "stdout",
     "output_type": "stream",
     "text": [
      "['2.0' '4.0' '6.0' '8.0' '10.0' '12.0' '14.0' '16.0' '18.0' '20.0']\n"
     ]
    }
   ],
   "source": [
    "a=np.linspace(2,20,num=10,endpoint=True, retstep=False, dtype=str)\n",
    "print(a)"
   ]
  },
  {
   "cell_type": "code",
   "execution_count": 41,
   "id": "8a415f57",
   "metadata": {},
   "outputs": [
    {
     "name": "stdout",
     "output_type": "stream",
     "text": [
      "[ 2.          2.36734694  2.73469388  3.10204082  3.46938776  3.83673469\n",
      "  4.20408163  4.57142857  4.93877551  5.30612245  5.67346939  6.04081633\n",
      "  6.40816327  6.7755102   7.14285714  7.51020408  7.87755102  8.24489796\n",
      "  8.6122449   8.97959184  9.34693878  9.71428571 10.08163265 10.44897959\n",
      " 10.81632653 11.18367347 11.55102041 11.91836735 12.28571429 12.65306122\n",
      " 13.02040816 13.3877551  13.75510204 14.12244898 14.48979592 14.85714286\n",
      " 15.2244898  15.59183673 15.95918367 16.32653061 16.69387755 17.06122449\n",
      " 17.42857143 17.79591837 18.16326531 18.53061224 18.89795918 19.26530612\n",
      " 19.63265306 20.        ]\n"
     ]
    }
   ],
   "source": [
    "a=np.linspace(2,20)\n",
    "print(a)"
   ]
  },
  {
   "cell_type": "code",
   "execution_count": 44,
   "id": "4c86b61a",
   "metadata": {},
   "outputs": [
    {
     "name": "stdout",
     "output_type": "stream",
     "text": [
      "[1.         1.04081633 1.08163265 1.12244898 1.16326531 1.20408163\n",
      " 1.24489796 1.28571429 1.32653061 1.36734694 1.40816327 1.44897959\n",
      " 1.48979592 1.53061224 1.57142857 1.6122449  1.65306122 1.69387755\n",
      " 1.73469388 1.7755102  1.81632653 1.85714286 1.89795918 1.93877551\n",
      " 1.97959184 2.02040816 2.06122449 2.10204082 2.14285714 2.18367347\n",
      " 2.2244898  2.26530612 2.30612245 2.34693878 2.3877551  2.42857143\n",
      " 2.46938776 2.51020408 2.55102041 2.59183673 2.63265306 2.67346939\n",
      " 2.71428571 2.75510204 2.79591837 2.83673469 2.87755102 2.91836735\n",
      " 2.95918367 3.        ]\n"
     ]
    }
   ],
   "source": [
    "a=np.linspace(1,3)\n",
    "print(a)           # by default it show the value is \"50\""
   ]
  },
  {
   "cell_type": "code",
   "execution_count": 45,
   "id": "d6f9c1ce",
   "metadata": {},
   "outputs": [
    {
     "name": "stdout",
     "output_type": "stream",
     "text": [
      "[1.         1.18181818 1.36363636 1.54545455 1.72727273 1.90909091\n",
      " 2.09090909 2.27272727 2.45454545 2.63636364 2.81818182 3.        ]\n"
     ]
    }
   ],
   "source": [
    "a=np.linspace(1,3,num=12)\n",
    "print(a)            # It show the \"12\" values as per num=12"
   ]
  },
  {
   "cell_type": "markdown",
   "id": "f3586bc6",
   "metadata": {},
   "source": [
    "# Empty Funcion is used to creat an array of arbitary values, of given shape and datatype, without initializing the entries."
   ]
  },
  {
   "cell_type": "markdown",
   "id": "9a9c3f5b",
   "metadata": {},
   "source": [
    "Syntax: np.empty(shape,dtype)"
   ]
  },
  {
   "cell_type": "markdown",
   "id": "3edfebaa",
   "metadata": {},
   "source": [
    "shape can given a list or tuple form"
   ]
  },
  {
   "cell_type": "markdown",
   "id": "15f0a73c",
   "metadata": {},
   "source": [
    "The default data type is float"
   ]
  },
  {
   "cell_type": "code",
   "execution_count": 50,
   "id": "ac291d46",
   "metadata": {},
   "outputs": [],
   "source": [
    "import numpy as np                                                                     # importing the numpy library"
   ]
  },
  {
   "cell_type": "code",
   "execution_count": 53,
   "id": "b9e8f1a8",
   "metadata": {},
   "outputs": [],
   "source": [
    "a=np.empty(7)\n"
   ]
  },
  {
   "cell_type": "code",
   "execution_count": 54,
   "id": "76a89234",
   "metadata": {},
   "outputs": [
    {
     "name": "stdout",
     "output_type": "stream",
     "text": [
      "[7.74860419e-304 7.74860419e-304 7.74860419e-304 7.74860419e-304\n",
      " 7.74860419e-304 7.74860419e-304 7.74860419e-304]\n"
     ]
    }
   ],
   "source": [
    "print(a)"
   ]
  },
  {
   "cell_type": "code",
   "execution_count": 55,
   "id": "bbfa6199",
   "metadata": {},
   "outputs": [
    {
     "name": "stdout",
     "output_type": "stream",
     "text": [
      "[11 15 20 25 30 35]\n"
     ]
    }
   ],
   "source": [
    "a=np.empty(6,dtype=int)\n",
    "print(a)"
   ]
  },
  {
   "cell_type": "code",
   "execution_count": 58,
   "id": "6721acb0",
   "metadata": {},
   "outputs": [],
   "source": [
    "      c=np.empty(5,dtype=object)                                                                  # creating an 1-D empty array"
   ]
  },
  {
   "cell_type": "code",
   "execution_count": 59,
   "id": "31835df2",
   "metadata": {},
   "outputs": [
    {
     "name": "stdout",
     "output_type": "stream",
     "text": [
      "[None None None None None]\n"
     ]
    }
   ],
   "source": [
    "print(c)"
   ]
  },
  {
   "cell_type": "code",
   "execution_count": 61,
   "id": "5d3f3f69",
   "metadata": {},
   "outputs": [
    {
     "name": "stdout",
     "output_type": "stream",
     "text": [
      "[ 1595993607 -1898916789  -584181272  -872522663]\n"
     ]
    }
   ],
   "source": [
    "s=np.empty(4,dtype=int)                  # creating an 1-D empty array, with integer datatype\n",
    "print(s)"
   ]
  },
  {
   "cell_type": "code",
   "execution_count": 62,
   "id": "96c6ca43",
   "metadata": {},
   "outputs": [
    {
     "name": "stdout",
     "output_type": "stream",
     "text": [
      "[None None None None]\n"
     ]
    }
   ],
   "source": [
    "p=np.empty(4, dtype=object)\n",
    "print(p)\n",
    "# creating an 1-D empty array, with object datatype"
   ]
  },
  {
   "cell_type": "code",
   "execution_count": 63,
   "id": "7174ca4d",
   "metadata": {},
   "outputs": [
    {
     "name": "stdout",
     "output_type": "stream",
     "text": [
      "[[ 2.  4.  6.  8. 10.]\n",
      " [12. 14. 16. 18. 20.]\n",
      " [22. 24. 26. 28. 30.]]\n"
     ]
    }
   ],
   "source": [
    "m=np.empty((3,5))\n",
    "print(m)\n",
    "# Creating a 2-D empty array"
   ]
  },
  {
   "cell_type": "code",
   "execution_count": 66,
   "id": "e426b79f",
   "metadata": {},
   "outputs": [
    {
     "name": "stdout",
     "output_type": "stream",
     "text": [
      "[[      0       0       0       0       0]\n",
      " [      0       0       0       0       0]\n",
      " [   1368       0       0 7274572       0]]\n"
     ]
    }
   ],
   "source": [
    "m=np.empty((3,5),dtype=int)\n",
    "print(m)"
   ]
  },
  {
   "cell_type": "code",
   "execution_count": 67,
   "id": "42434e68",
   "metadata": {},
   "outputs": [
    {
     "name": "stdout",
     "output_type": "stream",
     "text": [
      "[[None None None None None None None None None]\n",
      " [None None None None None None None None None]\n",
      " [None None None None None None None None None]\n",
      " [None None None None None None None None None]\n",
      " [None None None None None None None None None]]\n"
     ]
    }
   ],
   "source": [
    "b=np.empty((5,9), dtype=object)\n",
    "print(b)"
   ]
  },
  {
   "cell_type": "code",
   "execution_count": 70,
   "id": "fc82f558",
   "metadata": {},
   "outputs": [
    {
     "name": "stdout",
     "output_type": "stream",
     "text": [
      "[[[1.11099251e-311 1.01777523e-321 0.00000000e+000]\n",
      "  [0.00000000e+000 1.33511018e-306 1.16097020e-028]\n",
      "  [1.26087994e-076 2.80061835e-028 6.81211850e-038]\n",
      "  [1.04917183e-153 5.23081515e-143 1.41599427e-076]\n",
      "  [3.88589187e-057 1.71796607e+185 3.64054044e+175]]\n",
      "\n",
      " [[1.70098498e+256 5.49109388e-143 1.06396443e+224]\n",
      "  [3.96041428e+246 1.16318408e-028 1.48582052e-076]\n",
      "  [5.04457326e+174 9.27723476e-072 7.92237060e+165]\n",
      "  [1.01848862e+248 1.16096643e-028 3.68777431e+180]\n",
      "  [5.56111702e+180 5.74015544e+180 1.94919988e-153]]]\n"
     ]
    }
   ],
   "source": [
    "d=np.empty([2,5,3])                                                       # Creating a 3-D empty array\n",
    "print(d)"
   ]
  },
  {
   "cell_type": "code",
   "execution_count": 71,
   "id": "f058ea18",
   "metadata": {},
   "outputs": [
    {
     "name": "stdout",
     "output_type": "stream",
     "text": [
      "[[[ 1353548803    31040969  1353548803    31040969         950\n",
      "             0        4096           0          32]\n",
      "  [         32           0     5570584     3604558     4259890\n",
      "       8257588     3014705     5242953     5570649]\n",
      "  [    7602286     7602281     6619244     3211364     3014709\n",
      "       7340137     7209081          98         128]\n",
      "  [          0  -587363030    31042321   670910371    31042322\n",
      "     670910371    31042322   670910371    31042322]\n",
      "  [        589           0         592           0          32\n",
      "            32           0     5570584     4522062]\n",
      "  [    3145779     8257585     3014705     5242953     5570649\n",
      "       7602286     7602281     6619244     3211364]]\n",
      "\n",
      " [[    3014710     7340137     7209081          98         128\n",
      "             0  1763484780    31030460 -1028149436]\n",
      "  [   31033492 -1276465552    31030460 -1276465552    31030460\n",
      "           589           0         592           0]\n",
      "  [         32          30           0     5570584     5505102\n",
      "       5505097     8257612     3014707     5242953]\n",
      "  [    5570649     7602286     7602281     6619244     3276900\n",
      "       6881326     7929968     6422638           0]\n",
      "  [        128           0  -106736801    31030672 -1028126179\n",
      "      31033492  1272653158    31030697  1272653158]\n",
      "  [   31030697        3012           0        4096           0\n",
      "            32          30           0     5570584]]]\n"
     ]
    }
   ],
   "source": [
    "s=np.empty([2,6,9], dtype=int)                              # Creating a 3-D empty array, with data type integer\n",
    "print(s)"
   ]
  },
  {
   "cell_type": "code",
   "execution_count": 73,
   "id": "6ce4afc2",
   "metadata": {},
   "outputs": [
    {
     "name": "stdout",
     "output_type": "stream",
     "text": [
      "[[[None None None]\n",
      "  [None None None]\n",
      "  [None None None]\n",
      "  [None None None]\n",
      "  [None None None]]\n",
      "\n",
      " [[None None None]\n",
      "  [None None None]\n",
      "  [None None None]\n",
      "  [None None None]\n",
      "  [None None None]]]\n"
     ]
    }
   ],
   "source": [
    "o=np.empty([2,5,3], dtype=object)                                      # Creating a 3-D empty array, with data type object\n",
    "print(o)"
   ]
  },
  {
   "cell_type": "code",
   "execution_count": 74,
   "id": "785d1d92",
   "metadata": {},
   "outputs": [
    {
     "name": "stdout",
     "output_type": "stream",
     "text": [
      "[[[         0 1073741824          0]\n",
      "  [1074790400          0 1075314688]\n",
      "  [         0 1075838976          0]\n",
      "  [1076101120          0 1076363264]\n",
      "  [         0 1076625408          0]]\n",
      "\n",
      " [[1076887552          0 1077018624]\n",
      "  [         0 1077149696          0]\n",
      "  [1077280768          0 1077411840]\n",
      "  [         0 1077542912          0]\n",
      "  [1077673984          0 1077805056]]]\n"
     ]
    }
   ],
   "source": [
    "s=np.empty([2,5,3], dtype=int)\n",
    "print(s)"
   ]
  },
  {
   "cell_type": "markdown",
   "id": "7e72429c",
   "metadata": {},
   "source": [
    "# Eye Function in Python"
   ]
  },
  {
   "cell_type": "markdown",
   "id": "68206a4e",
   "metadata": {},
   "source": [
    "The Eye function return a 2-D array, with 1 on diagonal and 0 elsewhere"
   ]
  },
  {
   "cell_type": "markdown",
   "id": "c91e4038",
   "metadata": {},
   "source": [
    "Sytax>  np.eye(shape, k, dtype)"
   ]
  },
  {
   "cell_type": "markdown",
   "id": "7ace5517",
   "metadata": {},
   "source": [
    "Here: If only number of rows is passed then number of \"columns=No. of Rows\""
   ]
  },
  {
   "cell_type": "markdown",
   "id": "1a893bfc",
   "metadata": {},
   "source": [
    "K is index of diagonal, by default, k=0 means main diagonal; when k=+ve means upper diagonal & k=-Ve lower diagonal"
   ]
  },
  {
   "cell_type": "markdown",
   "id": "15a47481",
   "metadata": {},
   "source": [
    "The default data type is float"
   ]
  },
  {
   "cell_type": "code",
   "execution_count": 77,
   "id": "aabcd0fe",
   "metadata": {},
   "outputs": [],
   "source": [
    "import numpy as np                                        # import numpy libary"
   ]
  },
  {
   "cell_type": "code",
   "execution_count": 78,
   "id": "44d1a7ad",
   "metadata": {},
   "outputs": [
    {
     "name": "stdout",
     "output_type": "stream",
     "text": [
      "[[1. 0. 0. 0.]\n",
      " [0. 1. 0. 0.]\n",
      " [0. 0. 1. 0.]\n",
      " [0. 0. 0. 1.]]\n"
     ]
    }
   ],
   "source": [
    "a=np.eye(4)                                        # creating an array of shape 4x4\n",
    "print(a)"
   ]
  },
  {
   "cell_type": "code",
   "execution_count": 85,
   "id": "02a48aa3",
   "metadata": {},
   "outputs": [
    {
     "name": "stdout",
     "output_type": "stream",
     "text": [
      "[[1. 0. 0. 0. 0. 0. 0. 0. 0. 0. 0. 0.]\n",
      " [0. 1. 0. 0. 0. 0. 0. 0. 0. 0. 0. 0.]\n",
      " [0. 0. 1. 0. 0. 0. 0. 0. 0. 0. 0. 0.]\n",
      " [0. 0. 0. 1. 0. 0. 0. 0. 0. 0. 0. 0.]\n",
      " [0. 0. 0. 0. 1. 0. 0. 0. 0. 0. 0. 0.]\n",
      " [0. 0. 0. 0. 0. 1. 0. 0. 0. 0. 0. 0.]\n",
      " [0. 0. 0. 0. 0. 0. 1. 0. 0. 0. 0. 0.]\n",
      " [0. 0. 0. 0. 0. 0. 0. 1. 0. 0. 0. 0.]\n",
      " [0. 0. 0. 0. 0. 0. 0. 0. 1. 0. 0. 0.]\n",
      " [0. 0. 0. 0. 0. 0. 0. 0. 0. 1. 0. 0.]\n",
      " [0. 0. 0. 0. 0. 0. 0. 0. 0. 0. 1. 0.]\n",
      " [0. 0. 0. 0. 0. 0. 0. 0. 0. 0. 0. 1.]]\n"
     ]
    }
   ],
   "source": [
    "A=np.eye(12, k=0)                                       # creating an array of shape 4x4, with 1 at main diagonal\n",
    "print(A)"
   ]
  },
  {
   "cell_type": "code",
   "execution_count": 87,
   "id": "4441cc0a",
   "metadata": {},
   "outputs": [
    {
     "name": "stdout",
     "output_type": "stream",
     "text": [
      "[[0. 1. 0. 0.]\n",
      " [0. 0. 1. 0.]\n",
      " [0. 0. 0. 1.]\n",
      " [0. 0. 0. 0.]]\n"
     ]
    }
   ],
   "source": [
    "B=np.eye(4, k=1)                          # creating an array of shape 4x4, with 1 at upper diagonal\n",
    "print(B)    "
   ]
  },
  {
   "cell_type": "code",
   "execution_count": null,
   "id": "d9a1ad24",
   "metadata": {},
   "outputs": [],
   "source": []
  },
  {
   "cell_type": "code",
   "execution_count": 89,
   "id": "28e80281",
   "metadata": {},
   "outputs": [
    {
     "name": "stdout",
     "output_type": "stream",
     "text": [
      "[[0. 0. 0. 0. 0. 0.]\n",
      " [1. 0. 0. 0. 0. 0.]\n",
      " [0. 1. 0. 0. 0. 0.]\n",
      " [0. 0. 1. 0. 0. 0.]\n",
      " [0. 0. 0. 1. 0. 0.]\n",
      " [0. 0. 0. 0. 1. 0.]]\n"
     ]
    }
   ],
   "source": [
    "L=np.eye(6, k=-1)                                         # creating an array of shape 4x4, with 1 at lower diagonal\n",
    "print(L)    "
   ]
  },
  {
   "cell_type": "code",
   "execution_count": 91,
   "id": "fb0cb757",
   "metadata": {},
   "outputs": [
    {
     "name": "stdout",
     "output_type": "stream",
     "text": [
      "[[1 0 0 0]\n",
      " [0 1 0 0]\n",
      " [0 0 1 0]\n",
      " [0 0 0 1]]\n"
     ]
    }
   ],
   "source": [
    "i=np.eye(4, dtype=int)                                      # creating an array of shape 4x4, with an integer data type\n",
    "print(i)\n",
    "    "
   ]
  },
  {
   "cell_type": "code",
   "execution_count": 92,
   "id": "071ba1b1",
   "metadata": {},
   "outputs": [
    {
     "name": "stdout",
     "output_type": "stream",
     "text": [
      "[[1. 0. 0. 0. 0.]\n",
      " [0. 1. 0. 0. 0.]\n",
      " [0. 0. 1. 0. 0.]\n",
      " [0. 0. 0. 1. 0.]]\n"
     ]
    }
   ],
   "source": [
    "E=np.eye(4,5)                              # creating an array of shape 4x5, with an object data type\n",
    "print(E)"
   ]
  },
  {
   "cell_type": "code",
   "execution_count": 93,
   "id": "863d7c0a",
   "metadata": {},
   "outputs": [
    {
     "name": "stdout",
     "output_type": "stream",
     "text": [
      "[[1. 0. 0. 0.]\n",
      " [0. 1. 0. 0.]\n",
      " [0. 0. 1. 0.]\n",
      " [0. 0. 0. 1.]\n",
      " [0. 0. 0. 0.]]\n"
     ]
    }
   ],
   "source": [
    "a=np.eye(5,4)                                                        # Creating an array with shape of 5x4\n",
    "print(a)"
   ]
  },
  {
   "cell_type": "code",
   "execution_count": 94,
   "id": "9c524c1b",
   "metadata": {},
   "outputs": [
    {
     "data": {
      "text/plain": [
       "array([[0, 0, 0, 1, 0, 0],\n",
       "       [0, 0, 0, 0, 1, 0],\n",
       "       [0, 0, 0, 0, 0, 1],\n",
       "       [0, 0, 0, 0, 0, 0],\n",
       "       [0, 0, 0, 0, 0, 0]])"
      ]
     },
     "execution_count": 94,
     "metadata": {},
     "output_type": "execute_result"
    }
   ],
   "source": [
    "np.eye(5,6, k=3, dtype=int)"
   ]
  },
  {
   "cell_type": "code",
   "execution_count": 95,
   "id": "f8cf96fe",
   "metadata": {},
   "outputs": [
    {
     "data": {
      "text/plain": [
       "array([['1', '', '', '', ''],\n",
       "       ['', '1', '', '', ''],\n",
       "       ['', '', '1', '', ''],\n",
       "       ['', '', '', '1', ''],\n",
       "       ['', '', '', '', '1']], dtype='<U1')"
      ]
     },
     "execution_count": 95,
     "metadata": {},
     "output_type": "execute_result"
    }
   ],
   "source": [
    "np.eye(5, dtype=str)"
   ]
  },
  {
   "cell_type": "code",
   "execution_count": 96,
   "id": "e765a055",
   "metadata": {},
   "outputs": [
    {
     "data": {
      "text/plain": [
       "2"
      ]
     },
     "execution_count": 96,
     "metadata": {},
     "output_type": "execute_result"
    }
   ],
   "source": [
    "np.ndim(a) # THe array is a two dimensional array"
   ]
  },
  {
   "cell_type": "markdown",
   "id": "d17ab392",
   "metadata": {},
   "source": [
    "# 12. ZEROS LIKE, ONES LIKE, FULL LIKE ARRAY"
   ]
  },
  {
   "cell_type": "markdown",
   "id": "be77a985",
   "metadata": {},
   "source": [
    "ZEROS LIKE ARRAY - It returns an array or Zeros, with the same shape & type as of the given array"
   ]
  },
  {
   "cell_type": "markdown",
   "id": "6290da04",
   "metadata": {},
   "source": [
    "SYNTAX: np.zeros_like(array,dtype)"
   ]
  },
  {
   "cell_type": "code",
   "execution_count": 99,
   "id": "504c37b6",
   "metadata": {},
   "outputs": [],
   "source": [
    "import numpy as np                       # Import Numpy library "
   ]
  },
  {
   "cell_type": "code",
   "execution_count": 100,
   "id": "9d7da445",
   "metadata": {},
   "outputs": [],
   "source": [
    "   from numpy import random                         # To import random module from numpy library"
   ]
  },
  {
   "cell_type": "markdown",
   "id": "8b4beccc",
   "metadata": {},
   "source": [
    "# ONES LIKE Array-It returns an array of Ones, with the same shape & type as of the given array"
   ]
  },
  {
   "cell_type": "markdown",
   "id": "a6013a2b",
   "metadata": {},
   "source": [
    "SYNTAX: np.ones_like(array,dtype)"
   ]
  },
  {
   "cell_type": "code",
   "execution_count": 102,
   "id": "26f1e696",
   "metadata": {},
   "outputs": [
    {
     "name": "stdout",
     "output_type": "stream",
     "text": [
      "[21 22 23]\n"
     ]
    }
   ],
   "source": [
    "a=np.array([21,22,23])                        # Creating an 1-D array.\n",
    "print(a)"
   ]
  },
  {
   "cell_type": "code",
   "execution_count": 103,
   "id": "8bb53b02",
   "metadata": {},
   "outputs": [
    {
     "name": "stdout",
     "output_type": "stream",
     "text": [
      "[1 1 1]\n"
     ]
    }
   ],
   "source": [
    "b=np.ones_like(a)                                                # creating an ones array, from array A\n",
    "print(b)"
   ]
  },
  {
   "cell_type": "code",
   "execution_count": 104,
   "id": "04039c9a",
   "metadata": {},
   "outputs": [
    {
     "name": "stdout",
     "output_type": "stream",
     "text": [
      "[[0.67299475 0.07217279 0.73930388 0.67097923]\n",
      " [0.55146864 0.85271695 0.69893857 0.51302518]\n",
      " [0.51017993 0.43496303 0.11364945 0.81803181]]\n"
     ]
    }
   ],
   "source": [
    "c=np.random.random((3,4))                                            # Creating a 2-D Randam array of shape 3x4\n",
    "print(c)"
   ]
  },
  {
   "cell_type": "code",
   "execution_count": 106,
   "id": "be8954b0",
   "metadata": {},
   "outputs": [
    {
     "name": "stdout",
     "output_type": "stream",
     "text": [
      "[[1. 1. 1. 1.]\n",
      " [1. 1. 1. 1.]\n",
      " [1. 1. 1. 1.]]\n"
     ]
    }
   ],
   "source": [
    "d=np.ones_like(c)                                                        # Creating an Ones array from array c\n",
    "print(d)"
   ]
  },
  {
   "cell_type": "code",
   "execution_count": 107,
   "id": "d41bf539",
   "metadata": {},
   "outputs": [
    {
     "name": "stdout",
     "output_type": "stream",
     "text": [
      "[[1 1 1 1]\n",
      " [1 1 1 1]\n",
      " [1 1 1 1]]\n"
     ]
    }
   ],
   "source": [
    "e=np.ones_like(c, dtype=int)          # Creating an ones array of integer data type, from array c\n",
    "print(e)"
   ]
  },
  {
   "cell_type": "markdown",
   "id": "23e95ea0",
   "metadata": {},
   "source": [
    "# ZERO'S LIKE ARRAY -Ii returns an array of Zeros, with the same shape & type as of the given array\n",
    "\n",
    "SYNTAX:: np.zeros_like(array,dtype)"
   ]
  },
  {
   "cell_type": "code",
   "execution_count": 108,
   "id": "87d35d00",
   "metadata": {},
   "outputs": [
    {
     "data": {
      "text/plain": [
       "array([21, 22, 23])"
      ]
     },
     "execution_count": 108,
     "metadata": {},
     "output_type": "execute_result"
    }
   ],
   "source": [
    "a               # Creating a zeros array, from array A\n",
    "    "
   ]
  },
  {
   "cell_type": "code",
   "execution_count": 109,
   "id": "243a755f",
   "metadata": {},
   "outputs": [
    {
     "name": "stdout",
     "output_type": "stream",
     "text": [
      "[21 22 23]\n"
     ]
    }
   ],
   "source": [
    "b=np.zeros_like(a)       #\n",
    "print(a)"
   ]
  },
  {
   "cell_type": "code",
   "execution_count": 114,
   "id": "1a3ea0b5",
   "metadata": {},
   "outputs": [
    {
     "name": "stdout",
     "output_type": "stream",
     "text": [
      "[[-0.84509781 -0.38313618  0.26305242  0.74206884  1.65507153]\n",
      " [ 0.67157358  0.87933624  0.86441895 -0.31472956  0.67816918]]\n"
     ]
    }
   ],
   "source": [
    "s=np.random.randn(2,5)                            # Creating a 2-D random array of shape 2x5\n",
    "print(s)    "
   ]
  },
  {
   "cell_type": "code",
   "execution_count": 115,
   "id": "1bc28fa2",
   "metadata": {},
   "outputs": [
    {
     "name": "stdout",
     "output_type": "stream",
     "text": [
      "[[0. 0. 0. 0.]\n",
      " [0. 0. 0. 0.]\n",
      " [0. 0. 0. 0.]]\n"
     ]
    }
   ],
   "source": [
    "D=np.zeros_like(c)                                    # Creating a zeros array, from array C\n",
    "print(D)"
   ]
  },
  {
   "cell_type": "code",
   "execution_count": 116,
   "id": "a5eac773",
   "metadata": {},
   "outputs": [
    {
     "name": "stdout",
     "output_type": "stream",
     "text": [
      "[[0 0 0 0]\n",
      " [0 0 0 0]\n",
      " [0 0 0 0]]\n"
     ]
    }
   ],
   "source": [
    "i=np.zeros_like(c, dtype=int)                                         # creating a zeros array, from array c data type integer\n",
    "print(i)"
   ]
  },
  {
   "cell_type": "markdown",
   "id": "958b6a23",
   "metadata": {},
   "source": [
    "FULL Like Array - It returns a full array of Constant element with the same shape & type of the given array"
   ]
  },
  {
   "cell_type": "code",
   "execution_count": 117,
   "id": "2b720244",
   "metadata": {},
   "outputs": [
    {
     "data": {
      "text/plain": [
       "array([21, 22, 23])"
      ]
     },
     "execution_count": 117,
     "metadata": {},
     "output_type": "execute_result"
    }
   ],
   "source": [
    "a                                # Creating a full array of 7, from array A\n",
    "    "
   ]
  },
  {
   "cell_type": "code",
   "execution_count": 119,
   "id": "fa9b61db",
   "metadata": {},
   "outputs": [
    {
     "name": "stdout",
     "output_type": "stream",
     "text": [
      "[7 7 7]\n"
     ]
    }
   ],
   "source": [
    "b=np.full_like(a,7)\n",
    "print(b)"
   ]
  },
  {
   "cell_type": "code",
   "execution_count": 120,
   "id": "e197953e",
   "metadata": {},
   "outputs": [
    {
     "name": "stdout",
     "output_type": "stream",
     "text": [
      "[[[-1.20781873  0.78602967 -0.51565694  0.77073847 -0.87045033]\n",
      "  [-0.33539373 -1.14289645 -0.85958237  1.05832287 -0.02543919]\n",
      "  [-0.59588902  0.55898044 -2.22337636  0.3144329   0.38461073]]\n",
      "\n",
      " [[-0.52385244 -0.71763123  1.10304555 -0.11300497 -0.06806205]\n",
      "  [ 0.78103161  0.62637022 -1.10811532  0.06166569  0.04679701]\n",
      "  [ 0.35725063  0.0234082  -1.08460599  1.46149734 -0.60440574]]]\n"
     ]
    }
   ],
   "source": [
    "c=np.random.randn(2,3,5)                                            # Creating a 3-D random array of shape 2x3x4\n",
    "print(c)"
   ]
  },
  {
   "cell_type": "code",
   "execution_count": 121,
   "id": "9039d0c5",
   "metadata": {},
   "outputs": [
    {
     "name": "stdout",
     "output_type": "stream",
     "text": [
      "[[71. 71. 71. 71.]\n",
      " [71. 71. 71. 71.]\n",
      " [71. 71. 71. 71.]]\n"
     ]
    }
   ],
   "source": [
    "t=np.full_like(d, 71)                                            # Creating a full array of 71, from array C\n",
    "print(t)"
   ]
  },
  {
   "cell_type": "code",
   "execution_count": 122,
   "id": "0fa51370",
   "metadata": {},
   "outputs": [
    {
     "name": "stdout",
     "output_type": "stream",
     "text": [
      "[[[-71 -71 -71 -71 -71]\n",
      "  [-71 -71 -71 -71 -71]\n",
      "  [-71 -71 -71 -71 -71]]\n",
      "\n",
      " [[-71 -71 -71 -71 -71]\n",
      "  [-71 -71 -71 -71 -71]\n",
      "  [-71 -71 -71 -71 -71]]]\n"
     ]
    }
   ],
   "source": [
    "E=np.full_like(c, -71, dtype=int)               # Creating a full array of -71, from array C, interger datatype\n",
    "print(E)"
   ]
  },
  {
   "cell_type": "markdown",
   "id": "200b514d",
   "metadata": {},
   "source": [
    "# 15. Diagonal Function in Python"
   ]
  },
  {
   "cell_type": "markdown",
   "id": "c8959361",
   "metadata": {},
   "source": [
    "It is used to extract the diagonal elements of an array or used to construct a new diagonal array"
   ]
  },
  {
   "cell_type": "markdown",
   "id": "815a970e",
   "metadata": {},
   "source": [
    "SYNTAX: np.diag(a,k)"
   ]
  },
  {
   "cell_type": "markdown",
   "id": "969bea1f",
   "metadata": {},
   "source": [
    "Note:\n",
    "    It 'a' is a 2-D array, it extract the diagonal elements.\n",
    "   "
   ]
  },
  {
   "cell_type": "markdown",
   "id": "326b8a28",
   "metadata": {},
   "source": [
    " If 'a' is a 1-D array, it construct a 2-D array with element of 'a' on diagonal.\n",
    "    "
   ]
  },
  {
   "cell_type": "markdown",
   "id": "711f801f",
   "metadata": {},
   "source": [
    "By default, k is 0 use k>0 for diagonals above the main diagonal. Use k<0 for diagonals below main diagonal"
   ]
  },
  {
   "cell_type": "code",
   "execution_count": 125,
   "id": "1cdded6c",
   "metadata": {},
   "outputs": [],
   "source": [
    " import numpy as np                               # to import numpy library\n",
    "    "
   ]
  },
  {
   "cell_type": "code",
   "execution_count": 126,
   "id": "fa273de7",
   "metadata": {},
   "outputs": [
    {
     "name": "stdout",
     "output_type": "stream",
     "text": [
      "[[1 2 3]\n",
      " [4 5 6]\n",
      " [7 8 9]]\n"
     ]
    }
   ],
   "source": [
    "A=np.array([[1,2,3],[4,5,6],[7,8,9]])                                    # Creating a 2-D array of 3x3\n",
    "print(A)"
   ]
  },
  {
   "cell_type": "code",
   "execution_count": 127,
   "id": "f7b21d83",
   "metadata": {},
   "outputs": [
    {
     "data": {
      "text/plain": [
       "2"
      ]
     },
     "execution_count": 127,
     "metadata": {},
     "output_type": "execute_result"
    }
   ],
   "source": [
    "   A.ndim                             # To check the dimensions of an array 'variable'"
   ]
  },
  {
   "cell_type": "code",
   "execution_count": 129,
   "id": "fcd1c0c2",
   "metadata": {},
   "outputs": [
    {
     "data": {
      "text/plain": [
       "array([1, 5, 9])"
      ]
     },
     "execution_count": 129,
     "metadata": {},
     "output_type": "execute_result"
    }
   ],
   "source": [
    "np.diag(A)  # extracting the diagonal element of an array \"\""
   ]
  },
  {
   "cell_type": "code",
   "execution_count": 132,
   "id": "5f10c05a",
   "metadata": {},
   "outputs": [
    {
     "name": "stdout",
     "output_type": "stream",
     "text": [
      "[1 2 3 4]\n"
     ]
    }
   ],
   "source": [
    "B=np.array([1,2,3,4])                                            # Creating an 1-D array\n",
    "print(B)"
   ]
  },
  {
   "cell_type": "code",
   "execution_count": 133,
   "id": "cf2df887",
   "metadata": {},
   "outputs": [
    {
     "data": {
      "text/plain": [
       "1"
      ]
     },
     "execution_count": 133,
     "metadata": {},
     "output_type": "execute_result"
    }
   ],
   "source": [
    "B.ndim                                                # To check the dimension of a \"B\""
   ]
  },
  {
   "cell_type": "code",
   "execution_count": 134,
   "id": "ee1fe28a",
   "metadata": {},
   "outputs": [
    {
     "data": {
      "text/plain": [
       "array([[1, 0, 0, 0],\n",
       "       [0, 2, 0, 0],\n",
       "       [0, 0, 3, 0],\n",
       "       [0, 0, 0, 4]])"
      ]
     },
     "execution_count": 134,
     "metadata": {},
     "output_type": "execute_result"
    }
   ],
   "source": [
    "np.diag(B)                 # Constructing a 2-D diagonal array with elements of array \"B\""
   ]
  },
  {
   "cell_type": "code",
   "execution_count": 135,
   "id": "4f64ec8a",
   "metadata": {},
   "outputs": [
    {
     "data": {
      "text/plain": [
       "array([1, 5, 9])"
      ]
     },
     "execution_count": 135,
     "metadata": {},
     "output_type": "execute_result"
    }
   ],
   "source": [
    "np.diag(A, k=0)                                                # when k=0, it will consider the main diagonal"
   ]
  },
  {
   "cell_type": "code",
   "execution_count": 137,
   "id": "ff3a5972",
   "metadata": {},
   "outputs": [
    {
     "data": {
      "text/plain": [
       "array([3])"
      ]
     },
     "execution_count": 137,
     "metadata": {},
     "output_type": "execute_result"
    }
   ],
   "source": [
    "np.diag(A, k=2)                                                # when k>0, it will consider the upper diagonal"
   ]
  },
  {
   "cell_type": "code",
   "execution_count": 138,
   "id": "f621faee",
   "metadata": {},
   "outputs": [
    {
     "data": {
      "text/plain": [
       "array([4, 8])"
      ]
     },
     "execution_count": 138,
     "metadata": {},
     "output_type": "execute_result"
    }
   ],
   "source": [
    "np.diag(A, k=-1)                                                 # when k<0, it will consider the lower diagonal"
   ]
  },
  {
   "cell_type": "code",
   "execution_count": 140,
   "id": "e302c498",
   "metadata": {},
   "outputs": [
    {
     "data": {
      "text/plain": [
       "array([[1, 0, 0, 0],\n",
       "       [0, 2, 0, 0],\n",
       "       [0, 0, 3, 0],\n",
       "       [0, 0, 0, 4]])"
      ]
     },
     "execution_count": 140,
     "metadata": {},
     "output_type": "execute_result"
    }
   ],
   "source": [
    "np.diag(B, k=0)                                            # When k=0, element will be at main  diagonal"
   ]
  },
  {
   "cell_type": "code",
   "execution_count": 142,
   "id": "5b965be0",
   "metadata": {},
   "outputs": [
    {
     "data": {
      "text/plain": [
       "array([[0, 0, 1, 0, 0, 0],\n",
       "       [0, 0, 0, 2, 0, 0],\n",
       "       [0, 0, 0, 0, 3, 0],\n",
       "       [0, 0, 0, 0, 0, 4],\n",
       "       [0, 0, 0, 0, 0, 0],\n",
       "       [0, 0, 0, 0, 0, 0]])"
      ]
     },
     "execution_count": 142,
     "metadata": {},
     "output_type": "execute_result"
    }
   ],
   "source": [
    "np.diag(B, k=2)                                                        # when k>0, element will be at upper diagonal"
   ]
  },
  {
   "cell_type": "code",
   "execution_count": 143,
   "id": "4e6109d3",
   "metadata": {},
   "outputs": [
    {
     "data": {
      "text/plain": [
       "array([[0, 0, 0, 0, 0, 0, 0, 0, 0],\n",
       "       [0, 0, 0, 0, 0, 0, 0, 0, 0],\n",
       "       [0, 0, 0, 0, 0, 0, 0, 0, 0],\n",
       "       [0, 0, 0, 0, 0, 0, 0, 0, 0],\n",
       "       [0, 0, 0, 0, 0, 0, 0, 0, 0],\n",
       "       [1, 0, 0, 0, 0, 0, 0, 0, 0],\n",
       "       [0, 2, 0, 0, 0, 0, 0, 0, 0],\n",
       "       [0, 0, 3, 0, 0, 0, 0, 0, 0],\n",
       "       [0, 0, 0, 4, 0, 0, 0, 0, 0]])"
      ]
     },
     "execution_count": 143,
     "metadata": {},
     "output_type": "execute_result"
    }
   ],
   "source": [
    " np.diag(B, k=-5)                                                        # when k<0, element will be at upper diagonal"
   ]
  },
  {
   "cell_type": "code",
   "execution_count": 144,
   "id": "cc78742e",
   "metadata": {},
   "outputs": [
    {
     "name": "stdout",
     "output_type": "stream",
     "text": [
      "[[[-0.78484724 -0.51938515 -0.0636538   0.78720242]\n",
      "  [-0.41760246 -0.83016184 -0.84497078 -0.09720181]\n",
      "  [ 0.34196161 -1.16127175  1.30493171  0.75137772]]\n",
      "\n",
      " [[-0.03493324  0.00671907 -0.56996689 -1.08344215]\n",
      "  [-0.12943191 -0.20500946 -0.49176289 -0.89950086]\n",
      "  [-1.63555945  0.46484248  0.9221078  -2.48880376]]]\n"
     ]
    }
   ],
   "source": [
    "x=np.random.randn(2,3,4)                                        # a 3-D random array of shape 2x3x4\n",
    "print(x)"
   ]
  },
  {
   "cell_type": "markdown",
   "id": "9675e476",
   "metadata": {},
   "source": [
    "# 16.v-39== TRANSPOSE FUNCTION IN PYTHON"
   ]
  },
  {
   "cell_type": "markdown",
   "id": "d6bfb056",
   "metadata": {},
   "source": [
    "IT CONVERTS THE ROWS INTO COLUMNS, AND COLUMN INTO ROWS"
   ]
  },
  {
   "cell_type": "markdown",
   "id": "f7190719",
   "metadata": {},
   "source": [
    "SYNTAX:: array.T or\n",
    "        np.transpose(array)"
   ]
  },
  {
   "cell_type": "code",
   "execution_count": 151,
   "id": "b3bd12d1",
   "metadata": {},
   "outputs": [
    {
     "name": "stdout",
     "output_type": "stream",
     "text": [
      "[[2 3 4]\n",
      " [7 8 9]]\n"
     ]
    }
   ],
   "source": [
    "A=np.array([[2,3,4], [7,8,9]])                                               # To import numpy library\n",
    "print(A)"
   ]
  },
  {
   "cell_type": "code",
   "execution_count": 152,
   "id": "d0451b90",
   "metadata": {},
   "outputs": [
    {
     "data": {
      "text/plain": [
       "array([[2, 7],\n",
       "       [3, 8],\n",
       "       [4, 9]])"
      ]
     },
     "execution_count": 152,
     "metadata": {},
     "output_type": "execute_result"
    }
   ],
   "source": [
    "A.T                                                # creating a 2-D array of 2x3"
   ]
  },
  {
   "cell_type": "code",
   "execution_count": 153,
   "id": "c89581d1",
   "metadata": {},
   "outputs": [
    {
     "data": {
      "text/plain": [
       "(2, 3)"
      ]
     },
     "execution_count": 153,
     "metadata": {},
     "output_type": "execute_result"
    }
   ],
   "source": [
    "A.shape                                                # Transpose of an array of 'A'"
   ]
  },
  {
   "cell_type": "code",
   "execution_count": 154,
   "id": "aa4bf47c",
   "metadata": {},
   "outputs": [
    {
     "data": {
      "text/plain": [
       "(3, 2)"
      ]
     },
     "execution_count": 154,
     "metadata": {},
     "output_type": "execute_result"
    }
   ],
   "source": [
    "A.T.shape                                                # Chekcing the original shape of \"A\""
   ]
  },
  {
   "cell_type": "code",
   "execution_count": 155,
   "id": "5f20e8ab",
   "metadata": {},
   "outputs": [
    {
     "data": {
      "text/plain": [
       "array([[2, 7],\n",
       "       [3, 8],\n",
       "       [4, 9]])"
      ]
     },
     "execution_count": 155,
     "metadata": {},
     "output_type": "execute_result"
    }
   ],
   "source": [
    "np.transpose(A)                                                # Checking the shape of A, after the transpose"
   ]
  },
  {
   "cell_type": "code",
   "execution_count": 156,
   "id": "3dcb601e",
   "metadata": {},
   "outputs": [],
   "source": [
    "                                                # alternate command to transpose"
   ]
  },
  {
   "cell_type": "markdown",
   "id": "a9d3cc2b",
   "metadata": {},
   "source": [
    "# TRANSPOSE OF 1-D ARRAY"
   ]
  },
  {
   "cell_type": "code",
   "execution_count": 161,
   "id": "1fdfcb7a",
   "metadata": {},
   "outputs": [
    {
     "name": "stdout",
     "output_type": "stream",
     "text": [
      "[10  9  8  7  6  5]\n"
     ]
    }
   ],
   "source": [
    "B=np.array([10,9,8,7,6,5])                                                        # CREATING A 1-D ARRAY of 6 elements\n",
    "print(B)"
   ]
  },
  {
   "cell_type": "code",
   "execution_count": 162,
   "id": "13917050",
   "metadata": {},
   "outputs": [
    {
     "data": {
      "text/plain": [
       "array([10,  9,  8,  7,  6,  5])"
      ]
     },
     "execution_count": 162,
     "metadata": {},
     "output_type": "execute_result"
    }
   ],
   "source": [
    "B.T                                                        # Transpose of array B"
   ]
  },
  {
   "cell_type": "code",
   "execution_count": 163,
   "id": "8e9c4f2c",
   "metadata": {},
   "outputs": [
    {
     "data": {
      "text/plain": [
       "(6,)"
      ]
     },
     "execution_count": 163,
     "metadata": {},
     "output_type": "execute_result"
    }
   ],
   "source": [
    "B.shape                                                        # Checking the original shape of B\n",
    "    "
   ]
  },
  {
   "cell_type": "code",
   "execution_count": 164,
   "id": "ccf39280",
   "metadata": {},
   "outputs": [
    {
     "data": {
      "text/plain": [
       "(6,)"
      ]
     },
     "execution_count": 164,
     "metadata": {},
     "output_type": "execute_result"
    }
   ],
   "source": [
    "B.T.shape                                                      # Chekcing the shape of B, after the  transpose"
   ]
  },
  {
   "cell_type": "markdown",
   "id": "500bf06a",
   "metadata": {},
   "source": [
    "# TRANSPOSE OF A 3-D ARRAY"
   ]
  },
  {
   "cell_type": "code",
   "execution_count": 168,
   "id": "e5a449f7",
   "metadata": {},
   "outputs": [
    {
     "name": "stdout",
     "output_type": "stream",
     "text": [
      "[[5 6 7]\n",
      " [1 2 3]\n",
      " [7 8 9]]\n"
     ]
    }
   ],
   "source": [
    "C=np.array([[5,6,7],[1,2,3],[7,8,9]])                                        # Creating a 3-D array of 1x3x3 element\n",
    "print(C)"
   ]
  },
  {
   "cell_type": "code",
   "execution_count": 169,
   "id": "0fe5edae",
   "metadata": {},
   "outputs": [
    {
     "data": {
      "text/plain": [
       "array([[5, 1, 7],\n",
       "       [6, 2, 8],\n",
       "       [7, 3, 9]])"
      ]
     },
     "execution_count": 169,
     "metadata": {},
     "output_type": "execute_result"
    }
   ],
   "source": [
    "  C.T                                      # Transpose of array C"
   ]
  },
  {
   "cell_type": "code",
   "execution_count": 171,
   "id": "f7f6fe14",
   "metadata": {},
   "outputs": [
    {
     "data": {
      "text/plain": [
       "(3, 3)"
      ]
     },
     "execution_count": 171,
     "metadata": {},
     "output_type": "execute_result"
    }
   ],
   "source": [
    "C.shape                                        # Checking the original shape of C"
   ]
  },
  {
   "cell_type": "code",
   "execution_count": 172,
   "id": "70c81def",
   "metadata": {},
   "outputs": [
    {
     "data": {
      "text/plain": [
       "(3, 3)"
      ]
     },
     "execution_count": 172,
     "metadata": {},
     "output_type": "execute_result"
    }
   ],
   "source": [
    "C.T.shape                                        # Checking the original shape of C, after the transpose"
   ]
  },
  {
   "cell_type": "markdown",
   "id": "6b8368ce",
   "metadata": {},
   "source": [
    "# 40. UNARY OPERATORS -- Those operators that require only one operand"
   ]
  },
  {
   "cell_type": "markdown",
   "id": "6c889aeb",
   "metadata": {},
   "source": [
    "These function can be applied row-wise or column-wise by setting an 'axis' parameter"
   ]
  },
  {
   "cell_type": "raw",
   "id": "af02819a",
   "metadata": {},
   "source": [
    "Suppose 'a' is an array\n",
    "\n",
    "a.max()"
   ]
  },
  {
   "cell_type": "raw",
   "id": "92d5e4b2",
   "metadata": {},
   "source": [
    "a.max(), a.max(axis=1), a.max(axis=0), a.sum()\n",
    "a.min(), a.min(axis=1), a.min(axis=0), np.sum(a, axis=1)"
   ]
  },
  {
   "cell_type": "code",
   "execution_count": 173,
   "id": "49e4253a",
   "metadata": {},
   "outputs": [],
   "source": [
    "import numpy as np"
   ]
  },
  {
   "cell_type": "code",
   "execution_count": 174,
   "id": "44d692c3",
   "metadata": {},
   "outputs": [
    {
     "name": "stdout",
     "output_type": "stream",
     "text": [
      "[23 24 25 26 29]\n"
     ]
    }
   ],
   "source": [
    "A=np.array([23,24,25,26,29])\n",
    "print(A)"
   ]
  },
  {
   "cell_type": "code",
   "execution_count": 175,
   "id": "29d94b35",
   "metadata": {},
   "outputs": [
    {
     "data": {
      "text/plain": [
       "29"
      ]
     },
     "execution_count": 175,
     "metadata": {},
     "output_type": "execute_result"
    }
   ],
   "source": [
    "A.max()"
   ]
  },
  {
   "cell_type": "code",
   "execution_count": 176,
   "id": "afda577c",
   "metadata": {},
   "outputs": [
    {
     "data": {
      "text/plain": [
       "23"
      ]
     },
     "execution_count": 176,
     "metadata": {},
     "output_type": "execute_result"
    }
   ],
   "source": [
    "A.min()"
   ]
  },
  {
   "cell_type": "code",
   "execution_count": 177,
   "id": "344b71cf",
   "metadata": {},
   "outputs": [
    {
     "data": {
      "text/plain": [
       "127"
      ]
     },
     "execution_count": 177,
     "metadata": {},
     "output_type": "execute_result"
    }
   ],
   "source": [
    "A.sum()"
   ]
  },
  {
   "cell_type": "code",
   "execution_count": 181,
   "id": "250442da",
   "metadata": {},
   "outputs": [
    {
     "name": "stdout",
     "output_type": "stream",
     "text": [
      "[[48 48 50]\n",
      " [79 89 99]]\n"
     ]
    }
   ],
   "source": [
    "B=np.array([[48,48,50],[79,89,99]])\n",
    "print(B)"
   ]
  },
  {
   "cell_type": "code",
   "execution_count": 182,
   "id": "df9ba7a2",
   "metadata": {},
   "outputs": [
    {
     "data": {
      "text/plain": [
       "99"
      ]
     },
     "execution_count": 182,
     "metadata": {},
     "output_type": "execute_result"
    }
   ],
   "source": [
    "B.max()"
   ]
  },
  {
   "cell_type": "code",
   "execution_count": 183,
   "id": "b5990169",
   "metadata": {},
   "outputs": [
    {
     "data": {
      "text/plain": [
       "array([50, 99])"
      ]
     },
     "execution_count": 183,
     "metadata": {},
     "output_type": "execute_result"
    }
   ],
   "source": [
    "B.max(axis=1)"
   ]
  },
  {
   "cell_type": "code",
   "execution_count": 184,
   "id": "1cda3456",
   "metadata": {},
   "outputs": [
    {
     "data": {
      "text/plain": [
       "array([48, 48, 50])"
      ]
     },
     "execution_count": 184,
     "metadata": {},
     "output_type": "execute_result"
    }
   ],
   "source": [
    "B.min(axis=0)"
   ]
  },
  {
   "cell_type": "code",
   "execution_count": 185,
   "id": "658c927b",
   "metadata": {},
   "outputs": [
    {
     "data": {
      "text/plain": [
       "48"
      ]
     },
     "execution_count": 185,
     "metadata": {},
     "output_type": "execute_result"
    }
   ],
   "source": [
    "B.min()"
   ]
  },
  {
   "cell_type": "code",
   "execution_count": 186,
   "id": "cdd90d96",
   "metadata": {},
   "outputs": [
    {
     "data": {
      "text/plain": [
       "array([48, 79])"
      ]
     },
     "execution_count": 186,
     "metadata": {},
     "output_type": "execute_result"
    }
   ],
   "source": [
    "B.min(axis=1)"
   ]
  },
  {
   "cell_type": "code",
   "execution_count": 187,
   "id": "b43825f8",
   "metadata": {},
   "outputs": [
    {
     "data": {
      "text/plain": [
       "array([48, 48, 50])"
      ]
     },
     "execution_count": 187,
     "metadata": {},
     "output_type": "execute_result"
    }
   ],
   "source": [
    "B.min(axis=0)"
   ]
  },
  {
   "cell_type": "code",
   "execution_count": 188,
   "id": "49e34cc6",
   "metadata": {},
   "outputs": [
    {
     "data": {
      "text/plain": [
       "413"
      ]
     },
     "execution_count": 188,
     "metadata": {},
     "output_type": "execute_result"
    }
   ],
   "source": [
    "B.sum()"
   ]
  },
  {
   "cell_type": "code",
   "execution_count": 189,
   "id": "b190d9af",
   "metadata": {},
   "outputs": [
    {
     "data": {
      "text/plain": [
       "array([146, 267])"
      ]
     },
     "execution_count": 189,
     "metadata": {},
     "output_type": "execute_result"
    }
   ],
   "source": [
    "B.sum(axis=1)"
   ]
  },
  {
   "cell_type": "code",
   "execution_count": 190,
   "id": "6a63a879",
   "metadata": {},
   "outputs": [
    {
     "data": {
      "text/plain": [
       "array([127, 137, 149])"
      ]
     },
     "execution_count": 190,
     "metadata": {},
     "output_type": "execute_result"
    }
   ],
   "source": [
    "B.sum(axis=0)"
   ]
  },
  {
   "cell_type": "code",
   "execution_count": 195,
   "id": "6b96ce7c",
   "metadata": {},
   "outputs": [
    {
     "ename": "ValueError",
     "evalue": "cannot reshape array of size 127 into shape (12,13,23)",
     "output_type": "error",
     "traceback": [
      "\u001b[1;31m---------------------------------------------------------------------------\u001b[0m",
      "\u001b[1;31mValueError\u001b[0m                                Traceback (most recent call last)",
      "Cell \u001b[1;32mIn[195], line 1\u001b[0m\n\u001b[1;32m----> 1\u001b[0m c\u001b[38;5;241m=\u001b[39m\u001b[43mnp\u001b[49m\u001b[38;5;241;43m.\u001b[39;49m\u001b[43marange\u001b[49m\u001b[43m(\u001b[49m\u001b[38;5;241;43m127\u001b[39;49m\u001b[43m)\u001b[49m\u001b[38;5;241;43m.\u001b[39;49m\u001b[43mreshape\u001b[49m\u001b[43m(\u001b[49m\u001b[38;5;241;43m12\u001b[39;49m\u001b[43m,\u001b[49m\u001b[38;5;241;43m13\u001b[39;49m\u001b[43m,\u001b[49m\u001b[38;5;241;43m23\u001b[39;49m\u001b[43m)\u001b[49m\n",
      "\u001b[1;31mValueError\u001b[0m: cannot reshape array of size 127 into shape (12,13,23)"
     ]
    }
   ],
   "source": [
    "c=np.arange(127).reshape(12,13,23)"
   ]
  },
  {
   "cell_type": "code",
   "execution_count": 194,
   "id": "3b625187",
   "metadata": {},
   "outputs": [
    {
     "name": "stdout",
     "output_type": "stream",
     "text": [
      "[  0   1   2   3   4   5   6   7   8   9  10  11  12  13  14  15  16  17\n",
      "  18  19  20  21  22  23  24  25  26  27  28  29  30  31  32  33  34  35\n",
      "  36  37  38  39  40  41  42  43  44  45  46  47  48  49  50  51  52  53\n",
      "  54  55  56  57  58  59  60  61  62  63  64  65  66  67  68  69  70  71\n",
      "  72  73  74  75  76  77  78  79  80  81  82  83  84  85  86  87  88  89\n",
      "  90  91  92  93  94  95  96  97  98  99 100 101 102 103 104 105 106 107\n",
      " 108 109 110 111 112 113 114 115 116 117 118 119 120 121 122 123 124 125\n",
      " 126]\n"
     ]
    }
   ],
   "source": [
    "print(c)"
   ]
  },
  {
   "cell_type": "code",
   "execution_count": 196,
   "id": "feba69bd",
   "metadata": {},
   "outputs": [
    {
     "data": {
      "text/plain": [
       "9"
      ]
     },
     "execution_count": 196,
     "metadata": {},
     "output_type": "execute_result"
    }
   ],
   "source": [
    "C.max()"
   ]
  },
  {
   "cell_type": "code",
   "execution_count": 197,
   "id": "f1e17baa",
   "metadata": {},
   "outputs": [
    {
     "data": {
      "text/plain": [
       "5.333333333333333"
      ]
     },
     "execution_count": 197,
     "metadata": {},
     "output_type": "execute_result"
    }
   ],
   "source": [
    "C.mean()"
   ]
  },
  {
   "cell_type": "code",
   "execution_count": 198,
   "id": "5be74906",
   "metadata": {},
   "outputs": [
    {
     "data": {
      "text/plain": [
       "1"
      ]
     },
     "execution_count": 198,
     "metadata": {},
     "output_type": "execute_result"
    }
   ],
   "source": [
    "C.min()"
   ]
  },
  {
   "cell_type": "code",
   "execution_count": 199,
   "id": "6cbced19",
   "metadata": {},
   "outputs": [
    {
     "data": {
      "text/plain": [
       "array([5, 1, 7])"
      ]
     },
     "execution_count": 199,
     "metadata": {},
     "output_type": "execute_result"
    }
   ],
   "source": [
    "C.min(axis=1)"
   ]
  },
  {
   "cell_type": "code",
   "execution_count": 200,
   "id": "81e348e6",
   "metadata": {},
   "outputs": [
    {
     "data": {
      "text/plain": [
       "array([1, 2, 3])"
      ]
     },
     "execution_count": 200,
     "metadata": {},
     "output_type": "execute_result"
    }
   ],
   "source": [
    "C.min(axis=0)"
   ]
  },
  {
   "cell_type": "code",
   "execution_count": 201,
   "id": "34326762",
   "metadata": {},
   "outputs": [
    {
     "data": {
      "text/plain": [
       "array([7, 8, 9])"
      ]
     },
     "execution_count": 201,
     "metadata": {},
     "output_type": "execute_result"
    }
   ],
   "source": [
    "C.max(axis=0)"
   ]
  },
  {
   "cell_type": "code",
   "execution_count": 202,
   "id": "0023e209",
   "metadata": {},
   "outputs": [
    {
     "data": {
      "text/plain": [
       "array([7, 3, 9])"
      ]
     },
     "execution_count": 202,
     "metadata": {},
     "output_type": "execute_result"
    }
   ],
   "source": [
    "C.max(axis=1)"
   ]
  },
  {
   "cell_type": "code",
   "execution_count": 203,
   "id": "176ac157",
   "metadata": {},
   "outputs": [
    {
     "data": {
      "text/plain": [
       "48"
      ]
     },
     "execution_count": 203,
     "metadata": {},
     "output_type": "execute_result"
    }
   ],
   "source": [
    "C.sum()"
   ]
  },
  {
   "cell_type": "code",
   "execution_count": 204,
   "id": "ad0282cc",
   "metadata": {},
   "outputs": [
    {
     "data": {
      "text/plain": [
       "array([18,  6, 24])"
      ]
     },
     "execution_count": 204,
     "metadata": {},
     "output_type": "execute_result"
    }
   ],
   "source": [
    "C.sum(axis=1)"
   ]
  },
  {
   "cell_type": "code",
   "execution_count": 205,
   "id": "bb682fc7",
   "metadata": {},
   "outputs": [
    {
     "data": {
      "text/plain": [
       "array([13, 16, 19])"
      ]
     },
     "execution_count": 205,
     "metadata": {},
     "output_type": "execute_result"
    }
   ],
   "source": [
    "C.sum(axis=0)"
   ]
  },
  {
   "cell_type": "markdown",
   "id": "cdcce4a7",
   "metadata": {},
   "source": [
    "# 41. Vstack and Hstack"
   ]
  },
  {
   "cell_type": "markdown",
   "id": "ed1409da",
   "metadata": {},
   "source": [
    "VERTICAL AND HORIZONTAL"
   ]
  },
  {
   "cell_type": "markdown",
   "id": "e2b08bb3",
   "metadata": {},
   "source": [
    "VSTACK AND HSTACK is used to combine two or more arrays to form a new array"
   ]
  },
  {
   "cell_type": "markdown",
   "id": "8c5b00b8",
   "metadata": {},
   "source": [
    "VSTACK- Combines the arrays vertically"
   ]
  },
  {
   "cell_type": "markdown",
   "id": "fe58e565",
   "metadata": {},
   "source": [
    "HSTACK-Combines the arrays Horizontally"
   ]
  },
  {
   "cell_type": "code",
   "execution_count": 1,
   "id": "a0c5fda4",
   "metadata": {},
   "outputs": [],
   "source": [
    "import numpy as np"
   ]
  },
  {
   "cell_type": "markdown",
   "id": "b7e51f66",
   "metadata": {},
   "source": [
    "# In 1-D Array"
   ]
  },
  {
   "cell_type": "code",
   "execution_count": 3,
   "id": "0de1fbb4",
   "metadata": {},
   "outputs": [],
   "source": [
    "A=np.array([1,2,3,4,5])\n"
   ]
  },
  {
   "cell_type": "code",
   "execution_count": 4,
   "id": "955dfc74",
   "metadata": {},
   "outputs": [],
   "source": [
    "B=np.array([11,22,33,44,55])"
   ]
  },
  {
   "cell_type": "code",
   "execution_count": 5,
   "id": "a1ef94e7",
   "metadata": {},
   "outputs": [
    {
     "data": {
      "text/plain": [
       "array([[ 1,  2,  3,  4,  5],\n",
       "       [11, 22, 33, 44, 55]])"
      ]
     },
     "execution_count": 5,
     "metadata": {},
     "output_type": "execute_result"
    }
   ],
   "source": [
    "np.vstack((A,B))"
   ]
  },
  {
   "cell_type": "code",
   "execution_count": 6,
   "id": "9890687f",
   "metadata": {},
   "outputs": [
    {
     "data": {
      "text/plain": [
       "array([ 1,  2,  3,  4,  5, 11, 22, 33, 44, 55])"
      ]
     },
     "execution_count": 6,
     "metadata": {},
     "output_type": "execute_result"
    }
   ],
   "source": [
    "np.hstack((A,B))"
   ]
  },
  {
   "cell_type": "markdown",
   "id": "fd4b1849",
   "metadata": {},
   "source": [
    "# IN 2-D ARRAY"
   ]
  },
  {
   "cell_type": "code",
   "execution_count": 8,
   "id": "89a2cf8c",
   "metadata": {},
   "outputs": [
    {
     "data": {
      "text/plain": [
       "[[3, 4, 5, 6], [8, 9, 7, 6]]"
      ]
     },
     "execution_count": 8,
     "metadata": {},
     "output_type": "execute_result"
    }
   ],
   "source": [
    "P=([[3,4,5,6],[8,9,7,6]])\n",
    "P"
   ]
  },
  {
   "cell_type": "code",
   "execution_count": 9,
   "id": "6e754f6a",
   "metadata": {},
   "outputs": [
    {
     "data": {
      "text/plain": [
       "[[11, 12, 13, 14], [10, 20, 30, 40]]"
      ]
     },
     "execution_count": 9,
     "metadata": {},
     "output_type": "execute_result"
    }
   ],
   "source": [
    "Q=([[11,12,13,14],[10,20,30,40]])\n",
    "Q"
   ]
  },
  {
   "cell_type": "code",
   "execution_count": 11,
   "id": "1fb2d4c2",
   "metadata": {},
   "outputs": [
    {
     "data": {
      "text/plain": [
       "array([[ 3,  4,  5,  6],\n",
       "       [ 8,  9,  7,  6],\n",
       "       [11, 12, 13, 14],\n",
       "       [10, 20, 30, 40]])"
      ]
     },
     "execution_count": 11,
     "metadata": {},
     "output_type": "execute_result"
    }
   ],
   "source": [
    "V2=np.vstack((P,Q))\n",
    "V2"
   ]
  },
  {
   "cell_type": "code",
   "execution_count": 12,
   "id": "7e063f1f",
   "metadata": {},
   "outputs": [
    {
     "data": {
      "text/plain": [
       "array([[ 3,  4,  5,  6, 11, 12, 13, 14],\n",
       "       [ 8,  9,  7,  6, 10, 20, 30, 40]])"
      ]
     },
     "execution_count": 12,
     "metadata": {},
     "output_type": "execute_result"
    }
   ],
   "source": [
    "V3=np.hstack((P,Q))\n",
    "V3"
   ]
  },
  {
   "cell_type": "markdown",
   "id": "60b2070c",
   "metadata": {},
   "source": [
    "# IN 3-D ARRAY"
   ]
  },
  {
   "cell_type": "code",
   "execution_count": 13,
   "id": "45f73dc8",
   "metadata": {},
   "outputs": [
    {
     "data": {
      "text/plain": [
       "[[2, 3, 4], [4, 5, 6], [8, 9, 10]]"
      ]
     },
     "execution_count": 13,
     "metadata": {},
     "output_type": "execute_result"
    }
   ],
   "source": [
    "N=([[2,3,4],[4,5,6],[8,9,10]])\n",
    "N"
   ]
  },
  {
   "cell_type": "code",
   "execution_count": 14,
   "id": "1521c982",
   "metadata": {},
   "outputs": [
    {
     "data": {
      "text/plain": [
       "[[11, 12, 13], [7, 8, 9], [5, 6, 7]]"
      ]
     },
     "execution_count": 14,
     "metadata": {},
     "output_type": "execute_result"
    }
   ],
   "source": [
    "M=([[11,12,13],[7,8,9],[5,6,7]])\n",
    "M"
   ]
  },
  {
   "cell_type": "code",
   "execution_count": 16,
   "id": "2d611ceb",
   "metadata": {},
   "outputs": [
    {
     "data": {
      "text/plain": [
       "array([[ 2,  3,  4],\n",
       "       [ 4,  5,  6],\n",
       "       [ 8,  9, 10],\n",
       "       [11, 12, 13],\n",
       "       [ 7,  8,  9],\n",
       "       [ 5,  6,  7]])"
      ]
     },
     "execution_count": 16,
     "metadata": {},
     "output_type": "execute_result"
    }
   ],
   "source": [
    "S=np.vstack((N,M))\n",
    "S"
   ]
  },
  {
   "cell_type": "code",
   "execution_count": 17,
   "id": "b9393cc2",
   "metadata": {},
   "outputs": [
    {
     "data": {
      "text/plain": [
       "array([[ 2,  3,  4, 11, 12, 13],\n",
       "       [ 4,  5,  6,  7,  8,  9],\n",
       "       [ 8,  9, 10,  5,  6,  7]])"
      ]
     },
     "execution_count": 17,
     "metadata": {},
     "output_type": "execute_result"
    }
   ],
   "source": [
    "S1=np.hstack((N,M))\n",
    "S1"
   ]
  },
  {
   "cell_type": "code",
   "execution_count": 18,
   "id": "af6d4c73",
   "metadata": {},
   "outputs": [
    {
     "data": {
      "text/plain": [
       "(6, 3)"
      ]
     },
     "execution_count": 18,
     "metadata": {},
     "output_type": "execute_result"
    }
   ],
   "source": [
    "S.shape"
   ]
  },
  {
   "cell_type": "code",
   "execution_count": 19,
   "id": "2669e2d3",
   "metadata": {},
   "outputs": [
    {
     "data": {
      "text/plain": [
       "(3, 6)"
      ]
     },
     "execution_count": 19,
     "metadata": {},
     "output_type": "execute_result"
    }
   ],
   "source": [
    "S1.shape"
   ]
  },
  {
   "cell_type": "markdown",
   "id": "b61a1065",
   "metadata": {},
   "source": [
    "# NUMPY ARRAY INDEXING"
   ]
  },
  {
   "cell_type": "markdown",
   "id": "cbeab922",
   "metadata": {},
   "source": [
    "Indexing is used to obtain particular element(s) or row(s) or coloumn(s) from the numpy array(s)"
   ]
  },
  {
   "cell_type": "code",
   "execution_count": null,
   "id": "17efed6c",
   "metadata": {},
   "outputs": [],
   "source": []
  }
 ],
 "metadata": {
  "kernelspec": {
   "display_name": "Python 3 (ipykernel)",
   "language": "python",
   "name": "python3"
  },
  "language_info": {
   "codemirror_mode": {
    "name": "ipython",
    "version": 3
   },
   "file_extension": ".py",
   "mimetype": "text/x-python",
   "name": "python",
   "nbconvert_exporter": "python",
   "pygments_lexer": "ipython3",
   "version": "3.10.9"
  }
 },
 "nbformat": 4,
 "nbformat_minor": 5
}
